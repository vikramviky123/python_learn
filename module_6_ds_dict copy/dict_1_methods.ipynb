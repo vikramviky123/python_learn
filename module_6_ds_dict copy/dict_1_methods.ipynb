{
 "cells": [
  {
   "cell_type": "markdown",
   "metadata": {},
   "source": [
    "#Dictionary Structures"
   ]
  },
  {
   "cell_type": "code",
   "execution_count": 11,
   "metadata": {},
   "outputs": [],
   "source": [
    "myDict = {\n",
    "    \"fname\" : \"Vikram\",\n",
    "    \"lname\" : \"Reddy\",\n",
    "    \"age\" : 34,\n",
    "    \"runs\" : 10000,\n",
    "    \"wickets\" : 250,\n",
    "    \"odi\" : 106,\n",
    "    \"test\" : 56,\n",
    "    \n",
    "}"
   ]
  },
  {
   "cell_type": "code",
   "execution_count": 12,
   "metadata": {},
   "outputs": [
    {
     "name": "stdout",
     "output_type": "stream",
     "text": [
      "<class 'dict'>\n",
      "{'fname': 'Vikram', 'lname': 'Reddy', 'age': 34, 'runs': 10000, 'wickets': 250, 'odi': 106, 'test': 56}\n"
     ]
    }
   ],
   "source": [
    "print(type(myDict))\n",
    "print(myDict)"
   ]
  },
  {
   "cell_type": "code",
   "execution_count": 13,
   "metadata": {},
   "outputs": [
    {
     "name": "stdout",
     "output_type": "stream",
     "text": [
      "\n",
      "Create a Dictionary by using  dict(): \n",
      "{1: 'Scaler', 2: 'Academy'}\n"
     ]
    }
   ],
   "source": [
    "Dict = dict([(1, 'Scaler'), (2, 'Academy')])   \n",
    "print(\"\\nCreate a Dictionary by using  dict(): \")   \n",
    "print(Dict)"
   ]
  },
  {
   "cell_type": "markdown",
   "metadata": {},
   "source": [
    "#finding keys"
   ]
  },
  {
   "cell_type": "code",
   "execution_count": 14,
   "metadata": {},
   "outputs": [
    {
     "name": "stdout",
     "output_type": "stream",
     "text": [
      "fname\n",
      "lname\n",
      "age\n",
      "runs\n",
      "wickets\n",
      "odi\n",
      "test\n"
     ]
    }
   ],
   "source": [
    "for keys in myDict.keys():\n",
    "    print(keys)"
   ]
  },
  {
   "cell_type": "code",
   "execution_count": 15,
   "metadata": {},
   "outputs": [
    {
     "name": "stdout",
     "output_type": "stream",
     "text": [
      "Vikram\n",
      "Reddy\n",
      "34\n",
      "10000\n",
      "250\n",
      "106\n",
      "56\n"
     ]
    }
   ],
   "source": [
    "for values in myDict.values():\n",
    "    print(values)"
   ]
  },
  {
   "cell_type": "code",
   "execution_count": 21,
   "metadata": {},
   "outputs": [
    {
     "data": {
      "text/plain": [
       "{'fname': 'Vikram',\n",
       " 'lname': 'Reddy',\n",
       " 'age': 34,\n",
       " 'runs': 10000,\n",
       " 'wickets': 250,\n",
       " 'odi': 106}"
      ]
     },
     "execution_count": 21,
     "metadata": {},
     "output_type": "execute_result"
    }
   ],
   "source": [
    "myDict"
   ]
  },
  {
   "cell_type": "code",
   "execution_count": 29,
   "metadata": {},
   "outputs": [
    {
     "name": "stdout",
     "output_type": "stream",
     "text": [
      "fname --> Vikram\n",
      "lname --> Reddy\n",
      "age --> 34\n",
      "runs --> 10000\n",
      "wickets --> 250\n",
      "odi --> 106\n",
      "test --> 56\n"
     ]
    }
   ],
   "source": [
    "for keys,values in myDict.items():\n",
    "    print(keys,\"-->\",values)"
   ]
  },
  {
   "cell_type": "code",
   "execution_count": 30,
   "metadata": {},
   "outputs": [
    {
     "data": {
      "text/plain": [
       "'Vikram'"
      ]
     },
     "execution_count": 30,
     "metadata": {},
     "output_type": "execute_result"
    }
   ],
   "source": [
    "myDict[\"fname\"]"
   ]
  },
  {
   "cell_type": "code",
   "execution_count": 31,
   "metadata": {},
   "outputs": [
    {
     "name": "stdout",
     "output_type": "stream",
     "text": [
      "250\n"
     ]
    }
   ],
   "source": [
    "print(myDict.get(\"wickets\"))"
   ]
  },
  {
   "cell_type": "markdown",
   "metadata": {},
   "source": [
    "#Methods"
   ]
  },
  {
   "cell_type": "code",
   "execution_count": 32,
   "metadata": {},
   "outputs": [],
   "source": [
    "del myDict[\"age\"]"
   ]
  },
  {
   "cell_type": "code",
   "execution_count": 33,
   "metadata": {},
   "outputs": [
    {
     "data": {
      "text/plain": [
       "{'fname': 'Vikram',\n",
       " 'lname': 'Reddy',\n",
       " 'runs': 10000,\n",
       " 'wickets': 250,\n",
       " 'odi': 106,\n",
       " 'test': 56}"
      ]
     },
     "execution_count": 33,
     "metadata": {},
     "output_type": "execute_result"
    }
   ],
   "source": [
    "myDict"
   ]
  },
  {
   "cell_type": "code",
   "execution_count": 34,
   "metadata": {},
   "outputs": [
    {
     "data": {
      "text/plain": [
       "{'fname': 'Vikram',\n",
       " 'lname': 'Reddy',\n",
       " 'runs': 10000,\n",
       " 'wickets': 250,\n",
       " 'odi': 106,\n",
       " 'test': 56}"
      ]
     },
     "execution_count": 34,
     "metadata": {},
     "output_type": "execute_result"
    }
   ],
   "source": [
    "myDict_comp = {keys:values for keys,values in myDict.items()}\n",
    "myDict_comp"
   ]
  },
  {
   "cell_type": "code",
   "execution_count": 35,
   "metadata": {},
   "outputs": [
    {
     "data": {
      "text/plain": [
       "'Vikram'"
      ]
     },
     "execution_count": 35,
     "metadata": {},
     "output_type": "execute_result"
    }
   ],
   "source": [
    "myDict.pop(\"fname\")"
   ]
  },
  {
   "cell_type": "code",
   "execution_count": 36,
   "metadata": {},
   "outputs": [
    {
     "data": {
      "text/plain": [
       "{}"
      ]
     },
     "execution_count": 36,
     "metadata": {},
     "output_type": "execute_result"
    }
   ],
   "source": [
    "myDict.clear()\n",
    "myDict"
   ]
  },
  {
   "cell_type": "code",
   "execution_count": 32,
   "metadata": {},
   "outputs": [
    {
     "name": "stdout",
     "output_type": "stream",
     "text": [
      "1\n",
      "12\n",
      "123\n",
      "1234\n",
      "12345\n"
     ]
    }
   ],
   "source": [
    "N = 5\n",
    "for i in range(1,N+1):\n",
    "    for j in range(1,i+1,1):\n",
    "        print(j,end=\"\")\n",
    "    print()\n",
    "    "
   ]
  },
  {
   "cell_type": "code",
   "execution_count": 35,
   "metadata": {},
   "outputs": [
    {
     "name": "stdout",
     "output_type": "stream",
     "text": [
      "1\n",
      "121\n",
      "12321\n",
      "1234321\n",
      "123454321\n",
      "12345654321\n"
     ]
    }
   ],
   "source": [
    "for i in range(1,6+1):\n",
    "    print((((10**i) - 1)**2) // 81)\n",
    "    "
   ]
  }
 ],
 "metadata": {
  "kernelspec": {
   "display_name": "Python 3",
   "language": "python",
   "name": "python3"
  },
  "language_info": {
   "codemirror_mode": {
    "name": "ipython",
    "version": 3
   },
   "file_extension": ".py",
   "mimetype": "text/x-python",
   "name": "python",
   "nbconvert_exporter": "python",
   "pygments_lexer": "ipython3",
   "version": "3.9.13"
  },
  "orig_nbformat": 4
 },
 "nbformat": 4,
 "nbformat_minor": 2
}
