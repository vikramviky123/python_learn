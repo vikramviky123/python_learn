{
 "cells": [
  {
   "cell_type": "markdown",
   "metadata": {},
   "source": [
    "#Implicit\n",
    "\n",
    "In Implicit type conversion, Python automatically converts one data type to another data type without any user's need."
   ]
  },
  {
   "cell_type": "markdown",
   "metadata": {},
   "source": [
    "Data types of variables are the kind of data a variable holds. Python has four basic data types, among others :\n",
    "\n",
    "Integer\n",
    "\n",
    "Float\n",
    "\n",
    "String\n",
    "\n",
    "Boolean"
   ]
  },
  {
   "cell_type": "code",
   "execution_count": 1,
   "metadata": {},
   "outputs": [
    {
     "name": "stdout",
     "output_type": "stream",
     "text": [
      "Data type of num1:  <class 'int'> | num2:  <class 'float'>\n",
      "Value of res:  14.2 Data type:  <class 'float'>\n"
     ]
    }
   ],
   "source": [
    "num1 = 2\n",
    "num2 = 12.2\n",
    "res = num1 + num2\n",
    "print(\"Data type of num1: \", type(num1),\"| num2: \", type(num2))\n",
    "print(\"Value of res: \", res,\"Data type: \", type(res))\n"
   ]
  },
  {
   "cell_type": "markdown",
   "metadata": {},
   "source": [
    "While performing any operations on variables that have different data types in Python, one of the variable's data types will be changed to the higher data type among the two variables, and then the operation is completed. This automatic conversion of data types done by the interpreter is called implicit type conversion. It does not have any involvement of the user."
   ]
  },
  {
   "cell_type": "markdown",
   "metadata": {},
   "source": [
    "#Explicit"
   ]
  },
  {
   "cell_type": "markdown",
   "metadata": {},
   "source": [
    "We transform an object's data type to the desired data type using explicit type conversion. To achieve explicit type conversion, we use predefined functions like int(), float(), str(), etc. Due to the user's casting (changing) of the objects' data types, this form of conversion is also known as typecasting."
   ]
  },
  {
   "cell_type": "markdown",
   "metadata": {},
   "source": [
    "The conversion of one data type into another, done via user intervention or manually as per the requirement, is known as explicit type conversion. It can be achieved with the help of Python’s built-in type conversion functions such as int(), float(), hex(), etc.\n",
    "\n",
    "Functions\n",
    "\n",
    "int()\n",
    "float()\n",
    "ord()\n",
    "float()\n",
    "hex()\n",
    "oct()\n",
    "tuple()\n",
    "set()\n",
    "list()\n",
    "dict()\n",
    "str()"
   ]
  },
  {
   "cell_type": "code",
   "execution_count": 24,
   "metadata": {},
   "outputs": [
    {
     "name": "stdout",
     "output_type": "stream",
     "text": [
      "0b1010\n",
      "<class 'str'>\n"
     ]
    }
   ],
   "source": [
    "decimal_number = 10\n",
    "binary_string = bin(decimal_number)\n",
    "print(binary_string)  # Output: '0b1010'\n",
    "print(type(binary_string))\n"
   ]
  },
  {
   "cell_type": "code",
   "execution_count": 3,
   "metadata": {},
   "outputs": [
    {
     "name": "stdout",
     "output_type": "stream",
     "text": [
      "Ascii value of character 'A':  97\n",
      "Ascii value of character digit '5':  53\n"
     ]
    }
   ],
   "source": [
    "alphabet = ord('a')\n",
    "number = ord('5')\n",
    "print(\"Ascii value of character 'A': \",alphabet)\n",
    "print(\"Ascii value of character digit '5': \",number)"
   ]
  },
  {
   "cell_type": "code",
   "execution_count": 4,
   "metadata": {},
   "outputs": [
    {
     "name": "stdout",
     "output_type": "stream",
     "text": [
      "a\n",
      "5\n"
     ]
    }
   ],
   "source": [
    "print(chr(97))\n",
    "print(chr(53))"
   ]
  },
  {
   "cell_type": "code",
   "execution_count": 22,
   "metadata": {},
   "outputs": [
    {
     "name": "stdout",
     "output_type": "stream",
     "text": [
      "0o100\n"
     ]
    }
   ],
   "source": [
    "decimal_number = 64\n",
    "octal_representation = oct(decimal_number)\n",
    "print(octal_representation)  # Output: '0o100'"
   ]
  },
  {
   "cell_type": "code",
   "execution_count": 20,
   "metadata": {},
   "outputs": [
    {
     "name": "stdout",
     "output_type": "stream",
     "text": [
      "0xff\n"
     ]
    }
   ],
   "source": [
    "decimal_number = 255\n",
    "hexadecimal_representation = hex(decimal_number)\n",
    "print(hexadecimal_representation)  # Output: '0xff'\n"
   ]
  },
  {
   "cell_type": "code",
   "execution_count": 7,
   "metadata": {},
   "outputs": [
    {
     "name": "stdout",
     "output_type": "stream",
     "text": [
      "Integer type-casted into hexadecimal string is:  0x2d\n"
     ]
    }
   ],
   "source": [
    "# int to hex\n",
    "num = 45\n",
    "conv_num = hex(num)\n",
    "print(\"Integer type-casted into hexadecimal string is: \",conv_num)"
   ]
  },
  {
   "cell_type": "code",
   "execution_count": 18,
   "metadata": {},
   "outputs": [
    {
     "name": "stdout",
     "output_type": "stream",
     "text": [
      "45\n"
     ]
    }
   ],
   "source": [
    "conv_num= int(0x2d)\n",
    "print(conv_num)"
   ]
  },
  {
   "cell_type": "code",
   "execution_count": 8,
   "metadata": {},
   "outputs": [
    {
     "name": "stdout",
     "output_type": "stream",
     "text": [
      "['a', 'b', 'c', 'd', 'e']\n"
     ]
    }
   ],
   "source": [
    "char_lst = []\n",
    "for i in range(5):\n",
    "    char_lst.append(chr(97+i))\n",
    "print(char_lst)"
   ]
  },
  {
   "cell_type": "code",
   "execution_count": 9,
   "metadata": {},
   "outputs": [
    {
     "name": "stdout",
     "output_type": "stream",
     "text": [
      "17 17\n",
      "9 9\n"
     ]
    }
   ],
   "source": [
    "print(len(\"e-d-c-b-a-b-c-d-e\"),2*5+(5-1)*2-1)\n",
    "print(len(\"c-b-a-b-c\"),2*3+(3-1)*2-1)"
   ]
  },
  {
   "cell_type": "code",
   "execution_count": 10,
   "metadata": {},
   "outputs": [
    {
     "name": "stdout",
     "output_type": "stream",
     "text": [
      "The factorial of 5 is: 120\n"
     ]
    }
   ],
   "source": [
    "def extraLongFactorials(n):\n",
    "    if n == 0 or n == 1:\n",
    "        return 1\n",
    "    return n * extraLongFactorials(n - 1)\n",
    "\n",
    "n = int(input(\"Enter a number: \"))\n",
    "result = extraLongFactorials(n)\n",
    "print(f\"The factorial of {n} is: {result}\")"
   ]
  },
  {
   "cell_type": "code",
   "execution_count": null,
   "metadata": {},
   "outputs": [],
   "source": []
  },
  {
   "cell_type": "code",
   "execution_count": 12,
   "metadata": {},
   "outputs": [
    {
     "name": "stdout",
     "output_type": "stream",
     "text": [
      "[6, 4, 2, 1]\n"
     ]
    }
   ],
   "source": [
    "ranked = [100, 100, 50, 40, 40, 20, 10]\n",
    "players = [5, 25, 50, 120]\n",
    "\n",
    "# Remove duplicate scores, sort in reverse order\n",
    "unique_ranked = sorted(set(ranked), reverse=True)\n",
    "\n",
    "rank_list = []\n",
    "player_idx = len(unique_ranked) - 1  # Index to keep track of player scores\n",
    "\n",
    "# Iterate through the unique ranked scores\n",
    "for player in players:\n",
    "    while player_idx >= 0 and player >= unique_ranked[player_idx]:\n",
    "        player_idx -= 1\n",
    "    rank_list.append(player_idx + 2)  # +2 because rank starts from 1\n",
    "\n",
    "# Print the rank list\n",
    "print(rank_list)\n"
   ]
  },
  {
   "cell_type": "code",
   "execution_count": 13,
   "metadata": {},
   "outputs": [
    {
     "data": {
      "text/plain": [
       "[100, 50, 40, 20, 10]"
      ]
     },
     "execution_count": 13,
     "metadata": {},
     "output_type": "execute_result"
    }
   ],
   "source": [
    "unique_ranked"
   ]
  },
  {
   "cell_type": "code",
   "execution_count": null,
   "metadata": {},
   "outputs": [],
   "source": [
    "\n"
   ]
  },
  {
   "cell_type": "code",
   "execution_count": 14,
   "metadata": {},
   "outputs": [
    {
     "name": "stdout",
     "output_type": "stream",
     "text": [
      "10 3 4\n",
      "10 3 4\n",
      "num of elements in lastrow : 2\n",
      "['f', 'e', 'e', 'd', 't', 'h', 'e', 'd', 'o', 'g']\n",
      "['ft', 'eh', 'ee', 'dd']\n",
      "['o', 'g']\n",
      "['fto', 'ehg', 'ee', 'dd']\n"
     ]
    }
   ],
   "source": [
    "import math\n",
    "string_ = \"feedthedog\"\n",
    "ll = len(string_)\n",
    "\n",
    "\n",
    "rows = math.floor(pow(ll,0.5))\n",
    "cols = math.ceil(pow(ll,0.5))\n",
    "print(ll,rows,cols)\n",
    "#-------------------\n",
    "if ll>rows*cols:\n",
    "    rows = cols\n",
    "print(ll,rows,cols)\n",
    "#-------------------\n",
    "lastrw_elem =  ll - (rows-1)*cols\n",
    "if lastrw_elem ==0:\n",
    "    lastrw_elem=cols\n",
    "print(\"num of elements in lastrow :\",lastrw_elem)\n",
    "\n",
    "count = 0\n",
    "str_lst = [char for char in string_]\n",
    "print(str_lst)\n",
    "sup_lst = []\n",
    "nw_lst = []\n",
    "\n",
    "# -1 i want three rows out pf four\n",
    "for i in range(cols):\n",
    "    temp_lst = [string_[j*cols+i] for j in range(rows-1)]\n",
    "    nw_lst.append(\"\".join(temp_lst))\n",
    "\n",
    "print(nw_lst)\n",
    "#-----------------------------------------\n",
    "last_lst = str_lst[-lastrw_elem:]\n",
    "print(last_lst)\n",
    "ll_len = len(last_lst)\n",
    "\n",
    "for x in range(ll_len):\n",
    "    nw_lst[x] = nw_lst[x] +last_lst[x]\n",
    "print(nw_lst)\n",
    "    "
   ]
  },
  {
   "cell_type": "code",
   "execution_count": 16,
   "metadata": {},
   "outputs": [],
   "source": [
    "import math\n",
    "string_ = \"feedthedog\"\n",
    "\n",
    "ll = len(string_) - 1\n",
    "a = math.floor(pow(ll,0.5))\n",
    "b = math.ceil(pow(ll,0.5))\n",
    "\n",
    "\n",
    "count = 0\n",
    "str_lst = [char for char in string_]\n",
    "sup_lst = []\n",
    "for i in range(b-1):\n",
    "    nw_lst = []\n",
    "    for j in range(a):\n",
    "        nw_lst.append(str_lst[j*b+i])\n",
    "    sup_lst.append(\"\".join(nw_lst))\n",
    "\n",
    "\n",
    "extra_len = a*b - ll-1\n",
    "\n",
    "nw_lst = []\n",
    "if extra_len != 0:\n",
    "    for x in range(1,b-extra_len):\n",
    "        nw_lst.append(str_lst[x*b-1])\n",
    "        nw_str = \"\".join(nw_lst)\n",
    "    sup_lst.append(nw_str)\n",
    "\n",
    "else:\n",
    "    extra_len = a\n",
    "    for x in range(1,extra_len+1):\n",
    "        nw_lst.append(str_lst[x*b-1])\n",
    "        nw_str = \"\".join(nw_lst)\n",
    "    sup_lst.append(nw_str)\n",
    "\n"
   ]
  },
  {
   "cell_type": "code",
   "execution_count": 17,
   "metadata": {},
   "outputs": [
    {
     "name": "stdout",
     "output_type": "stream",
     "text": [
      "['fde', 'etd', 'eho']\n"
     ]
    }
   ],
   "source": [
    "print(sup_lst)"
   ]
  },
  {
   "cell_type": "code",
   "execution_count": null,
   "metadata": {},
   "outputs": [],
   "source": []
  },
  {
   "cell_type": "code",
   "execution_count": null,
   "metadata": {},
   "outputs": [],
   "source": []
  }
 ],
 "metadata": {
  "kernelspec": {
   "display_name": "Python 3",
   "language": "python",
   "name": "python3"
  },
  "language_info": {
   "codemirror_mode": {
    "name": "ipython",
    "version": 3
   },
   "file_extension": ".py",
   "mimetype": "text/x-python",
   "name": "python",
   "nbconvert_exporter": "python",
   "pygments_lexer": "ipython3",
   "version": "3.9.13"
  },
  "orig_nbformat": 4
 },
 "nbformat": 4,
 "nbformat_minor": 2
}
