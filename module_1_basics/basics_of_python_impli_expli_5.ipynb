{
 "cells": [
  {
   "cell_type": "markdown",
   "metadata": {},
   "source": [
    "#Implicit\n",
    "\n",
    "In Implicit type conversion, Python automatically converts one data type to another data type without any user's need."
   ]
  },
  {
   "cell_type": "markdown",
   "metadata": {},
   "source": [
    "Data types of variables are the kind of data a variable holds. Python has four basic data types, among others :\n",
    "\n",
    "Integer\n",
    "\n",
    "Float\n",
    "\n",
    "String\n",
    "\n",
    "Boolean"
   ]
  },
  {
   "cell_type": "code",
   "execution_count": 5,
   "metadata": {},
   "outputs": [
    {
     "name": "stdout",
     "output_type": "stream",
     "text": [
      "Data type of num1:  <class 'int'> | num2:  <class 'float'>\n",
      "Value of res:  14.2 Data type:  <class 'float'>\n"
     ]
    }
   ],
   "source": [
    "num1 = 2\n",
    "num2 = 12.2\n",
    "res = num1 + num2\n",
    "print(\"Data type of num1: \", type(num1),\"| num2: \", type(num2))\n",
    "print(\"Value of res: \", res,\"Data type: \", type(res))\n"
   ]
  },
  {
   "cell_type": "markdown",
   "metadata": {},
   "source": [
    "While performing any operations on variables that have different data types in Python, one of the variable's data types will be changed to the higher data type among the two variables, and then the operation is completed. This automatic conversion of data types done by the interpreter is called implicit type conversion. It does not have any involvement of the user."
   ]
  },
  {
   "cell_type": "markdown",
   "metadata": {},
   "source": [
    "#Explicit"
   ]
  },
  {
   "cell_type": "markdown",
   "metadata": {},
   "source": [
    "We transform an object's data type to the desired data type using explicit type conversion. To achieve explicit type conversion, we use predefined functions like int(), float(), str(), etc. Due to the user's casting (changing) of the objects' data types, this form of conversion is also known as typecasting."
   ]
  },
  {
   "cell_type": "markdown",
   "metadata": {},
   "source": [
    "The conversion of one data type into another, done via user intervention or manually as per the requirement, is known as explicit type conversion. It can be achieved with the help of Python’s built-in type conversion functions such as int(), float(), hex(), etc.\n",
    "\n",
    "Functions\n",
    "\n",
    "int()\n",
    "float()\n",
    "ord()\n",
    "float()\n",
    "hex()\n",
    "oct()\n",
    "tuple()\n",
    "set()\n",
    "list()\n",
    "dict()\n",
    "str()"
   ]
  },
  {
   "cell_type": "code",
   "execution_count": 6,
   "metadata": {},
   "outputs": [
    {
     "ename": "SyntaxError",
     "evalue": "leading zeros in decimal integer literals are not permitted; use an 0o prefix for octal integers (1145517367.py, line 1)",
     "output_type": "error",
     "traceback": [
      "\u001b[1;36m  Cell \u001b[1;32mIn[6], line 1\u001b[1;36m\u001b[0m\n\u001b[1;33m    conv_num= int(02xd)\u001b[0m\n\u001b[1;37m                   ^\u001b[0m\n\u001b[1;31mSyntaxError\u001b[0m\u001b[1;31m:\u001b[0m leading zeros in decimal integer literals are not permitted; use an 0o prefix for octal integers\n"
     ]
    }
   ],
   "source": [
    "conv_num= int(02xd)\n",
    "print(conv_num)"
   ]
  },
  {
   "cell_type": "code",
   "execution_count": 8,
   "metadata": {},
   "outputs": [
    {
     "name": "stdout",
     "output_type": "stream",
     "text": [
      "Ascii value of character 'A':  65\n",
      "Ascii value of character digit '5':  53\n"
     ]
    }
   ],
   "source": [
    "alphabet = ord('A')\n",
    "number = ord('5')\n",
    "print(\"Ascii value of character 'A': \",alphabet)\n",
    "print(\"Ascii value of character digit '5': \",number)"
   ]
  },
  {
   "cell_type": "code",
   "execution_count": 9,
   "metadata": {},
   "outputs": [
    {
     "name": "stdout",
     "output_type": "stream",
     "text": [
      "Integer type-casted into hexadecimal string is:  0x2d\n"
     ]
    }
   ],
   "source": [
    "# int to hex\n",
    "num = 45\n",
    "conv_num = hex(num)\n",
    "print(\"Integer type-casted into hexadecimal string is: \",conv_num)"
   ]
  },
  {
   "cell_type": "code",
   "execution_count": null,
   "metadata": {},
   "outputs": [],
   "source": []
  }
 ],
 "metadata": {
  "kernelspec": {
   "display_name": "Python 3",
   "language": "python",
   "name": "python3"
  },
  "language_info": {
   "codemirror_mode": {
    "name": "ipython",
    "version": 3
   },
   "file_extension": ".py",
   "mimetype": "text/x-python",
   "name": "python",
   "nbconvert_exporter": "python",
   "pygments_lexer": "ipython3",
   "version": "3.9.13"
  },
  "orig_nbformat": 4
 },
 "nbformat": 4,
 "nbformat_minor": 2
}
