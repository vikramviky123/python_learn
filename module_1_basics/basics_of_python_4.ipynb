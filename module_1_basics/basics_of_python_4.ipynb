{
 "cells": [
  {
   "cell_type": "markdown",
   "metadata": {},
   "source": [
    "#Special operators:\n",
    "\n",
    "Python defines the following 2 special operators\n",
    "\n",
    "1. Identity Operators\n",
    "2. Membership operators"
   ]
  },
  {
   "cell_type": "markdown",
   "metadata": {},
   "source": [
    "()  Parenthesis\n",
    "\n",
    "**  exponential operator\n",
    "\n",
    "~,-  Bitwise complement operator,unary minus operator\n",
    "\n",
    "*,/,%,//  multiplication,division,modulo,floor division\n",
    "\n",
    "+,-  addition,subtraction\n",
    "\n",
    "<<,>>  Left and Right Shift\n",
    "\n",
    "&  bitwise And\n"
   ]
  },
  {
   "cell_type": "markdown",
   "metadata": {},
   "source": [
    "----------------------------------------------------------------------------------------\n",
    "^  Bitwise X-OR\n",
    "\n",
    "|  Bitwise OR\n",
    "\n",
    ">,>=,<,<=, ==, != ==>Relational or Comparison operators\n",
    "\n",
    "=,+=,-=,*=... ==>Assignment operators\n",
    "\n",
    "is , is not  Identity Operators\n",
    "\n",
    "in , not in  Membership operators\n",
    "\n",
    "not  Logical not\n",
    "\n",
    "and  Logical and\n",
    "\n",
    "or  Logical or"
   ]
  },
  {
   "cell_type": "code",
   "execution_count": null,
   "metadata": {},
   "outputs": [],
   "source": []
  }
 ],
 "metadata": {
  "kernelspec": {
   "display_name": "Python 3",
   "language": "python",
   "name": "python3"
  },
  "language_info": {
   "codemirror_mode": {
    "name": "ipython",
    "version": 3
   },
   "file_extension": ".py",
   "mimetype": "text/x-python",
   "name": "python",
   "nbconvert_exporter": "python",
   "pygments_lexer": "ipython3",
   "version": "3.9.13"
  },
  "orig_nbformat": 4
 },
 "nbformat": 4,
 "nbformat_minor": 2
}
