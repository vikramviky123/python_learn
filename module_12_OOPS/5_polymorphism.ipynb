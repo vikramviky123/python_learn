{
 "cells": [
  {
   "cell_type": "markdown",
   "metadata": {},
   "source": [
    "Related to polymorphism the following 4 topics are important\n",
    "\n",
    "1. Duck Typing Philosophy of Python\n",
    "\n",
    "2. Overloading\n",
    "\n",
    " a. Operator Overloading\n",
    "\n",
    " b. Method Overloading  XXX\n",
    " \n",
    " c. Constructor Overloading XXX\n",
    " \n",
    "3. Overriding\n",
    "\n",
    " a. Method overriding\n",
    " \n",
    " b. constructor overridin"
   ]
  },
  {
   "cell_type": "code",
   "execution_count": null,
   "metadata": {},
   "outputs": [],
   "source": []
  },
  {
   "cell_type": "markdown",
   "metadata": {},
   "source": [
    "#Polymorphism\n",
    "\n",
    "Same method but different arguments"
   ]
  },
  {
   "cell_type": "code",
   "execution_count": 36,
   "metadata": {},
   "outputs": [
    {
     "name": "stdout",
     "output_type": "stream",
     "text": [
      "Grumpy\n",
      "Meow\n",
      "Happy\n",
      "Woof\n"
     ]
    }
   ],
   "source": [
    "class Cat:\n",
    "    def mood(self): \n",
    "       print(\"Grumpy\") \n",
    "    def sound(self): \n",
    "       print(\"Meow\") \n",
    " \n",
    "class Dog:\n",
    "    def mood(self): \n",
    "       print(\"Happy\") \n",
    "    def sound(self): \n",
    "       print(\"Woof\") \n",
    " \n",
    "hello_kitty = Cat()\n",
    "hello_puppy = Dog()\n",
    " \n",
    "for pet in (hello_kitty, hello_puppy):\n",
    "    pet.mood()\n",
    "    pet.sound()\n"
   ]
  },
  {
   "cell_type": "markdown",
   "metadata": {},
   "source": [
    "#Operator Overloading"
   ]
  },
  {
   "cell_type": "code",
   "execution_count": 4,
   "metadata": {},
   "outputs": [
    {
     "name": "stdout",
     "output_type": "stream",
     "text": [
      "30\n",
      "Vikram_Reddy\n",
      "230\n",
      "Vikram_Reddy Vikram_Reddy Vikram_Reddy \n"
     ]
    }
   ],
   "source": [
    "#Operator OverLoading\n",
    "# Same operator multiple purpose is called operator overloading\n",
    "print(10+20)\n",
    "print(\"Vikram_\"+\"Reddy\")\n",
    "\n",
    "print(10*23)\n",
    "print((\"Vikram_\"+\"Reddy \")*3)"
   ]
  },
  {
   "cell_type": "code",
   "execution_count": 6,
   "metadata": {},
   "outputs": [
    {
     "ename": "TypeError",
     "evalue": "unsupported operand type(s) for +: 'Book' and 'Book'",
     "output_type": "error",
     "traceback": [
      "\u001b[1;31m---------------------------------------------------------------------------\u001b[0m",
      "\u001b[1;31mTypeError\u001b[0m                                 Traceback (most recent call last)",
      "Cell \u001b[1;32mIn[6], line 8\u001b[0m\n\u001b[0;32m      5\u001b[0m b1\u001b[39m=\u001b[39mBook(\u001b[39m100\u001b[39m)\n\u001b[0;32m      6\u001b[0m b2\u001b[39m=\u001b[39mBook(\u001b[39m200\u001b[39m)\n\u001b[1;32m----> 8\u001b[0m \u001b[39mprint\u001b[39m(b1 \u001b[39m+\u001b[39;49m b2)\n",
      "\u001b[1;31mTypeError\u001b[0m: unsupported operand type(s) for +: 'Book' and 'Book'"
     ]
    }
   ],
   "source": [
    "class Book:\n",
    "    def __init__(self,pages):\n",
    "        self.pages= pages\n",
    "\n",
    "b1=Book(100)\n",
    "b2=Book(200)\n",
    "\n",
    "print(b1 + b2)       "
   ]
  },
  {
   "cell_type": "markdown",
   "metadata": {},
   "source": [
    "We can overload + operator to work with Book objects also. i.e Python supports Operator \n",
    "Overloading.\n",
    "\n",
    "For every operator Magic Methods are available. To overload any operator we have to override \n",
    "that Method in our class. \n",
    "\n",
    "Internally + operator is implemented by using __add__() method.This method is called magic \n",
    "method for + operator. We have to override this method in our class."
   ]
  },
  {
   "cell_type": "code",
   "execution_count": 29,
   "metadata": {},
   "outputs": [
    {
     "name": "stdout",
     "output_type": "stream",
     "text": [
      "300\n",
      "-100\n",
      "20000\n",
      "Number of pages:100\n"
     ]
    }
   ],
   "source": [
    "#Operator Overloading by Magic Methods\n",
    "class Book:\n",
    "    def __init__(self,pages):\n",
    "        self.pages= pages\n",
    "    def __add__(self,other):\n",
    "        return self.pages+other.pages\n",
    "    def __sub__(self,other):\n",
    "        return self.pages-other.pages\n",
    "    def __mul__(self,other):\n",
    "        return self.pages*other.pages\n",
    "    def __str__(self)-> str:\n",
    "        return \"Number of pages:\"+str(self.pages)\n",
    "        \n",
    "\n",
    "b1=Book(100)\n",
    "b2=Book(200)\n",
    "b3=Book(300)\n",
    "\n",
    "print(b1 + b2)   \n",
    "print(b1 - b2)   \n",
    "print(b1 * b2)\n",
    "print(b1)   \n",
    "  "
   ]
  },
  {
   "cell_type": "code",
   "execution_count": 23,
   "metadata": {},
   "outputs": [
    {
     "data": {
      "text/plain": [
       "['__add__',\n",
       " '__class__',\n",
       " '__delattr__',\n",
       " '__dict__',\n",
       " '__dir__',\n",
       " '__doc__',\n",
       " '__eq__',\n",
       " '__format__',\n",
       " '__ge__',\n",
       " '__getattribute__',\n",
       " '__gt__',\n",
       " '__hash__',\n",
       " '__init__',\n",
       " '__init_subclass__',\n",
       " '__le__',\n",
       " '__lt__',\n",
       " '__module__',\n",
       " '__mul__',\n",
       " '__ne__',\n",
       " '__new__',\n",
       " '__reduce__',\n",
       " '__reduce_ex__',\n",
       " '__repr__',\n",
       " '__setattr__',\n",
       " '__sizeof__',\n",
       " '__str__',\n",
       " '__sub__',\n",
       " '__subclasshook__',\n",
       " '__weakref__']"
      ]
     },
     "execution_count": 23,
     "metadata": {},
     "output_type": "execute_result"
    }
   ],
   "source": [
    "dir(Book)"
   ]
  },
  {
   "cell_type": "code",
   "execution_count": 15,
   "metadata": {},
   "outputs": [
    {
     "name": "stdout",
     "output_type": "stream",
     "text": [
      "100000\n"
     ]
    }
   ],
   "source": [
    "class Employee:\n",
    "\n",
    "    def __init__(self,name,salary):\n",
    "        self.name = name \n",
    "        self.salary = salary\n",
    "\n",
    "    def __mul__(self,other):\n",
    "        return self.salary*other.days\n",
    "\n",
    "class TimeSheet:\n",
    "        def __init__(self,name,days):\n",
    "            self.name = name \n",
    "            self.days = days\n",
    "\n",
    "e = Employee(\"Vikram\",10000)\n",
    "t = TimeSheet(\"Vikram\",10)\n",
    "\n",
    "print(e*t)\n",
    "        \n",
    "\n",
    "\n",
    "    \n"
   ]
  },
  {
   "cell_type": "markdown",
   "metadata": {},
   "source": [
    "#MEthod Overloading\n",
    "\n",
    "But in Python Method overloading is not possible.\n",
    "\n",
    "If we are trying to declare multiple methods with same name and different number of arguments \n",
    "then Python will always consider only last method."
   ]
  },
  {
   "cell_type": "code",
   "execution_count": 30,
   "metadata": {},
   "outputs": [
    {
     "name": "stdout",
     "output_type": "stream",
     "text": [
      "second_arg method\n"
     ]
    }
   ],
   "source": [
    "class test:\n",
    "    def m1(self):\n",
    "        print(\"no_arg method\")\n",
    "    def m1(self):\n",
    "        print(\"first_arg method\")\n",
    "    def m1(self):\n",
    "        print(\"second_arg method\")\n",
    "\n",
    "t =test()\n",
    "t.m1()"
   ]
  },
  {
   "cell_type": "code",
   "execution_count": 35,
   "metadata": {},
   "outputs": [
    {
     "name": "stdout",
     "output_type": "stream",
     "text": [
      "The sum : 45\n"
     ]
    }
   ],
   "source": [
    "class test:\n",
    "    def sum(self,*a):\n",
    "        sm = 0\n",
    "        for num in a:\n",
    "            sm+=num\n",
    "        print(\"The sum :\",sm)\n",
    "t =test()\n",
    "\n",
    "t.sum(1,2,3,4,5,6,7,8,9)"
   ]
  },
  {
   "cell_type": "markdown",
   "metadata": {},
   "source": [
    "3. Constructor Overloading:\n",
    "\n",
    "Constructor overloading is not possible in Python.\n",
    "If we define multiple constructors then the last constructor will be considered."
   ]
  },
  {
   "cell_type": "code",
   "execution_count": 33,
   "metadata": {},
   "outputs": [
    {
     "name": "stdout",
     "output_type": "stream",
     "text": [
      "second_arg method\n"
     ]
    }
   ],
   "source": [
    "class test:\n",
    "    def __init__(self):    \n",
    "        print(\"no_arg method\")\n",
    "    def __init__(self):\n",
    "        print(\"first_arg method\")\n",
    "    def __init__(self):\n",
    "        print(\"second_arg method\")\n",
    "\n",
    "t =test()\n"
   ]
  }
 ],
 "metadata": {
  "kernelspec": {
   "display_name": "Python 3",
   "language": "python",
   "name": "python3"
  },
  "language_info": {
   "codemirror_mode": {
    "name": "ipython",
    "version": 3
   },
   "file_extension": ".py",
   "mimetype": "text/x-python",
   "name": "python",
   "nbconvert_exporter": "python",
   "pygments_lexer": "ipython3",
   "version": "3.9.13"
  },
  "orig_nbformat": 4
 },
 "nbformat": 4,
 "nbformat_minor": 2
}
