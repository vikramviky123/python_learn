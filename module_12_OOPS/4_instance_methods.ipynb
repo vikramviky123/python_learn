{
 "cells": [
  {
   "cell_type": "markdown",
   "metadata": {},
   "source": [
    "Types of Methods:\n",
    "\n",
    "Inside Python class 3 types of methods are allowed\n",
    "\n",
    "1. Instance Methods\n",
    "2. Class Methods\n",
    "3. Static Methods\n"
   ]
  },
  {
   "cell_type": "markdown",
   "metadata": {},
   "source": [
    "1. Instance Methods:\n",
    "\n",
    "Inside method implementation if we are using instance variables then such type of methods are \n",
    "called instance methods. \n",
    "\n",
    "Inside instance method declaration,we have to pass self variable.\n",
    "\n",
    "\n",
    "By using self variable inside method we can able to access instance variables.\n",
    "\n",
    "Within the class we can call instance method by using self variable and from outside of the class \n",
    "we can call by using object reference.\n"
   ]
  },
  {
   "cell_type": "code",
   "execution_count": 4,
   "metadata": {},
   "outputs": [
    {
     "name": "stdout",
     "output_type": "stream",
     "text": [
      "Your Name is   : vikram\n",
      "Your Marks are : 95\n",
      "You have received FIRST Grade\n",
      "You have received Second Grade\n",
      "You have Just Pass Grade\n"
     ]
    }
   ],
   "source": [
    "class Student:\n",
    "    def __init__(self, name: str, marks :float):\n",
    "        self.name = name\n",
    "        self.marks = marks\n",
    "    \n",
    "    def display(self):\n",
    "        print(\"Your Name is   :\", self.name)\n",
    "        print(\"Your Marks are :\", self.marks)\n",
    "\n",
    "    def grade(self):\n",
    "\n",
    "        if self.marks >= 60:\n",
    "            print(\"You have received FIRST Grade\")\n",
    "\n",
    "        if self.marks >= 50:\n",
    "            print(\"You have received Second Grade\")\n",
    "\n",
    "        if self.marks >= 35:\n",
    "            print(\"You have Just Pass Grade\")\n",
    "\n",
    "        else:\n",
    "            print(\"You have FAILED the exam\")\n",
    "\n",
    "\n",
    "name = input(\"Enter your Name here :\")\n",
    "marks = int(input(\"Enter your marks here :\"))\n",
    "\n",
    "s =Student(name=name,marks =marks)\n",
    "s.display()\n",
    "s.grade()"
   ]
  },
  {
   "cell_type": "markdown",
   "metadata": {},
   "source": [
    "2. Class Methods:\n",
    "\n",
    "Inside method implementation if we are using only class variables (static variables), then such type \n",
    "of methods we should declare as class method.\n",
    "\n",
    "We can declare class method explicitly by using @classmethod decorator. \n",
    "\n",
    "For class method we should provide cls variable at the time of declaration"
   ]
  },
  {
   "cell_type": "code",
   "execution_count": 18,
   "metadata": {},
   "outputs": [
    {
     "name": "stdout",
     "output_type": "stream",
     "text": [
      "dog walks with 4 legs..... \n",
      "Lion walks with 4 legs..... \n",
      "2\n"
     ]
    }
   ],
   "source": [
    "class Animal:\n",
    "    legs = 4\n",
    "    count = 0\n",
    "\n",
    "    @classmethod\n",
    "    def walk(cls,name):\n",
    "        print(f\"{name} walks with {cls.legs} legs..... \")\n",
    "        Animal.count+=1\n",
    "    \n",
    "    @classmethod\n",
    "    def noOfObjects(cls):\n",
    "        print(cls.count)\n",
    "\n",
    "a = Animal()\n",
    "b = Animal()\n",
    "\n",
    "a.walk(\"dog\")\n",
    "b.walk(\"Lion\")\n",
    "\n",
    "Animal.noOfObjects()"
   ]
  },
  {
   "cell_type": "markdown",
   "metadata": {},
   "source": [
    "3. Static Methods:\n",
    "\n",
    "In general these methods are general utility methods.\n",
    "\n",
    "Inside these methods we won't use any instance or class variables.\n",
    "\n",
    "Here we won't provide self or cls arguments at the time of declaration.\n",
    "\n",
    "We can declare static method explicitly by using @staticmethod decorator\n",
    "\n",
    "We can access static methods by using classname or object reference"
   ]
  },
  {
   "cell_type": "code",
   "execution_count": 19,
   "metadata": {},
   "outputs": [
    {
     "name": "stdout",
     "output_type": "stream",
     "text": [
      "15\n"
     ]
    }
   ],
   "source": [
    "class vikDataScience:\n",
    "    @staticmethod\n",
    "    def add(x,y):\n",
    "        print(x+y)\n",
    "\n",
    "val = vikDataScience()\n",
    "val.add(5,10)"
   ]
  },
  {
   "cell_type": "markdown",
   "metadata": {},
   "source": [
    "Destructors:\n",
    "\n",
    "Destructor is a special method and the name should be __del__\n",
    "\n",
    "Just before destroying an object Garbage Collector always calls destructor to perform clean up \n",
    "activities (Resource deallocation activities like close database connection etc).\n",
    "\n",
    "Once destructor execution completed then Garbage Collector automatically destroys that object.\n",
    "\n",
    "Note: The job of destructor is not to destroy object and it is just to perform clean up activities."
   ]
  },
  {
   "cell_type": "code",
   "execution_count": 27,
   "metadata": {},
   "outputs": [
    {
     "name": "stdout",
     "output_type": "stream",
     "text": [
      "Constructor exec\n",
      "destructor exe\n",
      "object not yet destroyed after deleting t1\n",
      "object not yet destroyed even after deleting t2\n",
      "I am trying to delete last reference variable...\n",
      "destructor exe\n"
     ]
    }
   ],
   "source": [
    "import time\n",
    "\n",
    "class Test:\n",
    "\n",
    "    def __init__(self):\n",
    "        print(\"Constructor exec\")\n",
    "\n",
    "    def __del__(self):\n",
    "        print(\"destructor exe\")\n",
    "\n",
    "t1=Test() \n",
    "t2=t1 \n",
    "t3=t2 \n",
    "del t1 \n",
    "time.sleep(5) \n",
    "print(\"object not yet destroyed after deleting t1\") \n",
    "del t2 \n",
    "time.sleep(5) \n",
    "print(\"object not yet destroyed even after deleting t2\") \n",
    "print(\"I am trying to delete last reference variable...\") \n",
    "del t3        "
   ]
  },
  {
   "cell_type": "code",
   "execution_count": 23,
   "metadata": {},
   "outputs": [
    {
     "name": "stdout",
     "output_type": "stream",
     "text": [
      "Constructor exec\n",
      "Constructor exec\n",
      "Constructor exec\n",
      "destructor exe\n",
      "destructor exe\n",
      "destructor exe\n",
      "End of Application\n"
     ]
    }
   ],
   "source": [
    "listt = [Test(),Test(),Test()]\n",
    "del listt\n",
    "\n",
    "time.sleep(5)\n",
    "print(\"End of Application\")"
   ]
  },
  {
   "cell_type": "code",
   "execution_count": null,
   "metadata": {},
   "outputs": [],
   "source": []
  }
 ],
 "metadata": {
  "kernelspec": {
   "display_name": "Python 3",
   "language": "python",
   "name": "python3"
  },
  "language_info": {
   "codemirror_mode": {
    "name": "ipython",
    "version": 3
   },
   "file_extension": ".py",
   "mimetype": "text/x-python",
   "name": "python",
   "nbconvert_exporter": "python",
   "pygments_lexer": "ipython3",
   "version": "3.9.13"
  },
  "orig_nbformat": 4
 },
 "nbformat": 4,
 "nbformat_minor": 2
}
