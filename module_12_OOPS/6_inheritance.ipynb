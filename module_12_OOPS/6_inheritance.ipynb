{
 "cells": [
  {
   "cell_type": "markdown",
   "metadata": {},
   "source": [
    "#Inheritance\n",
    "\n",
    "class DerivedClass(BaseClass):\n",
    "\n",
    "     Class definition\n"
   ]
  },
  {
   "cell_type": "code",
   "execution_count": 3,
   "metadata": {},
   "outputs": [
    {
     "name": "stdout",
     "output_type": "stream",
     "text": [
      "Hello, my name is John and I am 30 years old.\n",
      "Hello, my name is Mary and I am 18 years old.\n",
      "I am a student in grade 12.\n"
     ]
    }
   ],
   "source": [
    "class Person:\n",
    "    def __init__(self, name, age):  # Constructor to initialize name and age attributes\n",
    "        self.name = name\n",
    "        self.age = age\n",
    "\n",
    "    def say_hello(self):  # Method to greet and introduce the person\n",
    "        print(f\"Hello, my name is {self.name} and I am {self.age} years old.\")\n",
    "\n",
    "class Student(Person):  # Student class inherits from Person class\n",
    "    def __init__(self, name, age, grade):  # Constructor to initialize name, age, and grade attributes\n",
    "        super().__init__(name, age)  # Call the parent class constructor to initialize name and age\n",
    "        self.grade = grade  # Additional attribute specific to the Student class\n",
    "\n",
    "    def say_hello(self):  # Override the say_hello method of the parent class\n",
    "        super().say_hello()  # Call the parent class say_hello method to introduce the student as a person\n",
    "        print(f\"I am a student in grade {self.grade}.\")  # Print additional information specific to the Student class\n",
    "\n",
    "# Creating an instance of the base class\n",
    "person = Person(\"John\", 30)\n",
    "person.say_hello()\n",
    "\n",
    "# Creating an instance of the derived class\n",
    "student = Student(\"Mary\", 18, 12)\n",
    "student.say_hello() \n"
   ]
  },
  {
   "cell_type": "code",
   "execution_count": 4,
   "metadata": {},
   "outputs": [
    {
     "name": "stdout",
     "output_type": "stream",
     "text": [
      "Hello Parent1\n",
      "Hello Parent2\n",
      "Hello Child\n",
      "(<class '__main__.child'>, <class '__main__.parent1'>, <class '__main__.parent2'>, <class '__main__.parent3'>, <class 'object'>)\n"
     ]
    }
   ],
   "source": [
    "# python 3 syntax\n",
    "# multiple inheritance example\n",
    " \n",
    "class parent1:                     # first parent class\n",
    "    def func1(self):                   \n",
    "        print(\"Hello Parent1\")\n",
    " \n",
    "class parent2:                     # second parent class\n",
    "    def func2(self):                   \n",
    "        print(\"Hello Parent2\")\n",
    " \n",
    "class parent3:                     # third parent class\n",
    "    def func2(self):                     # the function name is same as parent2\n",
    "        print(\"Hello Parent3\")\n",
    " \n",
    "class child(parent1, parent2, parent3):     # child class\n",
    "    def func3(self):                     # we include the parent classes\n",
    "        print(\"Hello Child\")       # as an argument comma separated\n",
    "                           \n",
    "# Driver Code\n",
    "test = child()        # object created\n",
    "test.func1()          # parent1 method called via child\n",
    "test.func2()          # parent2 method called via child instead of parent3\n",
    "test.func3()          # child method called\n",
    "\n",
    "#Method Resolution Order function (mro)\n",
    "# to find the order of classes visited by the child class, we use __mro__ on the child class\n",
    "print(child.__mro__)\n"
   ]
  },
  {
   "cell_type": "markdown",
   "metadata": {},
   "source": [
    "Method overriding:\n",
    "\n",
    "What ever members available in the parent class are bydefault available to the child class through \n",
    "inheritance. If the child class not satisfied with parent class implementation then child class is \n",
    "allowed to redefine that method in the child class based on its requirement. This concept is called \n",
    "overriding.\n",
    "\n",
    "Overriding concept applicable for both methods and constructors."
   ]
  },
  {
   "cell_type": "markdown",
   "metadata": {},
   "source": []
  }
 ],
 "metadata": {
  "kernelspec": {
   "display_name": "Python 3",
   "language": "python",
   "name": "python3"
  },
  "language_info": {
   "codemirror_mode": {
    "name": "ipython",
    "version": 3
   },
   "file_extension": ".py",
   "mimetype": "text/x-python",
   "name": "python",
   "nbconvert_exporter": "python",
   "pygments_lexer": "ipython3",
   "version": "3.9.13"
  },
  "orig_nbformat": 4
 },
 "nbformat": 4,
 "nbformat_minor": 2
}
