{
 "cells": [
  {
   "cell_type": "markdown",
   "metadata": {},
   "source": [
    "1. Instance Variables:\n",
    "\n",
    "If the value of a variable is varied from object to object, then such type of variables are called instance variables.\n",
    "\n",
    "For every object a separate copy of instance variables will be created.\n",
    "\n",
    "Where we can declare Instance variables:\n",
    "\n",
    "1. Inside Constructor by using self variable\n",
    "2. Inside Instance Method by using self variable\n",
    "3. Outside of the class by using object reference variable"
   ]
  },
  {
   "cell_type": "code",
   "execution_count": 44,
   "metadata": {},
   "outputs": [
    {
     "name": "stdout",
     "output_type": "stream",
     "text": [
      "{'ename': 'Vikram', 'esal': 500000}\n"
     ]
    }
   ],
   "source": [
    "class Employee:\n",
    "    def __init__(self):\n",
    "        self.ename = \"Vikram\"\n",
    "        self.esal  = 500000\n",
    "e =Employee()\n",
    "print(e.__dict__)"
   ]
  },
  {
   "cell_type": "code",
   "execution_count": 52,
   "metadata": {},
   "outputs": [
    {
     "name": "stdout",
     "output_type": "stream",
     "text": [
      "2966261957968\n",
      "2966299263136\n",
      "2966277551728\n",
      "2966299491408\n"
     ]
    }
   ],
   "source": [
    "print(id(Employee))\n",
    "print(id(e))\n",
    "print(id(e.ename))\n",
    "print(id(e.esal))\n",
    "\n"
   ]
  },
  {
   "cell_type": "code",
   "execution_count": 72,
   "metadata": {},
   "outputs": [],
   "source": [
    "class ttest:\n",
    "    def __init__(self):\n",
    "        self.a = 10\n",
    "        self.b = 20\n",
    "    def m1(self):\n",
    "        self.c = 30    \n",
    "\n",
    "    def m2(self):\n",
    "        del self.c\n",
    "           "
   ]
  },
  {
   "cell_type": "code",
   "execution_count": 73,
   "metadata": {},
   "outputs": [
    {
     "name": "stdout",
     "output_type": "stream",
     "text": [
      "10\n",
      "20\n",
      "t.c is not printed because method was not exe\n",
      "30\n",
      "40\n",
      "The m2 method will delete the c variable\n",
      "The del t.d delete the d variable\n",
      "{'a': 10, 'b': 20}\n"
     ]
    }
   ],
   "source": [
    "t=ttest()\n",
    "print(t.a)\n",
    "print(t.b)\n",
    "try:\n",
    "    print(t.c)\n",
    "except Exception as e:\n",
    "    print(\"t.c is not printed because method was not exe\")\n",
    "\n",
    "t.m1()\n",
    "print(t.c)\n",
    "t.d = 40\n",
    "print(t.d)\n",
    "print(\"The m2 method will delete the c variable\")\n",
    "t.m2()\n",
    "print(\"The del t.d delete the d variable\")\n",
    "del t.d\n",
    "print(t.__dict__)\n",
    "\n",
    "del ttest"
   ]
  },
  {
   "cell_type": "code",
   "execution_count": null,
   "metadata": {},
   "outputs": [],
   "source": []
  }
 ],
 "metadata": {
  "kernelspec": {
   "display_name": "Python 3",
   "language": "python",
   "name": "python3"
  },
  "language_info": {
   "codemirror_mode": {
    "name": "ipython",
    "version": 3
   },
   "file_extension": ".py",
   "mimetype": "text/x-python",
   "name": "python",
   "nbconvert_exporter": "python",
   "pygments_lexer": "ipython3",
   "version": "3.9.13"
  },
  "orig_nbformat": 4
 },
 "nbformat": 4,
 "nbformat_minor": 2
}
