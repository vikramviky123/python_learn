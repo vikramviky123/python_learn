{
 "cells": [
  {
   "cell_type": "code",
   "execution_count": 1,
   "metadata": {},
   "outputs": [],
   "source": [
    "class Student:\n",
    "    \"\"\" \n",
    "    This is Student class\n",
    "\n",
    "    Args: No arguments --> Just Checking\n",
    "\n",
    "    returns:Prints inside statement\n",
    "\n",
    "    \"\"\""
   ]
  },
  {
   "cell_type": "code",
   "execution_count": 2,
   "metadata": {},
   "outputs": [
    {
     "name": "stdout",
     "output_type": "stream",
     "text": [
      " \n",
      "    This is Student class\n",
      "\n",
      "    Args: No arguments --> Just Checking\n",
      "\n",
      "    returns:Prints inside statement\n",
      "\n",
      "    \n"
     ]
    }
   ],
   "source": [
    "print(Student.__doc__)"
   ]
  },
  {
   "cell_type": "code",
   "execution_count": 3,
   "metadata": {},
   "outputs": [
    {
     "name": "stdout",
     "output_type": "stream",
     "text": [
      "Help on class Student in module __main__:\n",
      "\n",
      "class Student(builtins.object)\n",
      " |  This is Student class\n",
      " |  \n",
      " |  Args: No arguments --> Just Checking\n",
      " |  \n",
      " |  returns:Prints inside statement\n",
      " |  \n",
      " |  Data descriptors defined here:\n",
      " |  \n",
      " |  __dict__\n",
      " |      dictionary for instance variables (if defined)\n",
      " |  \n",
      " |  __weakref__\n",
      " |      list of weak references to the object (if defined)\n",
      "\n"
     ]
    }
   ],
   "source": [
    "help(Student)"
   ]
  },
  {
   "cell_type": "markdown",
   "metadata": {},
   "source": [
    "#Classes\n",
    "\n",
    "There are 3 types of variables are allowed.\n",
    "1. Instance Variables (Object Level Variables)\n",
    "2. Static Variables (Class Level Variables)\n",
    "3. Local variables (Method Level Variables)\n",
    "\n",
    "Within the Python class, we can represent operations by using methods. The following are various \n",
    "types of allowed methods\n",
    "\n",
    "\n",
    "1. Instance Methods\n",
    "2. Class Methods \n",
    "3. Static Methods"
   ]
  },
  {
   "cell_type": "markdown",
   "metadata": {},
   "source": [
    "Self variable:\n",
    "\n",
    "self is the default variable which is always pointing to current object (like this keyword in Java)\n",
    "By using self we can access instance variables and instance methods of object.\n",
    "\n",
    "Note:\n",
    "\n",
    "1. self should be first parameter inside constructor \n",
    " def __init__(self):\n",
    "2. self should be first parameter inside instance methods\n",
    " def talk(self):\n"
   ]
  },
  {
   "cell_type": "code",
   "execution_count": 17,
   "metadata": {},
   "outputs": [],
   "source": [
    "class Student:\n",
    "    marks = 35\n",
    "\n",
    "    def __init__(self, name,rollno, marks):\n",
    "        self.name = name\n",
    "        self.rollno = rollno\n",
    "        self.marks = marks\n",
    "    \n",
    "    def talk(self):\n",
    "        print(\"Hello my Name is :\", self.name)\n",
    "        print(\"Hello my Roll No: is :\", self.rollno)\n",
    "        print(\"Hello my Marks are:\", self.marks)"
   ]
  },
  {
   "cell_type": "markdown",
   "metadata": {},
   "source": [
    "What is Reference Variable:\n",
    "\n",
    "The variable which can be used to refer object is called reference variable.\n",
    "By using reference variable, we can access properties and methods of object.\n"
   ]
  },
  {
   "cell_type": "code",
   "execution_count": 18,
   "metadata": {},
   "outputs": [],
   "source": [
    "s1 = Student(\"Vikram\",7,95)\n",
    "s2 = Student(\"Manji\",8,90)\n",
    "s3 = Student(\"Sindhu\",9,99)"
   ]
  },
  {
   "cell_type": "code",
   "execution_count": 19,
   "metadata": {},
   "outputs": [
    {
     "name": "stdout",
     "output_type": "stream",
     "text": [
      "Hello my Name is : Sindhu\n",
      "Hello my Roll No: is : 9\n",
      "Hello my Marks are: 99\n"
     ]
    }
   ],
   "source": [
    "s3.talk()"
   ]
  },
  {
   "cell_type": "markdown",
   "metadata": {},
   "source": [
    "#Example:2"
   ]
  },
  {
   "cell_type": "code",
   "execution_count": 25,
   "metadata": {},
   "outputs": [],
   "source": [
    "class Test:\n",
    "    def __init__(self):\n",
    "        print(\"Constructor will execute after creating an object\")\n",
    "    def m1(self):\n",
    "        print(\"When method m1 is called Method will execute\")"
   ]
  },
  {
   "cell_type": "code",
   "execution_count": 26,
   "metadata": {},
   "outputs": [
    {
     "name": "stdout",
     "output_type": "stream",
     "text": [
      "Constructor will execute after creating an object\n"
     ]
    }
   ],
   "source": [
    "t = Test()"
   ]
  },
  {
   "cell_type": "code",
   "execution_count": 27,
   "metadata": {},
   "outputs": [
    {
     "name": "stdout",
     "output_type": "stream",
     "text": [
      "When method m1 is called Method will execute\n"
     ]
    }
   ],
   "source": [
    "t.m1()"
   ]
  },
  {
   "cell_type": "code",
   "execution_count": null,
   "metadata": {},
   "outputs": [],
   "source": []
  }
 ],
 "metadata": {
  "kernelspec": {
   "display_name": "Python 3",
   "language": "python",
   "name": "python3"
  },
  "language_info": {
   "codemirror_mode": {
    "name": "ipython",
    "version": 3
   },
   "file_extension": ".py",
   "mimetype": "text/x-python",
   "name": "python",
   "nbconvert_exporter": "python",
   "pygments_lexer": "ipython3",
   "version": "3.9.13"
  },
  "orig_nbformat": 4
 },
 "nbformat": 4,
 "nbformat_minor": 2
}
