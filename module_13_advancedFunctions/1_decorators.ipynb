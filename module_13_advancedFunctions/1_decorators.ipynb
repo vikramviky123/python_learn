{
 "cells": [
  {
   "cell_type": "code",
   "execution_count": 11,
   "metadata": {},
   "outputs": [
    {
     "name": "stdout",
     "output_type": "stream",
     "text": [
      "This is printed before the function is called\n",
      "Hello! The function is executing\n",
      "This is printed after the function is called\n"
     ]
    }
   ],
   "source": [
    "def decorator(func):\n",
    "  def wrapper():\n",
    "    print(\"This is printed before the function is called\")\n",
    "    func()\n",
    "    print(\"This is printed after the function is called\")\n",
    "  \n",
    "  return wrapper\n",
    "\n",
    "def say_hello():\n",
    "  print(\"Hello! The function is executing\")\n",
    "\n",
    "\n",
    "say_hello = decorator(say_hello)\n",
    "\n",
    "say_hello()\n"
   ]
  },
  {
   "cell_type": "code",
   "execution_count": 27,
   "metadata": {},
   "outputs": [
    {
     "name": "stdout",
     "output_type": "stream",
     "text": [
      "2241859634080\n",
      "2241859634944\n",
      "This is printed before the function is called\n",
      "Hello! The function is executing\n",
      "This is printed after the function is called\n",
      "2241858369568\n"
     ]
    }
   ],
   "source": [
    "def decorator(func):\n",
    "  \n",
    "  def wrapper():\n",
    "    print(\"This is printed before the function is called\")\n",
    "    func()\n",
    "    print(\"This is printed after the function is called\")\n",
    "  \n",
    "  return wrapper\n",
    "print(id(decorator))\n",
    "\n",
    "def say_hello():\n",
    "  print(\"Hello! The function is executing\")\n",
    "print(id(say_hello))\n",
    "\n",
    "say_hello = decorator(say_hello) #==wrapper object\n",
    "\n",
    "\n",
    "say_hello()\n",
    "print(id(say_hello))"
   ]
  },
  {
   "cell_type": "code",
   "execution_count": 28,
   "metadata": {},
   "outputs": [
    {
     "name": "stdout",
     "output_type": "stream",
     "text": [
      "wrapper\n",
      "Help on function wrapper in module __main__:\n",
      "\n",
      "wrapper()\n",
      "\n"
     ]
    }
   ],
   "source": [
    "@decorator\n",
    "def say_hello():\n",
    "  \"\"\"This function says hello when called\"\"\"\n",
    "  print(\"Hello! The function is executing\")\n",
    "\n",
    "\n",
    "print(say_hello.__name__)\n",
    "help(say_hello)\n"
   ]
  },
  {
   "cell_type": "code",
   "execution_count": 30,
   "metadata": {},
   "outputs": [
    {
     "name": "stdout",
     "output_type": "stream",
     "text": [
      "say_hello\n",
      "Help on function say_hello in module __main__:\n",
      "\n",
      "say_hello()\n",
      "    This function says hello when called\n",
      "\n"
     ]
    }
   ],
   "source": [
    "import functools\n",
    "\n",
    "def decorator(func):\n",
    "  @functools.wraps(func)\n",
    "  def wrapper():\n",
    "    print(\"This is printed before the function is called\")\n",
    "    func()\n",
    "    print(\"This is printed after the function is called\")\n",
    "  \n",
    "  return wrapper\n",
    "\n",
    "\n",
    "@decorator\n",
    "def say_hello():\n",
    "  \"\"\"This function says hello when called\"\"\"\n",
    "  print(\"Hello! The function is executing\")\n",
    "\n",
    "\n",
    "print(say_hello.__name__)\n",
    "help(say_hello)\n"
   ]
  },
  {
   "cell_type": "code",
   "execution_count": null,
   "metadata": {},
   "outputs": [],
   "source": []
  },
  {
   "cell_type": "code",
   "execution_count": 29,
   "metadata": {},
   "outputs": [
    {
     "name": "stdout",
     "output_type": "stream",
     "text": [
      "Hello, Kitty!\n",
      "Hello, Kitty!\n"
     ]
    }
   ],
   "source": [
    "import functools\n",
    "\n",
    "def do_twice(func):\n",
    "\n",
    "  def wrapper(*args, **kwargs):\n",
    "    func(*args, **kwargs)\n",
    "    func(*args, **kwargs)\n",
    "  \n",
    "  return wrapper\n",
    "\n",
    "@do_twice\n",
    "def say_hello(name):\n",
    "  print(f\"Hello, {name}!\")\n",
    "\n",
    "say_hello(\"Kitty\")\n"
   ]
  },
  {
   "cell_type": "code",
   "execution_count": null,
   "metadata": {},
   "outputs": [],
   "source": []
  },
  {
   "cell_type": "code",
   "execution_count": 12,
   "metadata": {},
   "outputs": [
    {
     "name": "stdout",
     "output_type": "stream",
     "text": [
      "Hello Virkam  Good Morning\n"
     ]
    }
   ],
   "source": [
    "def decor(func):\n",
    "    def inner(name):\n",
    "        if name ==\"sunny\":\n",
    "            print(\"Hello Sunny Bad Morning\")\n",
    "        else:\n",
    "            func(name)\n",
    "    return inner\n",
    "    \n",
    "@decor\n",
    "def wish(name):\n",
    "    print(\"Hello\",name,\" Good Morning\")\n",
    "\n",
    "wish(\"Virkam\")\n"
   ]
  },
  {
   "cell_type": "markdown",
   "metadata": {},
   "source": [
    "### closure"
   ]
  },
  {
   "cell_type": "code",
   "execution_count": 10,
   "metadata": {},
   "outputs": [
    {
     "name": "stdout",
     "output_type": "stream",
     "text": [
      "2770205069024\n",
      "2770205067584\n",
      "16\n"
     ]
    }
   ],
   "source": [
    "def f1(x):\n",
    "\tdef f2(y):\n",
    "\t\treturn x + y\n",
    "\treturn f2\n",
    "print(id(f1))\n",
    "adder = f1(12)\n",
    "print(id(adder))\n",
    "del f1\n",
    "print(adder(4))\n"
   ]
  },
  {
   "cell_type": "code",
   "execution_count": 6,
   "metadata": {},
   "outputs": [
    {
     "name": "stdout",
     "output_type": "stream",
     "text": [
      "{3, 4}\n"
     ]
    }
   ],
   "source": [
    "set_a = {1, 2, 3, 4}\n",
    "set_b = {3, 4, 5, 6}\n",
    "varr = \"intersection\"\n",
    "\n",
    "result = getattr(set_a, varr)(set_b)\n",
    "print(result)  # Output: {3, 4}\n"
   ]
  },
  {
   "cell_type": "code",
   "execution_count": 7,
   "metadata": {},
   "outputs": [
    {
     "name": "stdout",
     "output_type": "stream",
     "text": [
      "{'microsoft', 'banana', 'cherry', 'google'}\n"
     ]
    }
   ],
   "source": [
    "x = {\"apple\", \"banana\", \"cherry\"}\n",
    "y = {\"google\", \"microsoft\", \"apple\"}\n",
    "varr = \"symmetric_difference_update\"\n",
    "\n",
    "getattr(x, varr)(y)\n",
    "print(x)  # Output: {'microsoft', 'banana', 'cherry', 'google'}\n"
   ]
  },
  {
   "cell_type": "code",
   "execution_count": 8,
   "metadata": {},
   "outputs": [
    {
     "name": "stdout",
     "output_type": "stream",
     "text": [
      "1 2 3 4\n"
     ]
    }
   ],
   "source": [
    "x = [1,2,3,4]\n",
    "print(*x)"
   ]
  }
 ],
 "metadata": {
  "kernelspec": {
   "display_name": "Python 3",
   "language": "python",
   "name": "python3"
  },
  "language_info": {
   "codemirror_mode": {
    "name": "ipython",
    "version": 3
   },
   "file_extension": ".py",
   "mimetype": "text/x-python",
   "name": "python",
   "nbconvert_exporter": "python",
   "pygments_lexer": "ipython3",
   "version": "3.9.13"
  },
  "orig_nbformat": 4
 },
 "nbformat": 4,
 "nbformat_minor": 2
}
