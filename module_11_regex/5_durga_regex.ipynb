{
 "cells": [
  {
   "cell_type": "markdown",
   "metadata": {},
   "source": [
    "#Durga Regex"
   ]
  },
  {
   "cell_type": "code",
   "execution_count": 1,
   "metadata": {},
   "outputs": [],
   "source": [
    "import re"
   ]
  },
  {
   "cell_type": "code",
   "execution_count": 5,
   "metadata": {},
   "outputs": [
    {
     "name": "stdout",
     "output_type": "stream",
     "text": [
      "0\n",
      "3\n",
      "5\n"
     ]
    }
   ],
   "source": [
    "pattern = re.compile(\"ab\")\n",
    "matcher = pattern.finditer(\"abaababa\")\n",
    "count = 0\n",
    "for match in matcher:\n",
    "    count+=1\n",
    "    print(match.start())\n"
   ]
  },
  {
   "cell_type": "markdown",
   "metadata": {},
   "source": [
    "1. match():\n",
    "check at begining of string like for below\n",
    "ab\n",
    "abc\n",
    "abca"
   ]
  },
  {
   "cell_type": "code",
   "execution_count": 15,
   "metadata": {},
   "outputs": [
    {
     "name": "stdout",
     "output_type": "stream",
     "text": [
      "match is available\n"
     ]
    }
   ],
   "source": [
    "s = input(\"Enter pattern to check:\")\n",
    "m = re.match(s,\"abcabdefg\")\n",
    "\n",
    "if m!=None:\n",
    "    print(\"match is available\")\n",
    "else:\n",
    "    print(\"val is not available\")"
   ]
  },
  {
   "cell_type": "markdown",
   "metadata": {},
   "source": [
    "2. fullmatch():\n",
    "if full string a match or not\n"
   ]
  },
  {
   "cell_type": "code",
   "execution_count": 9,
   "metadata": {},
   "outputs": [
    {
     "name": "stdout",
     "output_type": "stream",
     "text": [
      "match is full\n"
     ]
    }
   ],
   "source": [
    "s = input(\"Enter pattern to check:\")\n",
    "m = re.match(s,\"abcd\")\n",
    "\n",
    "if m!=None:\n",
    "    print(\"match is full\")\n",
    "else:\n",
    "    print(\"val is not full\")"
   ]
  },
  {
   "cell_type": "markdown",
   "metadata": {},
   "source": [
    "3. Search"
   ]
  },
  {
   "cell_type": "code",
   "execution_count": 18,
   "metadata": {},
   "outputs": [
    {
     "name": "stdout",
     "output_type": "stream",
     "text": [
      "18\n"
     ]
    }
   ],
   "source": [
    "txt  = \"My name is Vikram reddy\"\n",
    "s = input(\"ENter the string to Search\")\n",
    "se = re.search(s,txt)\n",
    "\n",
    "print(se.start())"
   ]
  },
  {
   "cell_type": "code",
   "execution_count": 26,
   "metadata": {},
   "outputs": [
    {
     "name": "stdout",
     "output_type": "stream",
     "text": [
      "0\n"
     ]
    }
   ],
   "source": [
    "res = re.search(\"^My\", txt)\n",
    "print(res.start())"
   ]
  },
  {
   "cell_type": "code",
   "execution_count": 21,
   "metadata": {},
   "outputs": [
    {
     "name": "stdout",
     "output_type": "stream",
     "text": [
      "['My name is Vikram reddy']\n"
     ]
    }
   ],
   "source": [
    "res = re.findall(\"^My.*ddy$\", txt)\n",
    "print(res)"
   ]
  },
  {
   "cell_type": "code",
   "execution_count": null,
   "metadata": {},
   "outputs": [],
   "source": []
  }
 ],
 "metadata": {
  "kernelspec": {
   "display_name": "Python 3",
   "language": "python",
   "name": "python3"
  },
  "language_info": {
   "codemirror_mode": {
    "name": "ipython",
    "version": 3
   },
   "file_extension": ".py",
   "mimetype": "text/x-python",
   "name": "python",
   "nbconvert_exporter": "python",
   "pygments_lexer": "ipython3",
   "version": "3.9.13"
  },
  "orig_nbformat": 4
 },
 "nbformat": 4,
 "nbformat_minor": 2
}
