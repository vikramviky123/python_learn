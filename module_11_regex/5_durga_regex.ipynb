{
 "cells": [
  {
   "cell_type": "markdown",
   "metadata": {},
   "source": [
    "#Durga Regex"
   ]
  },
  {
   "cell_type": "code",
   "execution_count": 1,
   "metadata": {},
   "outputs": [],
   "source": [
    "import re"
   ]
  },
  {
   "cell_type": "code",
   "execution_count": 5,
   "metadata": {},
   "outputs": [
    {
     "name": "stdout",
     "output_type": "stream",
     "text": [
      "0\n",
      "3\n",
      "5\n"
     ]
    }
   ],
   "source": [
    "pattern = re.compile(\"ab\")\n",
    "matcher = pattern.finditer(\"abaababa\")\n",
    "count = 0\n",
    "for match in matcher:\n",
    "    count+=1\n",
    "    print(match.start())\n"
   ]
  },
  {
   "cell_type": "markdown",
   "metadata": {},
   "source": [
    "1. match():\n",
    "check at begining of string like for below\n",
    "ab\n",
    "abc\n",
    "abca"
   ]
  },
  {
   "cell_type": "code",
   "execution_count": 15,
   "metadata": {},
   "outputs": [
    {
     "name": "stdout",
     "output_type": "stream",
     "text": [
      "match is available\n"
     ]
    }
   ],
   "source": [
    "s = input(\"Enter pattern to check:\")\n",
    "m = re.match(s,\"abcabdefg\")\n",
    "\n",
    "if m!=None:\n",
    "    print(\"match is available\")\n",
    "else:\n",
    "    print(\"val is not available\")"
   ]
  },
  {
   "cell_type": "markdown",
   "metadata": {},
   "source": [
    "2. fullmatch():\n",
    "if full string a match or not\n"
   ]
  },
  {
   "cell_type": "code",
   "execution_count": 9,
   "metadata": {},
   "outputs": [
    {
     "name": "stdout",
     "output_type": "stream",
     "text": [
      "match is full\n"
     ]
    }
   ],
   "source": [
    "s = input(\"Enter pattern to check:\")\n",
    "m = re.match(s,\"abcd\")\n",
    "\n",
    "if m!=None:\n",
    "    print(\"match is full\")\n",
    "else:\n",
    "    print(\"val is not full\")"
   ]
  },
  {
   "cell_type": "markdown",
   "metadata": {},
   "source": [
    "3. Search"
   ]
  },
  {
   "cell_type": "code",
   "execution_count": 18,
   "metadata": {},
   "outputs": [
    {
     "name": "stdout",
     "output_type": "stream",
     "text": [
      "18\n"
     ]
    }
   ],
   "source": [
    "txt  = \"My name is Vikram reddy\"\n",
    "s = input(\"ENter the string to Search\")\n",
    "se = re.search(s,txt)\n",
    "\n",
    "print(se.start())"
   ]
  },
  {
   "cell_type": "code",
   "execution_count": 26,
   "metadata": {},
   "outputs": [
    {
     "name": "stdout",
     "output_type": "stream",
     "text": [
      "0\n"
     ]
    }
   ],
   "source": [
    "res = re.search(\"^My\", txt)\n",
    "print(res.start())"
   ]
  },
  {
   "cell_type": "code",
   "execution_count": 21,
   "metadata": {},
   "outputs": [
    {
     "name": "stdout",
     "output_type": "stream",
     "text": [
      "['My name is Vikram reddy']\n"
     ]
    }
   ],
   "source": [
    "res = re.findall(\"^My.*ddy$\", txt)\n",
    "print(res)"
   ]
  },
  {
   "cell_type": "code",
   "execution_count": 34,
   "metadata": {},
   "outputs": [],
   "source": [
    "text = \"\"\"Performance: Compiling a regex pattern once and reusing the compiled object can be faster than re-parsing the pattern each time you use it. This is especially noticeable when you need to perform multiple regex operations in a loop or on a large dataset.\n",
    "\n",
    "Readability: If you use the same regex pattern multiple times in your code, compiling it once makes your code more readable and reduces redundancy.\n",
    "\n",
    "Error Checking: The re.compile() function checks the validity of the regex pattern during compilation. This can help catch errors in the pattern before you start using it in actual matching operations.\n",
    "\n",
    "Separation of Concerns: Compiling the regex pattern separately from its usage can improve code organization. It allows you to define and manage patterns in a more modular way.\n",
    "\n",
    "When re.compile() is most useful: Hello, world!\n",
    "\n",
    "Repeated Usage: If you plan to use the same regex pattern multiple times within your code, compiling it using re.compile() can provide performance benefits.\n",
    "\n",
    "Complex Patterns: For complex patterns that involve multiple capturing groups, alternations, or special characters, pre-compiling the pattern can enhance readability and maintainability.\n",
    "\n",
    "Pattern Modularity: If you want to keep your code organized and separate the definition of regex patterns from their usage, re.compile() helps in achieving this separation of concerns.\n",
    "\n",
    "In scenarios where you only need to use a regex pattern once, compiling it might not provide significant advantages. However, in most cases where the same pattern is used more than once, using re.compile() is a good practice to improve performance and code quality.\"\"\""
   ]
  },
  {
   "cell_type": "code",
   "execution_count": 57,
   "metadata": {},
   "outputs": [
    {
     "name": "stdout",
     "output_type": "stream",
     "text": [
      "['Performance', 'Readability', 'compilation', 'performance', 'readability', 'significant', 'performance']\n",
      "CPU times: total: 0 ns\n",
      "Wall time: 0 ns\n"
     ]
    }
   ],
   "source": [
    "%%time\n",
    "pattern = r'\\b\\w{11}\\b'  # Example regex pattern to match words\n",
    "\n",
    "# Compiling the pattern\n",
    "compiled_pattern = re.compile(pattern)\n",
    "\n",
    "# Using the compiled pattern for matching\n",
    "matches = compiled_pattern.findall(text)\n",
    "print(matches)\n"
   ]
  },
  {
   "cell_type": "code",
   "execution_count": 58,
   "metadata": {},
   "outputs": [
    {
     "name": "stdout",
     "output_type": "stream",
     "text": [
      "['Performance', 'Readability', 'compilation', 'performance', 'readability', 'significant', 'performance']\n",
      "CPU times: total: 0 ns\n",
      "Wall time: 0 ns\n"
     ]
    }
   ],
   "source": [
    "%%time\n",
    "matches = re.findall(pattern ,text)\n",
    "print(matches)\n"
   ]
  },
  {
   "cell_type": "code",
   "execution_count": 81,
   "metadata": {},
   "outputs": [
    {
     "name": "stdout",
     "output_type": "stream",
     "text": [
      "['12', '23']\n"
     ]
    }
   ],
   "source": [
    "import re\n",
    "\n",
    "text = \"12 23 1234565\"\n",
    "x = re.findall(r\"\\s?(\\d{2})\\s\", text)\n",
    "print(x)\n"
   ]
  },
  {
   "cell_type": "code",
   "execution_count": null,
   "metadata": {},
   "outputs": [],
   "source": []
  }
 ],
 "metadata": {
  "kernelspec": {
   "display_name": "Python 3",
   "language": "python",
   "name": "python3"
  },
  "language_info": {
   "codemirror_mode": {
    "name": "ipython",
    "version": 3
   },
   "file_extension": ".py",
   "mimetype": "text/x-python",
   "name": "python",
   "nbconvert_exporter": "python",
   "pygments_lexer": "ipython3",
   "version": "3.9.13"
  },
  "orig_nbformat": 4
 },
 "nbformat": 4,
 "nbformat_minor": 2
}
