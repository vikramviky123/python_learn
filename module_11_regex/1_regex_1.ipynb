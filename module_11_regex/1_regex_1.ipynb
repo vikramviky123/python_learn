{
 "cells": [
  {
   "cell_type": "markdown",
   "metadata": {},
   "source": [
    "Regular expression is a sequence of characters that forms a pattern which is mainly used to find or replace patterns in a string. These are supported by many languages such as python, java, R etc.Most common uses of regular expressions are:\n",
    "\n",
    "Finding patterns in a string or file.(Ex: find all the numbers present in a string)\n",
    "\n",
    "Replace a part of the string with another string.\n",
    "\n",
    "Search substring in string or file.\n",
    "\n",
    "Split string into substrings.\n",
    "\n",
    "Validate email format."
   ]
  },
  {
   "cell_type": "code",
   "execution_count": 2,
   "metadata": {},
   "outputs": [
    {
     "name": "stdout",
     "output_type": "stream",
     "text": [
      "<re.Match object; span=(0, 136), match='Alan Turing was a pioneer of theoretical computer>\n",
      "We have a match!\n",
      "Alan Turing was a pioneer of theoretical computer science and artificial intelligence. He was born on 23 June 1912 in Maida Vale, London\n"
     ]
    }
   ],
   "source": [
    "import re\n",
    "text = '''Alan Turing was a pioneer of theoretical computer science and artificial intelligence. He was born on 23 June 1912 in Maida Vale, London'''\n",
    "#Search is for starts with and endswith\n",
    "res = re.search(\"^Alan.*London$\",text)\n",
    "print(res)\n",
    "if(res):\n",
    "    print(\"We have a match!\")\n",
    "else:\n",
    "    print(\"We don't have a match\")\n",
    "print(res.string)"
   ]
  },
  {
   "cell_type": "code",
   "execution_count": 3,
   "metadata": {},
   "outputs": [
    {
     "name": "stdout",
     "output_type": "stream",
     "text": [
      "-------------------------Findall func------------------------------------------\n",
      "['CDC']\n"
     ]
    }
   ],
   "source": [
    "import re\n",
    "\n",
    "#findall function\n",
    "print(\"-------------------------Findall func------------------------------------------\")\n",
    "txt = \"ABCDCDC\"\n",
    "x = re.findall(\"[C][D][C]\", txt)\n",
    "print(x)\n"
   ]
  },
  {
   "cell_type": "code",
   "execution_count": 4,
   "metadata": {},
   "outputs": [
    {
     "data": {
      "text/plain": [
       "['A',\n",
       " 'ASCII',\n",
       " 'DEBUG',\n",
       " 'DOTALL',\n",
       " 'I',\n",
       " 'IGNORECASE',\n",
       " 'L',\n",
       " 'LOCALE',\n",
       " 'M',\n",
       " 'MULTILINE',\n",
       " 'Match',\n",
       " 'Pattern',\n",
       " 'RegexFlag',\n",
       " 'S',\n",
       " 'Scanner',\n",
       " 'T',\n",
       " 'TEMPLATE',\n",
       " 'U',\n",
       " 'UNICODE',\n",
       " 'VERBOSE',\n",
       " 'X',\n",
       " '_MAXCACHE',\n",
       " '__all__',\n",
       " '__builtins__',\n",
       " '__cached__',\n",
       " '__doc__',\n",
       " '__file__',\n",
       " '__loader__',\n",
       " '__name__',\n",
       " '__package__',\n",
       " '__spec__',\n",
       " '__version__',\n",
       " '_cache',\n",
       " '_compile',\n",
       " '_compile_repl',\n",
       " '_expand',\n",
       " '_locale',\n",
       " '_pickle',\n",
       " '_special_chars_map',\n",
       " '_subx',\n",
       " 'compile',\n",
       " 'copyreg',\n",
       " 'enum',\n",
       " 'error',\n",
       " 'escape',\n",
       " 'findall',\n",
       " 'finditer',\n",
       " 'fullmatch',\n",
       " 'functools',\n",
       " 'match',\n",
       " 'purge',\n",
       " 'search',\n",
       " 'split',\n",
       " 'sre_compile',\n",
       " 'sre_parse',\n",
       " 'sub',\n",
       " 'subn',\n",
       " 'template']"
      ]
     },
     "execution_count": 4,
     "metadata": {},
     "output_type": "execute_result"
    }
   ],
   "source": [
    "dir(re)"
   ]
  },
  {
   "cell_type": "code",
   "execution_count": 7,
   "metadata": {},
   "outputs": [
    {
     "name": "stdout",
     "output_type": "stream",
     "text": [
      "-------------------------Finditer func------------------------------------------\n",
      "Match found: ai at position: 5\n",
      "Match found: ai at position: 14\n",
      "\n",
      "-------------------------Findall func------------------------------------------\n",
      "['ai', 'ai']\n",
      "[]\n",
      "-------------------------------------------------------------------\n",
      "-------------------------Search func------------------------------------------\n",
      "<re.Match object; span=(3, 4), match=' '>\n",
      "The first white-space character is located in position: 3\n",
      "The first white-space character is located in position: 4\n",
      "None\n",
      "-------------------------------------------------------------------\n",
      "-------------------------Split func------------------------------------------\n",
      "['The', 'rain', 'in', 'Spain']\n",
      "['The', 'rain', 'in Spain']\n",
      "-------------------------------------------------------------------\n",
      "-------------------------Sub func------------------------------------------\n",
      "The9rain9in9Spain\n",
      "The9rain9in Spain\n",
      "-------------------------------------------------------------------\n"
     ]
    }
   ],
   "source": [
    "import re\n",
    "\n",
    "#finditer function\n",
    "print(\"-------------------------Finditer func------------------------------------------\")\n",
    "txt = \"The rain in Spain\"\n",
    "matches = re.finditer(\"ai\", txt)\n",
    "for match in matches:\n",
    "    print(\"Match found:\", match.group(), \"at position:\", match.start())\n",
    "print()\n",
    "#findall function\n",
    "print(\"-------------------------Findall func------------------------------------------\")\n",
    "txt = \"The rain in Spain\"\n",
    "x = re.findall(\"ai\", txt)\n",
    "y= re.findall(\"Portugal\", txt)\n",
    "print(x)\n",
    "print(y)\n",
    "print(\"-------------------------------------------------------------------\")\n",
    "print(\"-------------------------Search func------------------------------------------\")\n",
    "txt = \"The rain in Spain\"\n",
    "x = re.search(\"\\s\", txt)\n",
    "print(x)\n",
    "print(\"The first white-space character is located in position:\", x.start())\n",
    "print(\"The first white-space character is located in position:\", x.end())\n",
    "y = re.search(\"Portugal\", txt)\n",
    "print(y)\n",
    "print(\"-------------------------------------------------------------------\")\n",
    "print(\"-------------------------Split func------------------------------------------\")\n",
    "txt = \"The rain in Spain\"\n",
    "x = re.split(\"\\s\", txt)\n",
    "print(x)\n",
    "x = re.split(\"\\s\", txt, 2)\n",
    "print(x)\n",
    "print(\"-------------------------------------------------------------------\")\n",
    "print(\"-------------------------Sub func------------------------------------------\")\n",
    "txt = \"The rain in Spain\"\n",
    "x = re.sub(\"\\s\", \"9\", txt)\n",
    "print(x)\n",
    "x = re.sub(\"\\s\", \"9\", txt, 2)\n",
    "print(x)\n",
    "print(\"-------------------------------------------------------------------\")"
   ]
  },
  {
   "cell_type": "code",
   "execution_count": null,
   "metadata": {},
   "outputs": [],
   "source": []
  },
  {
   "cell_type": "code",
   "execution_count": 23,
   "metadata": {},
   "outputs": [
    {
     "name": "stdout",
     "output_type": "stream",
     "text": [
      "<re.Match object; span=(6, 7), match='i'>\n",
      "The first white-space character is located in position: 6\n",
      "The first white-space character is located in position: 7\n",
      "The first white-space character is located in position: i\n"
     ]
    }
   ],
   "source": [
    "txt = \"The rain in Spain\"\n",
    "x = re.search(\"i\", txt)\n",
    "print(x)\n",
    "print(\"The first white-space character is located in position:\", x.start())\n",
    "print(\"The first white-space character is located in position:\", x.end())\n",
    "print(\"The first white-space character is located in position:\", x.group())"
   ]
  },
  {
   "cell_type": "code",
   "execution_count": 6,
   "metadata": {},
   "outputs": [
    {
     "name": "stdout",
     "output_type": "stream",
     "text": [
      "The r9n in Sp9n\n"
     ]
    }
   ],
   "source": [
    "txt = \"The rain in Spain\"\n",
    "x = re.sub(\"ai\", \"9\", txt)\n",
    "print(x)"
   ]
  },
  {
   "cell_type": "code",
   "execution_count": 31,
   "metadata": {},
   "outputs": [
    {
     "name": "stdout",
     "output_type": "stream",
     "text": [
      "<re.Match object; span=(0, 2), match='ab'>\n",
      "<re.Match object; span=(0, 1), match='b'>\n",
      "None\n",
      "<re.Match object; span=(0, 2), match='ab'>\n",
      "None\n",
      "None\n"
     ]
    }
   ],
   "source": [
    "import re\n",
    "\n",
    "# Example using * (asterisk) quantifier\n",
    "print(re.fullmatch(r'a*b', \"ab\"))  # Output: <re.Match object; span=(0, 2), match='ab'>\n",
    "print(re.fullmatch(r'a*b', \"b\"))   # Output: <re.Match object; span=(0, 1), match='b'>\n",
    "print(re.fullmatch(r'a*b', \"xyz\")) # Output: None\n",
    "\n",
    "# Example using + (plus) quantifier\n",
    "print(re.fullmatch(r'a+b', \"ab\"))  # Output: <re.Match object; span=(0, 2), match='ab'>\n",
    "print(re.fullmatch(r'a+b', \"b\"))   # Output: None\n",
    "print(re.fullmatch(r'a+b', \"xyz\")) # Output: None\n"
   ]
  },
  {
   "cell_type": "code",
   "execution_count": 18,
   "metadata": {},
   "outputs": [
    {
     "name": "stdout",
     "output_type": "stream",
     "text": [
      "Positive Lookahead: ['ana']\n"
     ]
    }
   ],
   "source": [
    "import re\n",
    "text = \"banana\"\n",
    "# Positive Lookahead\n",
    "lookahead_result = re.findall(r'ana', text)\n",
    "print(\"Positive Lookahead:\", lookahead_result)  # Output: ['banana']\n"
   ]
  }
 ],
 "metadata": {
  "kernelspec": {
   "display_name": "Python 3",
   "language": "python",
   "name": "python3"
  },
  "language_info": {
   "codemirror_mode": {
    "name": "ipython",
    "version": 3
   },
   "file_extension": ".py",
   "mimetype": "text/x-python",
   "name": "python",
   "nbconvert_exporter": "python",
   "pygments_lexer": "ipython3",
   "version": "3.9.13"
  },
  "orig_nbformat": 4
 },
 "nbformat": 4,
 "nbformat_minor": 2
}
