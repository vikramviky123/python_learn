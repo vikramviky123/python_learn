{
 "cells": [
  {
   "cell_type": "code",
   "execution_count": 1,
   "metadata": {},
   "outputs": [
    {
     "name": "stdout",
     "output_type": "stream",
     "text": [
      "prints all characters of a,r,n in string\n",
      "['r', 'a', 'n', 'n', 'a', 'n']\n",
      "--------------------------------------------------------------------------------\n",
      "prints all characters EXCEPT a,r,n in string\n",
      "['T', 'h', 'e', ' ', 'i', ' ', 'i', ' ', 'S', 'p', 'i', ' ', '$']\n",
      "--------------------------------------------------------------------------------\n",
      "['h', 'e', 'a', 'i', 'n', 'i', 'n', 'a', 'i', 'n']\n"
     ]
    }
   ],
   "source": [
    "import re\n",
    "\n",
    "txt = \"The rain in Spain $\"\n",
    "\n",
    "#Check if the string has any a, r, or n characters:\n",
    "print(\"prints all characters of a,r,n in string\")\n",
    "x = re.findall(\"[arn]\", txt)\n",
    "print(x)\n",
    "print(\"-\"*80)\n",
    "\n",
    "#Check if the string has other characters than a, r, or n:\n",
    "print(\"prints all characters EXCEPT a,r,n in string\")\n",
    "x = re.findall(\"[^arn]\", txt)\n",
    "print(x)\n",
    "print(\"-\"*80)\n",
    "\n",
    "#Check if the string has any characters between a and n:\n",
    "x = re.findall(\"[a-n]\", txt)\n",
    "print(x)"
   ]
  },
  {
   "cell_type": "code",
   "execution_count": 23,
   "metadata": {},
   "outputs": [
    {
     "name": "stdout",
     "output_type": "stream",
     "text": [
      "The text for finding is ---> 8 times before 11:45 AM @#$%&\n",
      "--------------------------------------------------------------------------------\n",
      "['8', '1', '1', '4', '5']\n",
      "--------------------------------------------------------------------------------\n",
      "['11', '45']\n",
      "--------------------------------------------------------------------------------\n"
     ]
    }
   ],
   "source": [
    "txt = \"8 times before 11:45 AM @#$%&\"\n",
    "\n",
    "print(\"The text for finding is --->\", txt)\n",
    "print(\"-\"*80)\n",
    "\n",
    "#Check if the string has any digits:\n",
    "x = re.findall(\"[0-9]\", txt)\n",
    "print(x)\n",
    "print(\"-\"*80)\n",
    "\n",
    "#Check if the string has any two-digit numbers, from 00 to 59:\n",
    "x = re.findall(\"[0-5][0-9]\", txt)\n",
    "print(x)\n",
    "print(\"-\"*80)"
   ]
  },
  {
   "cell_type": "code",
   "execution_count": 25,
   "metadata": {},
   "outputs": [
    {
     "name": "stdout",
     "output_type": "stream",
     "text": [
      "['8954', '9999']\n",
      "--------------------------------------------------------------------------------\n"
     ]
    }
   ],
   "source": [
    "txt = \"8 times 55, 66, 8954,5954,9999 before 11:45 AM @#$%&\"\n",
    "\n",
    "#Check if the string has any two-digit numbers, from 00 to 59:\n",
    "x = re.findall(\"[7-9][0-9]{3}\", txt)\n",
    "print(x)\n",
    "print(\"-\"*80)"
   ]
  },
  {
   "cell_type": "code",
   "execution_count": 24,
   "metadata": {},
   "outputs": [
    {
     "name": "stdout",
     "output_type": "stream",
     "text": [
      "['t', 'i', 'm', 'e', 's', 'b', 'e', 'f', 'o', 'r', 'e', 'A', 'M']\n"
     ]
    }
   ],
   "source": [
    "#Check if the string has any characters from a to z lower case, and A to Z upper case:\n",
    "x = re.findall(\"[a-zA-Z]\", txt)\n",
    "print(x)"
   ]
  },
  {
   "cell_type": "code",
   "execution_count": 25,
   "metadata": {},
   "outputs": [
    {
     "name": "stdout",
     "output_type": "stream",
     "text": [
      "['8', 't', 'i', 'm', 'e', 's', 'b', 'e', 'f', 'o', 'r', 'e', '1', '1', '4', '5', 'A', 'M']\n"
     ]
    }
   ],
   "source": [
    "#Check if the string has any characters from a to z lower case, and A to Z upper case and  0 to 9 numbers:\n",
    "x = re.findall(\"[a-zA-Z0-9]\", txt)\n",
    "print(x)"
   ]
  },
  {
   "cell_type": "code",
   "execution_count": 27,
   "metadata": {},
   "outputs": [
    {
     "name": "stdout",
     "output_type": "stream",
     "text": [
      "['$']\n"
     ]
    }
   ],
   "source": [
    "#Check if the string has any + characters:\n",
    "x = re.findall(\"[$]\", txt)\n",
    "print(x)"
   ]
  }
 ],
 "metadata": {
  "kernelspec": {
   "display_name": "Python 3",
   "language": "python",
   "name": "python3"
  },
  "language_info": {
   "codemirror_mode": {
    "name": "ipython",
    "version": 3
   },
   "file_extension": ".py",
   "mimetype": "text/x-python",
   "name": "python",
   "nbconvert_exporter": "python",
   "pygments_lexer": "ipython3",
   "version": "3.9.13"
  },
  "orig_nbformat": 4
 },
 "nbformat": 4,
 "nbformat_minor": 2
}
