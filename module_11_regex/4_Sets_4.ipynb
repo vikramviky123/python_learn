{
 "cells": [
  {
   "cell_type": "code",
   "execution_count": 1,
   "metadata": {},
   "outputs": [
    {
     "name": "stdout",
     "output_type": "stream",
     "text": [
      "prints all characters of a,r,n in string\n",
      "['r', 'a', 'n', 'n', 'a', 'n']\n",
      "--------------------------------------------------------------------------------\n",
      "prints all characters EXCEPT a,r,n in string\n",
      "['T', 'h', 'e', ' ', 'i', ' ', 'i', ' ', 'S', 'p', 'i', ' ', '$']\n",
      "--------------------------------------------------------------------------------\n",
      "['h', 'e', 'a', 'i', 'n', 'i', 'n', 'a', 'i', 'n']\n"
     ]
    }
   ],
   "source": [
    "import re\n",
    "\n",
    "txt = \"The rain in Spain $\"\n",
    "\n",
    "#Check if the string has any a, r, or n characters:\n",
    "print(\"prints all characters of a,r,n in string\")\n",
    "x = re.findall(\"[arn]\", txt)\n",
    "print(x)\n",
    "print(\"-\"*80)\n",
    "\n",
    "#Check if the string has other characters than a, r, or n:\n",
    "print(\"prints all characters EXCEPT a,r,n in string\")\n",
    "x = re.findall(\"[^arn]\", txt)\n",
    "print(x)\n",
    "print(\"-\"*80)\n",
    "\n",
    "#Check if the string has any characters between a and n:\n",
    "x = re.findall(\"[a-n]\", txt)\n",
    "print(x)"
   ]
  },
  {
   "cell_type": "code",
   "execution_count": 23,
   "metadata": {},
   "outputs": [
    {
     "name": "stdout",
     "output_type": "stream",
     "text": [
      "The text for finding is ---> 8 times before 11:45 AM @#$%&\n",
      "--------------------------------------------------------------------------------\n",
      "['8', '1', '1', '4', '5']\n",
      "--------------------------------------------------------------------------------\n",
      "['11', '45']\n",
      "--------------------------------------------------------------------------------\n"
     ]
    }
   ],
   "source": [
    "txt = \"8 times before 11:45 AM @#$%&\"\n",
    "\n",
    "print(\"The text for finding is --->\", txt)\n",
    "print(\"-\"*80)\n",
    "\n",
    "#Check if the string has any digits:\n",
    "x = re.findall(\"[0-9]\", txt)\n",
    "print(x)\n",
    "print(\"-\"*80)\n",
    "\n",
    "#Check if the string has any two-digit numbers, from 00 to 59:\n",
    "x = re.findall(\"[0-5][0-9]\", txt)\n",
    "print(x)\n",
    "print(\"-\"*80)"
   ]
  },
  {
   "cell_type": "code",
   "execution_count": 25,
   "metadata": {},
   "outputs": [
    {
     "name": "stdout",
     "output_type": "stream",
     "text": [
      "['8954', '9999']\n",
      "--------------------------------------------------------------------------------\n"
     ]
    }
   ],
   "source": [
    "txt = \"8 times 55, 66, 8954,5954,9999 before 11:45 AM @#$%&\"\n",
    "\n",
    "#Check if the string has any two-digit numbers, from 00 to 59:\n",
    "x = re.findall(\"[7-9][0-9]{3}\", txt)\n",
    "print(x)\n",
    "print(\"-\"*80)"
   ]
  },
  {
   "cell_type": "code",
   "execution_count": 24,
   "metadata": {},
   "outputs": [
    {
     "name": "stdout",
     "output_type": "stream",
     "text": [
      "['t', 'i', 'm', 'e', 's', 'b', 'e', 'f', 'o', 'r', 'e', 'A', 'M']\n"
     ]
    }
   ],
   "source": [
    "#Check if the string has any characters from a to z lower case, and A to Z upper case:\n",
    "x = re.findall(\"[a-zA-Z]\", txt)\n",
    "print(x)"
   ]
  },
  {
   "cell_type": "code",
   "execution_count": 25,
   "metadata": {},
   "outputs": [
    {
     "name": "stdout",
     "output_type": "stream",
     "text": [
      "['8', 't', 'i', 'm', 'e', 's', 'b', 'e', 'f', 'o', 'r', 'e', '1', '1', '4', '5', 'A', 'M']\n"
     ]
    }
   ],
   "source": [
    "#Check if the string has any characters from a to z lower case, and A to Z upper case and  0 to 9 numbers:\n",
    "x = re.findall(\"[a-zA-Z0-9]\", txt)\n",
    "print(x)"
   ]
  },
  {
   "cell_type": "code",
   "execution_count": 27,
   "metadata": {},
   "outputs": [
    {
     "name": "stdout",
     "output_type": "stream",
     "text": [
      "['$']\n"
     ]
    }
   ],
   "source": [
    "#Check if the string has any + characters:\n",
    "x = re.findall(\"[$]\", txt)\n",
    "print(x)"
   ]
  },
  {
   "cell_type": "code",
   "execution_count": 1,
   "metadata": {},
   "outputs": [
    {
     "name": "stdout",
     "output_type": "stream",
     "text": [
      "['world']\n"
     ]
    }
   ],
   "source": [
    "import re\n",
    "\n",
    "text = \"Hello, world! How are you?\"\n",
    "\n",
    "# Match 'world' only if preceded by 'Hello, '\n",
    "pattern = r'(?<=Hello, )world'\n",
    "result = re.findall(pattern, text)\n",
    "\n",
    "print(result)  # Output: ['world']\n"
   ]
  },
  {
   "cell_type": "markdown",
   "metadata": {},
   "source": []
  },
  {
   "cell_type": "code",
   "execution_count": 71,
   "metadata": {},
   "outputs": [
    {
     "name": "stdout",
     "output_type": "stream",
     "text": [
      "Positive Lookbehind: [' 1234', ' 1233', ' 5678']\n",
      "Positive Lookahead: ['ban', 'mon']\n",
      "Negative Lookbehind: ['1234', '1233', '5678', '5485']\n",
      "Negative Lookahead: ['apple', 'banana', 'monana', '1234', 'milk', '1233cat', 'cat', 'dog', '5678', '5485']\n",
      "Capturing Groups: [('12', '34'), ('12', '33'), ('56', '78'), ('54', '85')]\n",
      "Non-Capturing Groups: ['1234', '1233', '5678', '5485']\n",
      "Backreferences: ['3']\n",
      "Word Boundaries: ['1234', 'milk', '5678', '5485']\n",
      "Line Anchors with Multiline: ['Line 1', 'Line 2', 'Line 3']\n",
      "Quantifiers: ['1234', '1233', '5678', '5485']\n",
      "Greedy Quantifier: ['apple', 'banana', 'monana', '1234', 'milk', '1233cat', 'cat', 'dog', '5678', '5485']\n",
      "Greedy_ Quantifier_: ['a', 'p', 'p', 'l', 'e', 'b', 'a', 'n', 'a', 'n', 'a', 'm', 'o', 'n', 'a', 'n', 'a', '1', '2', '3', '4', 'm', 'i', 'l', 'k', '1', '2', '3', '3', 'c', 'a', 't', 'c', 'a', 't', 'd', 'o', 'g', '5', '6', '7', '8', '5', '4', '8', '5']\n",
      "Non-Greedy Quantifier: ['a', 'p', 'p', 'l', 'e', 'b', 'a', 'n', 'a', 'n', 'a', 'm', 'o', 'n', 'a', 'n', 'a', '1', '2', '3', '4', 'm', 'i', 'l', 'k', '1', '2', '3', '3', 'c', 'a', 't', 'c', 'a', 't', 'd', 'o', 'g', '5', '6', '7', '8', '5', '4', '8', '5']\n",
      "Non-Greedy_ Quantifier_: ['a', 'p', 'p', 'l', 'e', 'b', 'a', 'n', 'a', 'n', 'a', 'm', 'o', 'n', 'a', 'n', 'a', '1', '2', '3', '4', 'm', 'i', 'l', 'k', '1', '2', '3', '3', 'c', 'a', 't', 'c', 'a', 't', 'd', 'o', 'g', '5', '6', '7', '8', '5', '4', '8', '5']\n",
      "Non-Greedy_ Quantifier_1: ['apple', 'banana', 'monana', '1234', 'milk', '1233cat', 'cat', 'dog', '5678', '5485']\n",
      "Character Classes: ['a', 'e', 'a', 'a', 'a', 'o', 'a', 'a', 'i', 'a', 'a', 'o']\n",
      "Negated Character Classes: ['ppl', 'b', 'n', 'n', 'm', 'n', 'n', 'm', 'lk', 'c', 't', 'c', 't', 'd', 'g']\n",
      "Alternation: ['1234', 'cat', 'dog', '5678', '5485']\n",
      "Escape Characters: ['1234', '1233', '5678', '5485']\n"
     ]
    }
   ],
   "source": [
    "import re\n",
    "\n",
    "# Sample text\n",
    "text = \"apple banana monana 1234 milk 1233cat cat dog 5678 5485\"\n",
    "\n",
    "# Positive Lookbehind\n",
    "lookbehind_result = re.findall(r'(?<=[a-z])\\s+\\d+', text)\n",
    "print(\"Positive Lookbehind:\", lookbehind_result)  # Output: [' 1234', ' 5678']\n",
    "\n",
    "# Positive Lookahead\n",
    "lookahead_result = re.findall(r'\\b\\w+(?=ana)', text)\n",
    "print(\"Positive Lookahead:\", lookahead_result)  # Output: ['banana']\n",
    "\n",
    "# Negative Lookbehind\n",
    "negative_lookbehind_result = re.findall(r'(?<![a-z])\\d+', text)\n",
    "print(\"Negative Lookbehind:\", negative_lookbehind_result)  # Output: ['1234', '5678']\n",
    "\n",
    "# Negative Lookahead\n",
    "negative_lookahead_result = re.findall(r'\\b\\w+(?!ana)', text)\n",
    "print(\"Negative Lookahead:\", negative_lookahead_result)  # Output: ['apple', '1234', 'cat', 'dog', '5678']\n",
    "\n",
    "# Capturing Groups\n",
    "capturing_group_result = re.findall(r'(\\d{2})(\\d{2})', text)\n",
    "print(\"Capturing Groups:\", capturing_group_result)  # Output: [('12', '34'), ('56', '78')]\n",
    "\n",
    "# Non-Capturing Groups\n",
    "non_capturing_group_result = re.findall(r'\\d{2}(?:\\d{2})', text)\n",
    "print(\"Non-Capturing Groups:\", non_capturing_group_result)  # Output: ['1234', '5678']\n",
    "\n",
    "# Backreferences\n",
    "backreference_result = re.findall(r'(\\d)\\1', text)\n",
    "print(\"Backreferences:\", backreference_result)  # Output: ['1']\n",
    "\n",
    "# Word Boundaries\n",
    "word_boundary_result = re.findall(r'\\b\\w{4}\\b', text)\n",
    "print(\"Word Boundaries:\", word_boundary_result)  # Output: ['apple', '5678']\n",
    "\n",
    "# Line Anchors with Multiline Mode\n",
    "multiline_text = \"Line 1\\nLine 2\\nLine 3\"\n",
    "multiline_result = re.findall(r'^Line \\d', multiline_text, re.MULTILINE)\n",
    "print(\"Line Anchors with Multiline:\", multiline_result)  # Output: ['Line 1', 'Line 2', 'Line 3']\n",
    "\n",
    "# Quantifiers\n",
    "quantifier_result = re.findall(r'\\d{2,}', text)\n",
    "print(\"Quantifiers:\", quantifier_result)  # Output: ['1234', '5678']\n",
    "\n",
    "# Greedy and Non-Greedy Quantifiers\n",
    "greedy_result = re.findall(r'\\w+', text)\n",
    "greedy_result_ = re.findall(r'\\w', text)\n",
    "non_greedy_result = re.findall(r'\\w+?', text)\n",
    "non_greedy_result_ = re.findall(r'[a-zA-Z0-9]', text)\n",
    "non_greedy_result_1 = re.findall(r'[a-zA-Z0-9]+', text)\n",
    "print(\"Greedy Quantifier:\", greedy_result)  # Output: ['apple', 'banana', '1234', 'cat', 'dog', '5678']\n",
    "print(\"Greedy_ Quantifier_:\", greedy_result_)  # Output: ['a', 'p', 'p', 'l', 'e', 'b', 'a', 'n', 'a', 'n', 'a', '1', '2', '3', '4', 'c', 'a', 't', 'd', 'o', 'g', '5', '6', '7', '8']\n",
    "print(\"Non-Greedy Quantifier:\", non_greedy_result)  # Output: ['a', 'p', 'p', 'l', 'e', 'b', 'a', 'n', 'a', 'n', 'a', '1', '2', '3', '4', 'c', 'a', 't', 'd', 'o', 'g', '5', '6', '7', '8']\n",
    "print(\"Non-Greedy_ Quantifier_:\", non_greedy_result_)  # Output: ['a', 'p', 'p', 'l', 'e', 'b', 'a', 'n', 'a', 'n', 'a', '1', '2', '3', '4', 'c', 'a', 't', 'd', 'o', 'g', '5', '6', '7', '8']\n",
    "print(\"Non-Greedy_ Quantifier_1:\", non_greedy_result_1)  # Output: ['apple', 'banana', '1234', 'cat', 'dog', '5678']\n",
    "\n",
    "# Character Classes\n",
    "char_class_result = re.findall(r'[aeiou]', text)\n",
    "print(\"Character Classes:\", char_class_result)  # Output: ['a', 'e', 'a', 'a']\n",
    "\n",
    "# Negated Character Classes\n",
    "negated_char_class_result = re.findall(r'[^aeiou\\s\\d]+', text)\n",
    "print(\"Negated Character Classes:\", negated_char_class_result)  # Output: ['ppl', ' b', 'n', 'n', ' c', 't', ' d', 'g']\n",
    "\n",
    "# Alternation\n",
    "alternation_result = re.findall(r'\\b\\d+\\b|\\b\\w{3}\\b', text)\n",
    "print(\"Alternation:\", alternation_result)  # Output: ['apple', '1234', 'cat', 'dog', '5678']\n",
    "\n",
    "# Escape Characters\n",
    "escape_result = re.findall(r'\\d{4}', text)\n",
    "print(\"Escape Characters:\", escape_result)  # Output: ['1234', '5678']"
   ]
  },
  {
   "cell_type": "code",
   "execution_count": 19,
   "metadata": {},
   "outputs": [
    {
     "name": "stdout",
     "output_type": "stream",
     "text": [
      "[('09', '09', '2023')]\n",
      "['www.example.com']\n",
      "['p']\n",
      "['important', 'urgent']\n",
      "[('support', 'example.com'), ('info', 'test.org')]\n",
      "['www.example.com for more information.']\n"
     ]
    }
   ],
   "source": [
    "import re\n",
    "\n",
    "# Matching dates in the format mm/dd/yyyy\n",
    "date_pattern = r'(\\d{2})/(\\d{2})/(\\d{4})'\n",
    "\n",
    "# Extracting the protocol and domain from URLs\n",
    "url_pattern = r'(?:https//)?(www\\..+\\.\\w{3})'\n",
    "\n",
    "# Matching HTML tags and capturing the tag name\n",
    "html_tag_pattern = r'<(\\w+)>'\n",
    "\n",
    "# Extracting words surrounded by double quotes\n",
    "quoted_words_pattern = r'\"([^\"]+)\"'\n",
    "\n",
    "# Matching and capturing email addresses\n",
    "email_pattern = r'(\\w+)@(\\w+\\.\\w+)'\n",
    "\n",
    "# Using non-capturing groups for optional HTTP/HTTPS in URLs\n",
    "non_capturing_url_pattern = r'(?:https?://)?(www\\..+)'\n",
    "\n",
    "text = \"The date is 09/09/2023. Visit http://www.example.com for more information.\"\n",
    "print(re.findall(date_pattern, text))\n",
    "print(re.findall(url_pattern, text))\n",
    "print(re.findall(html_tag_pattern, \"<p>Some text</p>\"))\n",
    "print(re.findall(quoted_words_pattern, 'This is \"important\" and \"urgent\".'))\n",
    "print(re.findall(email_pattern, 'Contact us at support@example.com or info@test.org'))\n",
    "print(re.findall(non_capturing_url_pattern, 'Visit http://www.example.com for more information.'))\n"
   ]
  },
  {
   "cell_type": "code",
   "execution_count": 5,
   "metadata": {},
   "outputs": [
    {
     "name": "stdout",
     "output_type": "stream",
     "text": [
      "['hello', 'world']\n"
     ]
    }
   ],
   "source": [
    "import re\n",
    "\n",
    "text = \"hello hello, world world world\"\n",
    "pattern = r\"(\\b\\w+\\b) \\1\"  # \\1 refers to the first capturing group (\\b\\w+\\b)\n",
    "\n",
    "matches = re.findall(pattern, text)\n",
    "print(matches)  # Output: ['hello hello', 'world world']\n"
   ]
  },
  {
   "cell_type": "code",
   "execution_count": 10,
   "metadata": {},
   "outputs": [
    {
     "name": "stdout",
     "output_type": "stream",
     "text": [
      "memphis hello rogerllo world mephis hello\n"
     ]
    }
   ],
   "source": [
    "import re\n",
    "\n",
    "text = \"hello memphis world rogerllo hello mephis\"\n",
    "pattern = r\"(\\b\\w+\\b) (\\b\\w+\\b)\"\n",
    "\n",
    "result = re.sub(pattern, r\"\\2 \\1\", text)\n",
    "print(result)\n"
   ]
  },
  {
   "cell_type": "code",
   "execution_count": 4,
   "metadata": {},
   "outputs": [
    {
     "name": "stdout",
     "output_type": "stream",
     "text": [
      "[('apple', '1234'), ('banana', '1234'), ('cherry', '23')]\n",
      "1234 apple\n",
      "1234 banana\n",
      "23 cherry\n"
     ]
    }
   ],
   "source": [
    "import re\n",
    "\n",
    "text = \"apple 1234 banana 1234 cherry 23 date\"\n",
    "pattern = r\"(\\b\\w+\\b) (\\b\\d+\\b)\"\n",
    "\n",
    "matches = re.findall(pattern, text)\n",
    "print(matches)\n",
    "swapped_matches = [match[1] + \" \" + match[0] for match in matches]\n",
    "\n",
    "for match in swapped_matches:\n",
    "    print(match)\n",
    "\n"
   ]
  },
  {
   "cell_type": "code",
   "execution_count": 69,
   "metadata": {},
   "outputs": [
    {
     "name": "stdout",
     "output_type": "stream",
     "text": [
      "['12', '23']\n"
     ]
    }
   ],
   "source": [
    "import re\n",
    "\n",
    "text = \"12,23, 123 ,4565\"\n",
    "x = re.findall(r\"\\,?(\\d+)\\,\", text)\n",
    "print(x)"
   ]
  },
  {
   "cell_type": "code",
   "execution_count": 11,
   "metadata": {},
   "outputs": [
    {
     "name": "stdout",
     "output_type": "stream",
     "text": [
      "Positive Lookahead: ['banana', 'monana']\n"
     ]
    }
   ],
   "source": [
    "# Sample text\n",
    "text = \"apple banana monana zonanaaa 1234 cat dog 5678\"\n",
    "\n",
    "# Positive Lookahead\n",
    "lookahead_result = re.findall(r'\\w+ana\\b', text)\n",
    "print(\"Positive Lookahead:\", lookahead_result)  # Output: ['banana']"
   ]
  },
  {
   "cell_type": "code",
   "execution_count": 20,
   "metadata": {},
   "outputs": [
    {
     "name": "stdout",
     "output_type": "stream",
     "text": [
      "['apple']\n"
     ]
    }
   ],
   "source": [
    "import re\n",
    "\n",
    "pattern = r\"apple(?= pie)\"\n",
    "text = \"apple pie is delicious. apple jam is also good.\"\n",
    "\n",
    "matches = re.findall(pattern, text)\n",
    "print(matches)  # Output: ['apple']\n"
   ]
  },
  {
   "cell_type": "code",
   "execution_count": 21,
   "metadata": {},
   "outputs": [
    {
     "name": "stdout",
     "output_type": "stream",
     "text": [
      "['pie']\n"
     ]
    }
   ],
   "source": [
    "import re\n",
    "\n",
    "pattern = r\"(?<=apple )pie\"\n",
    "text = \"apple pie is delicious. banana pie is not.\"\n",
    "\n",
    "matches = re.findall(pattern, text)\n",
    "print(matches)  # Output: ['pie']\n"
   ]
  },
  {
   "cell_type": "code",
   "execution_count": 23,
   "metadata": {},
   "outputs": [
    {
     "name": "stdout",
     "output_type": "stream",
     "text": [
      "apple: Starts with a vowel\n",
      "banana: Does not start with a vowel\n",
      "orange: Starts with a vowel\n",
      "grape: Does not start with a vowel\n",
      "pear: Does not start with a vowel\n"
     ]
    }
   ],
   "source": [
    "import re\n",
    "\n",
    "pattern = r'^(?=[aeiou])'\n",
    "strings = ['apple', 'banana', 'orange', 'grape', 'pear']\n",
    "\n",
    "for string in strings:\n",
    "    if re.match(pattern, string):\n",
    "        print(f\"{string}: Starts with a vowel\")\n",
    "    else:\n",
    "        print(f\"{string}: Does not start with a vowel\")\n"
   ]
  },
  {
   "cell_type": "code",
   "execution_count": 3,
   "metadata": {},
   "outputs": [
    {
     "name": "stdout",
     "output_type": "stream",
     "text": [
      "Words that start with a vowel: ['Apples', 'are', 'amazing', 'and', 'are']\n"
     ]
    }
   ],
   "source": [
    "import re\n",
    "\n",
    "text = \"Apples are amazing and oranges are orange.\"\n",
    "\n",
    "pattern = r'(?=[a])\\b\\w+'\n",
    "vowel_start_words = re.findall(pattern, text, re.IGNORECASE)\n",
    "\n",
    "print(\"Words that start with a vowel:\", vowel_start_words)\n"
   ]
  },
  {
   "cell_type": "code",
   "execution_count": 31,
   "metadata": {},
   "outputs": [
    {
     "name": "stdout",
     "output_type": "stream",
     "text": [
      "john@example.com\n",
      "jane@example.com\n"
     ]
    }
   ],
   "source": [
    "import re\n",
    "\n",
    "text = \"Hello, my email is john@example.com and my friend's email is jane@example.com.\"\n",
    "\n",
    "# Capture email addresses using capturing groups\n",
    "pattern = r'(\\w+@\\w+\\.\\w+)'\n",
    "matches = re.findall(pattern, text)\n",
    "\n",
    "for match in matches:\n",
    "    print(match)\n"
   ]
  },
  {
   "cell_type": "code",
   "execution_count": 64,
   "metadata": {},
   "outputs": [
    {
     "name": "stdout",
     "output_type": "stream",
     "text": [
      "['foo', 'bar']\n",
      "['123456', '789012']\n",
      "Mr. Smith\n",
      "['1,234.56', '.99', '100', '000', '0']\n",
      "apple banana cherry\n",
      "['foobar']\n",
      "https://www.example.com\n"
     ]
    }
   ],
   "source": [
    "import re\n",
    "\n",
    "# 1. Simple Non-Capturing Group\n",
    "pattern1 = r'(?:foo|bar)'\n",
    "text1 = \"foo barr\"\n",
    "matches1 = re.findall(pattern1, text1)\n",
    "print(matches1)  # Output: ['foo', 'bar']\n",
    "\n",
    "# 2. Using a Non-Capturing Group with Quantifiers\n",
    "pattern2 = r'(?:\\d{3}){2}'\n",
    "text2 = \"123456 789012\"\n",
    "matches2 = re.findall(pattern2, text2)\n",
    "print(matches2)  # Output: ['123456', '789012']\n",
    "\n",
    "# 3. Non-Capturing Group with Alternation\n",
    "pattern3 = r'^(?:Mr|Mrs|Ms)\\. (?:Smith|Johnson|Doe)$'\n",
    "text3 = \"Mr. Smith\"\n",
    "match3 = re.match(pattern3, text3)\n",
    "print(match3.group())  # Output: 'Mr. Smith'\n",
    "\n",
    "# 4. Complex Nested Non-Capturing Groups\n",
    "pattern4 = r'(?:\\d{1,3}(?:,\\d{3})*(?:\\.\\d{2})?|\\.\\d{2})'\n",
    "text4 = \"1,234.56 .99 1000000\"\n",
    "matches4 = re.findall(pattern4, text4)\n",
    "print(matches4)  # Output: ['1,234.56', '.99', '1000000']\n",
    "\n",
    "# 5. Using Non-Capturing Groups for Repeating Patterns\n",
    "pattern5 = r'(?:\\w+\\s*)+'\n",
    "text5 = \"apple banana cherry\"\n",
    "match5 = re.match(pattern5, text5)\n",
    "print(match5.group())  # Output: 'apple banana cherry'\n",
    "\n",
    "# 6. Non-Capturing Group with Lookahead\n",
    "pattern6 = r'foo(?=bar)(?:bar)'\n",
    "text6 = \"foobar fooqux\"\n",
    "matches6 = re.findall(pattern6, text6)\n",
    "print(matches6)  # Output: ['foo']\n",
    "\n",
    "# 7. Non-Capturing Group within a Larger Pattern\n",
    "pattern7 = r'^(?:https?|ftp)://(?:www\\.)?[a-zA-Z0-9.-]+\\.(?:com|org|net)$'\n",
    "text7 = \"https://www.example.com\"\n",
    "match7 = re.match(pattern7, text7)\n",
    "print(match7.group())  # Output: 'https://www.example.com'\n"
   ]
  },
  {
   "cell_type": "code",
   "execution_count": 67,
   "metadata": {},
   "outputs": [
    {
     "name": "stdout",
     "output_type": "stream",
     "text": [
      "Non-Capturing Group: ['2023', '2023']\n",
      "Positive Lookbehind: ['2023', '2023']\n"
     ]
    }
   ],
   "source": [
    "text = \"Today's date is 09-09-2023, and yesterday was 08-09-2023, but 07-2023 is special. 07-2023 is also special.\"\n",
    "\n",
    "# Using Non-Capturing Groups\n",
    "import re\n",
    "pattern_non_capturing = r'(?:07-)(\\d{4})'\n",
    "matches_non_capturing = re.findall(pattern_non_capturing, text)\n",
    "print(\"Non-Capturing Group:\", matches_non_capturing)\n",
    "\n",
    "# Using Positive Lookbehind\n",
    "pattern_lookbehind = r'(?<=07-)\\d{4}'\n",
    "matches_lookbehind = re.findall(pattern_lookbehind, text)\n",
    "print(\"Positive Lookbehind:\", matches_lookbehind)\n"
   ]
  }
 ],
 "metadata": {
  "kernelspec": {
   "display_name": "Python 3",
   "language": "python",
   "name": "python3"
  },
  "language_info": {
   "codemirror_mode": {
    "name": "ipython",
    "version": 3
   },
   "file_extension": ".py",
   "mimetype": "text/x-python",
   "name": "python",
   "nbconvert_exporter": "python",
   "pygments_lexer": "ipython3",
   "version": "3.9.13"
  },
  "orig_nbformat": 4
 },
 "nbformat": 4,
 "nbformat_minor": 2
}
