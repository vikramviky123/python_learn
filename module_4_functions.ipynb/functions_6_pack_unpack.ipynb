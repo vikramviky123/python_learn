{
 "cells": [
  {
   "cell_type": "markdown",
   "metadata": {},
   "source": [
    "#Packing& Un Packing"
   ]
  },
  {
   "cell_type": "code",
   "execution_count": 3,
   "metadata": {},
   "outputs": [
    {
     "name": "stdout",
     "output_type": "stream",
     "text": [
      "Audi BMW Lamborghini\n"
     ]
    }
   ],
   "source": [
    "carCompany = ['Audi','BMW','Lamborghini']\n",
    "print(*carCompany)"
   ]
  },
  {
   "cell_type": "code",
   "execution_count": 2,
   "metadata": {},
   "outputs": [
    {
     "data": {
      "text/plain": [
       "5579"
      ]
     },
     "execution_count": 2,
     "metadata": {},
     "output_type": "execute_result"
    }
   ],
   "source": [
    "def add_numbers(*args):\n",
    "  total = 0\n",
    "  for num in args:\n",
    "    total += num\n",
    "  return total\n",
    "\n",
    "add_numbers(1,2,5,6,4,8,5,4,5544)"
   ]
  },
  {
   "cell_type": "code",
   "execution_count": 4,
   "metadata": {},
   "outputs": [
    {
     "name": "stdout",
     "output_type": "stream",
     "text": [
      "(10, 15, 20, 'vikram')\n"
     ]
    }
   ],
   "source": [
    "# A Python program to demonstrate packing of\n",
    "# dictionary items using **\n",
    "def fun(*args):\n",
    " \n",
    "    # Printing dictionary items\n",
    "    print(args)\n",
    " \n",
    "fun(10,15,20,\"vikram\")"
   ]
  },
  {
   "cell_type": "code",
   "execution_count": 3,
   "metadata": {},
   "outputs": [
    {
     "name": "stdout",
     "output_type": "stream",
     "text": [
      "{'name': 'Scaler Academy', 'ID': '001', 'language': 'Python'}\n"
     ]
    }
   ],
   "source": [
    "# A Python program to demonstrate packing of\n",
    "# dictionary items using **\n",
    "def fun(**kwargs):\n",
    " \n",
    "    # Printing dictionary items\n",
    "    print(kwargs)\n",
    " \n",
    "fun(name=\"Scaler Academy\", ID=\"001\", language=\"Python\")"
   ]
  },
  {
   "cell_type": "markdown",
   "metadata": {},
   "source": [
    "#Unpacking Arguments"
   ]
  },
  {
   "cell_type": "code",
   "execution_count": 5,
   "metadata": {},
   "outputs": [
    {
     "ename": "TypeError",
     "evalue": "unsupported operand type(s) for +=: 'int' and 'tuple'",
     "output_type": "error",
     "traceback": [
      "\u001b[1;31m---------------------------------------------------------------------------\u001b[0m",
      "\u001b[1;31mTypeError\u001b[0m                                 Traceback (most recent call last)",
      "Cell \u001b[1;32mIn[5], line 11\u001b[0m\n\u001b[0;32m      8\u001b[0m     total \u001b[39m+\u001b[39m\u001b[39m=\u001b[39m num\n\u001b[0;32m      9\u001b[0m   \u001b[39mreturn\u001b[39;00m total\n\u001b[1;32m---> 11\u001b[0m add_numbers(values)\n",
      "Cell \u001b[1;32mIn[5], line 8\u001b[0m, in \u001b[0;36madd_numbers\u001b[1;34m(*args)\u001b[0m\n\u001b[0;32m      6\u001b[0m total \u001b[39m=\u001b[39m \u001b[39m0\u001b[39m\n\u001b[0;32m      7\u001b[0m \u001b[39mfor\u001b[39;00m num \u001b[39min\u001b[39;00m args:\n\u001b[1;32m----> 8\u001b[0m   total \u001b[39m+\u001b[39m\u001b[39m=\u001b[39m num\n\u001b[0;32m      9\u001b[0m \u001b[39mreturn\u001b[39;00m total\n",
      "\u001b[1;31mTypeError\u001b[0m: unsupported operand type(s) for +=: 'int' and 'tuple'"
     ]
    }
   ],
   "source": [
    "#Supposing 1, 2, 3, 4, 5 are going to be function parameters\n",
    "# We want to add these numbers\n",
    "values = (1, 2, 3, 4, 5)\n",
    " \n",
    "def add_numbers(*args):\n",
    "  total = 0\n",
    "  for num in args:\n",
    "    total += num\n",
    "  return total\n",
    " \n",
    "add_numbers(values)"
   ]
  },
  {
   "cell_type": "code",
   "execution_count": 6,
   "metadata": {},
   "outputs": [
    {
     "data": {
      "text/plain": [
       "15"
      ]
     },
     "execution_count": 6,
     "metadata": {},
     "output_type": "execute_result"
    }
   ],
   "source": [
    "# We want to add these numbers\n",
    "values = (1, 2, 3, 4, 5)\n",
    " \n",
    "def add_numbers(*args):\n",
    "  total = 0\n",
    "  for num in args:\n",
    "    total += num\n",
    "  return total\n",
    " \n",
    "add_numbers(*values)"
   ]
  },
  {
   "cell_type": "code",
   "execution_count": 8,
   "metadata": {},
   "outputs": [
    {
     "name": "stdout",
     "output_type": "stream",
     "text": [
      "Roll number 1 is Aryaman from Computer Science branch of Engineering.\n"
     ]
    }
   ],
   "source": [
    "details = ('1', 'Aryaman', 'Computer Science')\n",
    " \n",
    "def func(roll_no, name, branch):\n",
    "    print(f'Roll number {roll_no} is {name} from {branch} branch of Engineering.') \n",
    " \n",
    "func(*details)"
   ]
  },
  {
   "cell_type": "code",
   "execution_count": 9,
   "metadata": {},
   "outputs": [
    {
     "name": "stdout",
     "output_type": "stream",
     "text": [
      "Lion\n",
      "Elephant\n",
      "Wolf\n",
      "Gorilla\n"
     ]
    }
   ],
   "source": [
    "vals = (\"Lion\", \"Elephant\", \"Wolf\", \"Gorilla\")\t\t\t\t\t\n",
    "def print_animals(*animals):  \n",
    "    for animal in animals:\n",
    "        print(animal)  \t\t\t\t\t\n",
    "print_animals(*vals)\t\t\t\t\t\t\n"
   ]
  },
  {
   "cell_type": "code",
   "execution_count": null,
   "metadata": {},
   "outputs": [],
   "source": []
  },
  {
   "cell_type": "code",
   "execution_count": null,
   "metadata": {},
   "outputs": [],
   "source": []
  }
 ],
 "metadata": {
  "kernelspec": {
   "display_name": "Python 3",
   "language": "python",
   "name": "python3"
  },
  "language_info": {
   "codemirror_mode": {
    "name": "ipython",
    "version": 3
   },
   "file_extension": ".py",
   "mimetype": "text/x-python",
   "name": "python",
   "nbconvert_exporter": "python",
   "pygments_lexer": "ipython3",
   "version": "3.9.13"
  },
  "orig_nbformat": 4
 },
 "nbformat": 4,
 "nbformat_minor": 2
}
