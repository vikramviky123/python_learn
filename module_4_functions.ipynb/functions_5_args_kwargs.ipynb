{
 "cells": [
  {
   "cell_type": "markdown",
   "metadata": {},
   "source": [
    "#*Args and **Kwargs in Python"
   ]
  },
  {
   "cell_type": "markdown",
   "metadata": {},
   "source": [
    "Python Arbitrary Arguments\n",
    "\n",
    "Arbitrary arguments, also known as variable length arguments, the programmer might not be certain about the number of arguments to be passed to the function to run it. In these cases, we use arbitrary arguments in Python.\n",
    "\n",
    "\n",
    "The first method is by using the single-asterisk (*) symbol. The single-asterisk is used to pass a variable number of non-keyworded arguments to the function. At the time of function declaration, if we use a single-asterisk parameter (e.g.- *names), then all the non-keyword arguments passed to the function at the time of function call are collected into a single tuple before being passed to the function. We can understand this with the help of the following example."
   ]
  },
  {
   "cell_type": "code",
   "execution_count": 32,
   "metadata": {},
   "outputs": [
    {
     "name": "stdout",
     "output_type": "stream",
     "text": [
      "Lion\n",
      "Elephant\n",
      "Wolf\n",
      "Gorilla\n"
     ]
    }
   ],
   "source": [
    "def print_animals(*animals):\n",
    "    for animal in animals:\n",
    "        print(animal)\n",
    " \n",
    "print_animals(\"Lion\", \"Elephant\", \"Wolf\", \"Gorilla\")"
   ]
  },
  {
   "cell_type": "code",
   "execution_count": 33,
   "metadata": {},
   "outputs": [
    {
     "name": "stdout",
     "output_type": "stream",
     "text": [
      "('Lion', 'Carnivore')\n",
      "('Elephant', 'Herbivore')\n",
      "('Gorilla', 'Omnivore')\n"
     ]
    }
   ],
   "source": [
    "def print_food(**foods):\n",
    "    for food in foods.items():\n",
    "        print(food)\n",
    " \n",
    "print_food(Lion=\"Carnivore\", Elephant=\"Herbivore\", Gorilla=\"Omnivore\")"
   ]
  },
  {
   "cell_type": "code",
   "execution_count": 2,
   "metadata": {},
   "outputs": [
    {
     "name": "stdout",
     "output_type": "stream",
     "text": [
      "product: 4096\n"
     ]
    }
   ],
   "source": [
    "def multiplyNumbers(*numbers):\n",
    "    product=1\n",
    "    for n in numbers:\n",
    "        product*=n\n",
    "    return product\n",
    " \n",
    "print(\"product:\",multiplyNumbers(4,4,4,4,4,4))"
   ]
  },
  {
   "cell_type": "code",
   "execution_count": 3,
   "metadata": {},
   "outputs": [
    {
     "name": "stdout",
     "output_type": "stream",
     "text": [
      "Sentence: Kwargs are awesome!\n"
     ]
    }
   ],
   "source": [
    "def makeSentence(**words):\n",
    "    sentence=''\n",
    "    for word in words.values():\n",
    "        sentence+=word\n",
    "    return sentence\n",
    " \n",
    "print('Sentence:', makeSentence(a='Kwargs ',b='are ', c='awesome!'))"
   ]
  },
  {
   "cell_type": "code",
   "execution_count": 4,
   "metadata": {},
   "outputs": [
    {
     "name": "stdout",
     "output_type": "stream",
     "text": [
      "I am  007\n",
      "I am arg:  agent\n",
      "I am kwarg:  ('firstName', 'James')\n",
      "I am kwarg:  ('lastName', 'Bond')\n"
     ]
    }
   ],
   "source": [
    "def printingData(codeName, *args, **kwargs):\n",
    "    print(\"I am \", codeName)\n",
    "    for arg in args:\n",
    "        print(\"I am arg: \", arg)\n",
    "    for keyWord in kwargs.items():\n",
    "        print(\"I am kwarg: \", keyWord)\n",
    " \n",
    "printingData('007', 'agent', firstName='James', lastName='Bond') "
   ]
  },
  {
   "cell_type": "code",
   "execution_count": null,
   "metadata": {},
   "outputs": [],
   "source": []
  }
 ],
 "metadata": {
  "kernelspec": {
   "display_name": "Python 3",
   "language": "python",
   "name": "python3"
  },
  "language_info": {
   "codemirror_mode": {
    "name": "ipython",
    "version": 3
   },
   "file_extension": ".py",
   "mimetype": "text/x-python",
   "name": "python",
   "nbconvert_exporter": "python",
   "pygments_lexer": "ipython3",
   "version": "3.9.13"
  },
  "orig_nbformat": 4
 },
 "nbformat": 4,
 "nbformat_minor": 2
}
