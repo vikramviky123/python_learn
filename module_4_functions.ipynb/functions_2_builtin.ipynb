{
 "cells": [
  {
   "cell_type": "markdown",
   "metadata": {},
   "source": [
    "#Built in Functions"
   ]
  },
  {
   "cell_type": "markdown",
   "metadata": {},
   "source": [
    "Function\tDescription\n",
    "* abs()\tReturns the absolute value of a number\n",
    "* complex()\tReturns a complex number\n",
    "* max()\tReturns the largest item in an iterable\n",
    "* len()\tReturns the length of an object\n",
    "* divmod()\tReturns the quotient and the remainder when argument1 is divided by argument2\n",
    "* format()\tFormats a specified value\n",
    "* min()\tReturns the smallest item in an iterable\n",
    "* next()\tReturns the next item in an iterable\n",
    "* type()\tReturns the type of an object\n",
    "* pow()\tReturns the value of x to the power of y\n",
    "* print()\tPrints to the standard output device\n",
    "* range()\tReturns a sequence of numbers, starting from 0 and increments by 1 (by default)\n",
    "* property()\tGets, sets, deletes a property\n",
    "* reversed()\tReturns a reversed iterator\n",
    "* round()\tRounds a numbers\n",
    "* slice()\tReturns a slice object\n",
    "* sorted()\tReturns a sorted list\n",
    "* str()\tReturns a string object\n",
    "* sum()\tSums the items of an iterator\n",
    "* vars()\tReturns the __dict__ property of an object\n",
    "* zip()\tReturns an iterator, from two or more iterators"
   ]
  },
  {
   "cell_type": "markdown",
   "metadata": {},
   "source": [
    "compile()\tReturns the specified source as an object, ready to be executed\n",
    "\n",
    "callable()\tReturns True if the specified object is callable, otherwise False\n",
    "\n",
    "eval()\tEvaluates and executes an expression\n",
    "\n",
    "exec()\tExecutes the specified code (or object)"
   ]
  },
  {
   "cell_type": "code",
   "execution_count": null,
   "metadata": {},
   "outputs": [],
   "source": []
  },
  {
   "cell_type": "markdown",
   "metadata": {},
   "source": [
    "all()\tReturns True if all items in an iterable object are true\n",
    "\n",
    "any()\tReturns True if any item in an iterable object is true\n",
    "\n",
    "bool()\tReturns the boolean value of the specified object\n"
   ]
  },
  {
   "cell_type": "markdown",
   "metadata": {},
   "source": []
  },
  {
   "cell_type": "markdown",
   "metadata": {},
   "source": [
    "list()\tReturns a list\n",
    "\n",
    "dict()\tReturns a dictionary (Array)\n",
    "\n",
    "frozenset()\tReturns a frozenset object\n",
    "\n",
    "tuple()\tReturns a tuple\n",
    "\n",
    "set()\tReturns a new set object"
   ]
  },
  {
   "cell_type": "code",
   "execution_count": null,
   "metadata": {},
   "outputs": [],
   "source": []
  },
  {
   "cell_type": "markdown",
   "metadata": {},
   "source": [
    "classmethod()\tConverts a method into a class method\n",
    "\n",
    "delattr()\tDeletes the specified attribute (property or method) from the specified object\n",
    "\n",
    "dir()\tReturns a list of the specified object's properties and methods\n",
    "\n",
    "hash()\tReturns the hash value of a specified object\n",
    "\n",
    "super()\tReturns an object that represents the parent class\n",
    "\n",
    "staticmethod()\tConverts a method into a static method\n",
    "\n",
    "setattr()\tSets an attribute (property/method) of an object\n",
    "\n",
    "hasattr()\tReturns True if the specified object has the specified attribute (property/method)\n",
    "\n",
    "getattr()\tReturns the value of the specified attribute (property or method)\n",
    "\n",
    "repr()\tReturns a readable version of an object"
   ]
  },
  {
   "cell_type": "code",
   "execution_count": null,
   "metadata": {},
   "outputs": [],
   "source": []
  },
  {
   "cell_type": "markdown",
   "metadata": {},
   "source": [
    "\n",
    "enumerate()\tTakes a collection (e.g. a tuple) and returns it as an enumerate object\n",
    "\n",
    "map()\tReturns the specified iterator with the specified function applied to each item\n",
    "\n",
    "filter()\tUse a filter function to exclude items in an iterable object\n",
    "\n",
    "help()\tExecutes the built-in help system\n",
    "\n",
    "id()\tReturns the id of an object\n",
    "\n",
    "input()\tAllowing user input\n",
    "\n",
    "open()\tOpens a file and returns a file object\n",
    "\n",
    "memoryview()\tReturns a memory view object\n",
    "\n",
    "object()\tReturns a new object\n",
    "\n",
    "globals()\tReturns the current global symbol table as a dictionary\n",
    "\n",
    "locals()\tReturns an updated dictionary of the current local symbol table"
   ]
  },
  {
   "cell_type": "markdown",
   "metadata": {},
   "source": []
  },
  {
   "cell_type": "markdown",
   "metadata": {},
   "source": [
    "hex()\tConverts a number into a hexadecimal value\n",
    "\n",
    "oct()\tConverts a number into an octal\n",
    "\n",
    "ord()\tConvert an integer representing the Unicode of the specified character\n",
    "\n",
    "\n",
    "int()\tReturns an integer number\n",
    "\n",
    "float()\tReturns a floating point number\n",
    "\n",
    "isinstance()\tReturns True if a specified object is an instance of a specified object\n",
    "\n",
    "issubclass()\tReturns True if a specified class is a subclass of a specified object\n",
    "\n",
    "iter()\tReturns an iterator object"
   ]
  },
  {
   "cell_type": "code",
   "execution_count": null,
   "metadata": {},
   "outputs": [],
   "source": []
  },
  {
   "cell_type": "markdown",
   "metadata": {},
   "source": [
    "ascii()\tReturns a readable version of an object. Replaces none-ascii characters with escape character\n",
    "\n",
    "bin()\tReturns the binary version of a number\n",
    "\n",
    "bytearray()\tReturns an array of bytes\n",
    "\n",
    "bytes()\tReturns a bytes object\n",
    "\n",
    "chr()\tReturns a character from the specified Unicode code."
   ]
  },
  {
   "cell_type": "markdown",
   "metadata": {},
   "source": []
  },
  {
   "cell_type": "code",
   "execution_count": 5,
   "metadata": {},
   "outputs": [
    {
     "name": "stdout",
     "output_type": "stream",
     "text": [
      "converting to dictionary: {'name': 'Vikram', 'age': 34},....<class 'dict'>\n",
      "converting to List      : [1, 2, 3, 5, 'ram'],....<class 'list'>\n",
      "converting to Tuple     : (1, 2, 3, 5, 4, 8),....<class 'tuple'>\n",
      "converting to Set       : {1, 4, 5, 6, 23},....<class 'set'>\n"
     ]
    }
   ],
   "source": [
    "z_dict = dict(name = \"Vikram\", age = 34)\n",
    "z_list = list((1,2,3,5,\"ram\"))\n",
    "z_tuple = tuple((1,2,3,5,4,8))\n",
    "z_set   = set((1,1,1,23,4,5,4,6))\n",
    "\n",
    "print(f\"converting to dictionary: {z_dict},....{type(z_dict)}\")\n",
    "print(f\"converting to List      : {z_list},....{type(z_list)}\")\n",
    "print(f\"converting to Tuple     : {z_tuple},....{type(z_tuple)}\")\n",
    "print(f\"converting to Set       : {z_set},....{type(z_set)}\")"
   ]
  },
  {
   "cell_type": "code",
   "execution_count": 20,
   "metadata": {},
   "outputs": [
    {
     "name": "stdout",
     "output_type": "stream",
     "text": [
      "converting to HEX: 0x200b57,....<class 'str'>\n",
      "converting to OCT: 0o1,....<class 'str'>\n",
      "converting to ORD: 65,....<class 'int'>\n"
     ]
    }
   ],
   "source": [
    "z_hex = hex(2100055)\n",
    "z_oct = oct(1)\n",
    "z_ord = ord(\"A\")\n",
    "\n",
    "\n",
    "print(f\"converting to HEX: {z_hex},....{type(z_hex)}\")\n",
    "print(f\"converting to OCT: {z_oct},....{type(z_oct)}\")\n",
    "print(f\"converting to ORD: {z_ord},....{type(z_ord)}\")\n"
   ]
  },
  {
   "cell_type": "code",
   "execution_count": 21,
   "metadata": {},
   "outputs": [
    {
     "name": "stdout",
     "output_type": "stream",
     "text": [
      "converting to INT: 2,....<class 'int'>\n",
      "converting to FLOAT: 10.0,....<class 'float'>\n",
      "converting to STR: 10,....<class 'str'>\n"
     ]
    }
   ],
   "source": [
    "z_int = int(2)\n",
    "z_float = float(10)\n",
    "z_str = str(10)\n",
    "\n",
    "\n",
    "print(f\"converting to INT: {z_int},....{type(z_int)}\")\n",
    "print(f\"converting to FLOAT: {z_float},....{type(z_float)}\")\n",
    "print(f\"converting to STR: {z_str},....{type(z_str)}\")"
   ]
  },
  {
   "cell_type": "code",
   "execution_count": null,
   "metadata": {},
   "outputs": [],
   "source": []
  }
 ],
 "metadata": {
  "kernelspec": {
   "display_name": "Python 3",
   "language": "python",
   "name": "python3"
  },
  "language_info": {
   "codemirror_mode": {
    "name": "ipython",
    "version": 3
   },
   "file_extension": ".py",
   "mimetype": "text/x-python",
   "name": "python",
   "nbconvert_exporter": "python",
   "pygments_lexer": "ipython3",
   "version": "3.9.13"
  },
  "orig_nbformat": 4
 },
 "nbformat": 4,
 "nbformat_minor": 2
}
