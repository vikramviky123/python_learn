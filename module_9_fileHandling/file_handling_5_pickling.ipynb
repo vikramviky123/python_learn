{
 "cells": [
  {
   "cell_type": "code",
   "execution_count": 1,
   "metadata": {},
   "outputs": [
    {
     "name": "stdout",
     "output_type": "stream",
     "text": [
      "Pickling of Employee Object completed...\n",
      "Printing Employee Information after unpickling\n",
      "100 \t Durga \t 1000 \t Hyd\n"
     ]
    }
   ],
   "source": [
    "import pickle \n",
    "class Employee: \n",
    "    def __init__(self,eno,ename,esal,eaddr):         \n",
    "        self.eno=eno\n",
    "        self.ename=ename\n",
    "        self.esal=esal\n",
    "        self.eaddr=eaddr\n",
    "\n",
    "    def display(self):\n",
    "        print(self.eno,\"\\t\",self.ename,\"\\t\",self.esal,\"\\t\",self.eaddr)\n",
    "\n",
    "with open(\"emp.dat\",\"wb\") as f: \n",
    "    e=Employee(100,\"Durga\",1000,\"Hyd\") \n",
    "    pickle.dump(e,f) \n",
    "    print(\"Pickling of Employee Object completed...\") \n",
    " \n",
    "with open(\"emp.dat\",\"rb\") as f:    \n",
    "    obj=pickle.load(f) \n",
    "    print(\"Printing Employee Information after unpickling\") \n",
    "    obj.display() "
   ]
  },
  {
   "cell_type": "code",
   "execution_count": null,
   "metadata": {},
   "outputs": [],
   "source": []
  }
 ],
 "metadata": {
  "kernelspec": {
   "display_name": "Python 3",
   "language": "python",
   "name": "python3"
  },
  "language_info": {
   "codemirror_mode": {
    "name": "ipython",
    "version": 3
   },
   "file_extension": ".py",
   "mimetype": "text/x-python",
   "name": "python",
   "nbconvert_exporter": "python",
   "pygments_lexer": "ipython3",
   "version": "3.9.13"
  },
  "orig_nbformat": 4
 },
 "nbformat": 4,
 "nbformat_minor": 2
}
