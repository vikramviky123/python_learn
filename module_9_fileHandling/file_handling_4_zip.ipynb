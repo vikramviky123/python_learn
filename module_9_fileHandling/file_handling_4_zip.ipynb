{
 "cells": [
  {
   "cell_type": "markdown",
   "metadata": {},
   "source": [
    "#Zipping\n",
    "\n",
    "constant \n",
    "ZIP_DEFLATED. This constant represents we are creating zip file."
   ]
  },
  {
   "cell_type": "code",
   "execution_count": 3,
   "metadata": {},
   "outputs": [],
   "source": [
    "from zipfile import *\n",
    "\n",
    "f = ZipFile(\"all_files.zip\",\"w\",ZIP_DEFLATED)\n",
    "f.write(\"test1.txt\")\n",
    "f.write(\"test2.txt\")\n",
    "f.write(\"test3.txt\")\n",
    "f.write(\"test4.txt\")"
   ]
  },
  {
   "cell_type": "code",
   "execution_count": 4,
   "metadata": {},
   "outputs": [
    {
     "name": "stdout",
     "output_type": "stream",
     "text": [
      "Zipping the files is completed\n"
     ]
    }
   ],
   "source": [
    "f.close()\n",
    "print(\"Zipping the files is completed\")"
   ]
  },
  {
   "cell_type": "markdown",
   "metadata": {},
   "source": [
    "ZIP_STORED represents unzip operation."
   ]
  },
  {
   "cell_type": "code",
   "execution_count": 7,
   "metadata": {},
   "outputs": [
    {
     "name": "stdout",
     "output_type": "stream",
     "text": [
      "File Name :  test1.txt\n",
      "Name : Vikram Reddy\n",
      "\n",
      "--------------\n",
      "File Name :  test2.txt\n",
      "Vikram0\n",
      "\n",
      "--------------\n",
      "File Name :  test3.txt\n",
      "Vikram0Vikram1Vikram4Vikram9Vikram16Vikram25Vikram36Vikram49Vikram64Vikram81Vikram100Vikram121Vikram144Vikram169Vikram196Vikram225Vikram256Vikram289Vikram324Vikram361Vikram400Vikram441Vikram484Vikram529Vikram576Vikram625Vikram676Vikram729Vikram784Vikram841Vikram900Vikram961Vikram1024Vikram1089Vikram1156Vikram1225Vikram1296Vikram1369Vikram1444Vikram1521Vikram1600Vikram1681Vikram1764Vikram1849Vikram1936Vikram2025Vikram2116Vikram2209Vikram2304Vikram2401Vikram2500Vikram2601Vikram2704Vikram2809Vikram2916Vikram3025Vikram3136Vikram3249Vikram3364Vikram3481Vikram3600Vikram3721Vikram3844Vikram3969Vikram4096Vikram4225Vikram4356Vikram4489Vikram4624Vikram4761Vikram4900Vikram5041Vikram5184Vikram5329Vikram5476Vikram5625Vikram5776Vikram5929Vikram6084Vikram6241Vikram6400Vikram6561Vikram6724Vikram6889Vikram7056Vikram7225Vikram7396Vikram7569Vikram7744Vikram7921Vikram8100Vikram8281Vikram8464Vikram8649Vikram8836Vikram9025Vikram9216Vikram9409Vikram9604Vikram9801\n",
      "--------------\n",
      "File Name :  test4.txt\n",
      "Vikram0\n",
      "\n",
      "--------------\n"
     ]
    }
   ],
   "source": [
    "f = ZipFile(\"all_files.zip\",\"r\",ZIP_STORED)\n",
    "names = f.namelist()\n",
    "for name in names:\n",
    "    print(\"File Name : \",name)\n",
    "    f1 = open(name,'r')\n",
    "    print(f1.readline())\n",
    "    print(\"--------------\")\n",
    "\n",
    "f1.close()\n",
    "f.close()\n"
   ]
  },
  {
   "cell_type": "code",
   "execution_count": null,
   "metadata": {},
   "outputs": [],
   "source": []
  },
  {
   "cell_type": "code",
   "execution_count": null,
   "metadata": {},
   "outputs": [],
   "source": []
  }
 ],
 "metadata": {
  "kernelspec": {
   "display_name": "Python 3",
   "language": "python",
   "name": "python3"
  },
  "language_info": {
   "codemirror_mode": {
    "name": "ipython",
    "version": 3
   },
   "file_extension": ".py",
   "mimetype": "text/x-python",
   "name": "python",
   "nbconvert_exporter": "python",
   "pygments_lexer": "ipython3",
   "version": "3.9.13"
  },
  "orig_nbformat": 4
 },
 "nbformat": 4,
 "nbformat_minor": 2
}
