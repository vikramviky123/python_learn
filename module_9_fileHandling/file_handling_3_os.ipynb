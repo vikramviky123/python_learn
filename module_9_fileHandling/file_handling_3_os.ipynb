{
 "cells": [
  {
   "cell_type": "markdown",
   "metadata": {},
   "source": [
    "#File Handling\n",
    "\n",
    "os module"
   ]
  },
  {
   "cell_type": "code",
   "execution_count": 1,
   "metadata": {},
   "outputs": [
    {
     "name": "stdout",
     "output_type": "stream",
     "text": [
      "o_delete.txt  File has been created\n"
     ]
    }
   ],
   "source": [
    "with open(\"o_delete.txt\", mode='w') as f:\n",
    "    print(f.name,\" File has been created\")\n"
   ]
  },
  {
   "cell_type": "code",
   "execution_count": 2,
   "metadata": {},
   "outputs": [
    {
     "name": "stdout",
     "output_type": "stream",
     "text": [
      "File has been removded\n"
     ]
    }
   ],
   "source": [
    "import os\n",
    "file_path = \"o_delete.txt\"\n",
    "\n",
    "if os.path.isfile(file_path):\n",
    "    os.remove(file_path)\n",
    "    print(\"File has been removded\")\n",
    "else:\n",
    "    print(\"File does not exist\")\n",
    "\n"
   ]
  },
  {
   "cell_type": "code",
   "execution_count": 3,
   "metadata": {},
   "outputs": [
    {
     "name": "stdout",
     "output_type": "stream",
     "text": [
      "c:\\Users\\91981\\Desktop\\GREAT LEARNING\\FROM SCRATCH LEARNING\\PYTHON\\python\\module_9_fileHandling\n"
     ]
    }
   ],
   "source": [
    "import os\n",
    "\n",
    "cwd = os.getcwd()\n",
    "print(cwd)"
   ]
  },
  {
   "cell_type": "code",
   "execution_count": 4,
   "metadata": {},
   "outputs": [
    {
     "name": "stdout",
     "output_type": "stream",
     "text": [
      "nt\n"
     ]
    }
   ],
   "source": [
    "print(os.name)"
   ]
  },
  {
   "cell_type": "code",
   "execution_count": 5,
   "metadata": {},
   "outputs": [
    {
     "name": "stdout",
     "output_type": "stream",
     "text": [
      "Current Working Directory is\n",
      "c:\\Users\\91981\\Desktop\\GREAT LEARNING\\FROM SCRATCH LEARNING\\PYTHON\\python\\module_9_fileHandling\n",
      "\n",
      "Current Working Directory is\n",
      "c:\\Users\\91981\\Desktop\\GREAT LEARNING\\FROM SCRATCH LEARNING\\PYTHON\\python\n",
      "\n"
     ]
    }
   ],
   "source": [
    "def current_path():\n",
    "    print(\"Current Working Directory is\")\n",
    "    print(os.getcwd())\n",
    "    print()\n",
    "\n",
    "\n",
    "current_path()\n",
    "os.chdir('../')\n",
    "current_path()\n",
    "os.chdir('c:\\\\Users\\91981\\Desktop\\GREAT LEARNING\\FROM SCRATCH LEARNING\\PYTHON\\python\\module_9_fileHandling')"
   ]
  },
  {
   "cell_type": "code",
   "execution_count": 6,
   "metadata": {},
   "outputs": [
    {
     "name": "stdout",
     "output_type": "stream",
     "text": [
      "c:\\Users\\91981\\Desktop\\GREAT LEARNING\\FROM SCRATCH LEARNING\\PYTHON\\python\\module_9_fileHandling\\new_directory\n"
     ]
    }
   ],
   "source": [
    "directory = \"new_directory\"\n",
    "parent_dir = \"c:\\\\Users\\91981\\Desktop\\GREAT LEARNING\\FROM SCRATCH LEARNING\\PYTHON\\python\\module_9_fileHandling\"\n",
    "\n",
    "path = os.path.join(parent_dir,directory)\n",
    "print(path)\n",
    "if not os.path.exists(path):\n",
    "    os.mkdir(path=path)"
   ]
  },
  {
   "cell_type": "code",
   "execution_count": 9,
   "metadata": {},
   "outputs": [
    {
     "name": "stdout",
     "output_type": "stream",
     "text": [
      "['.git', '.gitignore', '.vscode', 'module_1_basics', 'module_2_flow', 'module_3_string', 'module_4_functions.ipynb', 'module_5_ds_list', 'module_6_ds_dict copy', 'module_7_ds_set', 'module_8_exception', 'module_9_fileHandling', 'Python Learning.xlsx', '~$Python Learning.xlsx']\n"
     ]
    }
   ],
   "source": [
    "path = \"c:\\\\Users\\91981\\Desktop\\GREAT LEARNING\\FROM SCRATCH LEARNING\\PYTHON\\python\"\n",
    "\n",
    "print(os.listdir(path=path))"
   ]
  },
  {
   "cell_type": "code",
   "execution_count": 10,
   "metadata": {},
   "outputs": [
    {
     "name": "stdout",
     "output_type": "stream",
     "text": [
      "new_directory\\o_delete.txt  File has been created\n"
     ]
    }
   ],
   "source": [
    "with open(\"new_directory\\o_delete.txt\", mode='w') as f:\n",
    "    print(f.name,\" File has been created\")"
   ]
  },
  {
   "cell_type": "code",
   "execution_count": 11,
   "metadata": {},
   "outputs": [
    {
     "name": "stdout",
     "output_type": "stream",
     "text": [
      "c:\\Users\\91981\\Desktop\\GREAT LEARNING\\FROM SCRATCH LEARNING\\PYTHON\\python\\module_9_fileHandling\n",
      "c:\\Users\\91981\\Desktop\\GREAT LEARNING\\FROM SCRATCH LEARNING\\PYTHON\\python\\module_9_fileHandling\\new_directory\\o_delete.txt\n"
     ]
    }
   ],
   "source": [
    "print(os.getcwd())\n",
    "n_path = \"new_directory\\o_delete.txt\"\n",
    "pth = os.path.join(os.getcwd(),n_path)\n",
    "print(pth)"
   ]
  },
  {
   "cell_type": "code",
   "execution_count": 12,
   "metadata": {},
   "outputs": [
    {
     "name": "stdout",
     "output_type": "stream",
     "text": [
      "File has been removed\n"
     ]
    }
   ],
   "source": [
    "if os.path.isfile(pth):\n",
    "    os.remove(pth)\n",
    "    print(\"File has been removed\")"
   ]
  },
  {
   "cell_type": "code",
   "execution_count": null,
   "metadata": {},
   "outputs": [],
   "source": []
  }
 ],
 "metadata": {
  "kernelspec": {
   "display_name": "Python 3",
   "language": "python",
   "name": "python3"
  },
  "language_info": {
   "codemirror_mode": {
    "name": "ipython",
    "version": 3
   },
   "file_extension": ".py",
   "mimetype": "text/x-python",
   "name": "python",
   "nbconvert_exporter": "python",
   "pygments_lexer": "ipython3",
   "version": "3.9.13"
  },
  "orig_nbformat": 4
 },
 "nbformat": 4,
 "nbformat_minor": 2
}
