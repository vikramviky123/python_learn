{
 "cells": [
  {
   "cell_type": "markdown",
   "metadata": {},
   "source": [
    "#File Handling"
   ]
  },
  {
   "cell_type": "code",
   "execution_count": 6,
   "metadata": {},
   "outputs": [
    {
     "name": "stdout",
     "output_type": "stream",
     "text": [
      "File is still in open\n",
      "File Closed\n"
     ]
    }
   ],
   "source": [
    "try:\n",
    "    file = open('test.txt',mode='r')\n",
    "    # Perform file handling operations\n",
    "    print('File is still in open')\n",
    "\n",
    "except Exception as e:\n",
    "    print(\"File not found for Error :\",e)\n",
    "finally:\n",
    "    file.close()\n",
    "    print('File Closed')\n",
    "    \n"
   ]
  },
  {
   "cell_type": "code",
   "execution_count": 21,
   "metadata": {},
   "outputs": [
    {
     "name": "stdout",
     "output_type": "stream",
     "text": [
      "The file name is: test.txt\n",
      "Hi My name Vikram Reddy\n",
      "I am 34 years old\n",
      "I am a Freelancer\n",
      "False\n",
      "True\n"
     ]
    }
   ],
   "source": [
    "f=open(\"test.txt\",'r') \n",
    "lines = f.readlines()\n",
    "print(\"The file name is:\",f.name)\n",
    "for line in lines:\n",
    "    print(line,end='')\n",
    "print()\n",
    "print(f.closed)\n",
    "f.close() \n",
    "print(f.closed)"
   ]
  },
  {
   "cell_type": "code",
   "execution_count": 22,
   "metadata": {},
   "outputs": [],
   "source": [
    "f = open(\"test1.txt\", mode='w')\n",
    "f.write(\"Name : Vikram Reddy\\n\")\n",
    "f.write(\"Age : 34\\n\")\n",
    "f.write(\"batting : rightHand\\n\")\n",
    "f.close()"
   ]
  },
  {
   "cell_type": "code",
   "execution_count": 23,
   "metadata": {},
   "outputs": [
    {
     "name": "stdout",
     "output_type": "stream",
     "text": [
      "List of lines written to the file successfully\n"
     ]
    }
   ],
   "source": [
    "f=open(\"abcd.txt\",'w') \n",
    "list=[\"sunny\\n\",\"bunny\\n\",\"vinny\\n\",\"chinny\"] \n",
    "f.writelines(list) \n",
    "print(\"List of lines written to the file successfully\") \n",
    "f.close() "
   ]
  },
  {
   "cell_type": "markdown",
   "metadata": {},
   "source": [
    "Reading Character Data from text files:\n",
    "\n",
    "We can read character data from text file by using the following read methods.\n",
    "\n",
    "* read() To read total data from the file\n",
    "* read(n)  To read 'n' characters from the file\n",
    "* readline() To read only one line\n",
    "* readlines() To read all lines into a list\n"
   ]
  },
  {
   "cell_type": "code",
   "execution_count": 24,
   "metadata": {},
   "outputs": [
    {
     "name": "stdout",
     "output_type": "stream",
     "text": [
      "sunny\n",
      "bunny\n",
      "vinny\n",
      "chinny\n"
     ]
    }
   ],
   "source": [
    "f=open(\"abcd.txt\",'r') \n",
    "data = f.read() \n",
    "print(data) \n",
    "f.close() "
   ]
  },
  {
   "cell_type": "code",
   "execution_count": 25,
   "metadata": {},
   "outputs": [
    {
     "name": "stdout",
     "output_type": "stream",
     "text": [
      "sunny\n",
      "bun\n"
     ]
    }
   ],
   "source": [
    "f=open(\"abcd.txt\",'r') \n",
    "data = f.read(9) \n",
    "print(data) \n",
    "f.close() "
   ]
  },
  {
   "cell_type": "code",
   "execution_count": 26,
   "metadata": {},
   "outputs": [
    {
     "name": "stdout",
     "output_type": "stream",
     "text": [
      "sunny\n"
     ]
    }
   ],
   "source": [
    "f=open(\"abcd.txt\",'r') \n",
    "line1 = f.readline()\n",
    "print(line1,end='')\n",
    "f.close() "
   ]
  },
  {
   "cell_type": "code",
   "execution_count": 27,
   "metadata": {},
   "outputs": [
    {
     "name": "stdout",
     "output_type": "stream",
     "text": [
      "sunny\n",
      "bunny\n",
      "vinny\n",
      "chinny"
     ]
    }
   ],
   "source": [
    "f=open(\"abcd.txt\",'r') \n",
    "lines = f.readlines()\n",
    "for line in lines:\n",
    "    print(line,end='')\n",
    "f.close() "
   ]
  },
  {
   "cell_type": "code",
   "execution_count": null,
   "metadata": {},
   "outputs": [],
   "source": []
  }
 ],
 "metadata": {
  "kernelspec": {
   "display_name": "Python 3",
   "language": "python",
   "name": "python3"
  },
  "language_info": {
   "codemirror_mode": {
    "name": "ipython",
    "version": 3
   },
   "file_extension": ".py",
   "mimetype": "text/x-python",
   "name": "python",
   "nbconvert_exporter": "python",
   "pygments_lexer": "ipython3",
   "version": "3.9.13"
  },
  "orig_nbformat": 4
 },
 "nbformat": 4,
 "nbformat_minor": 2
}
