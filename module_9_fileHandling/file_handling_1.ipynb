{
 "cells": [
  {
   "cell_type": "markdown",
   "metadata": {},
   "source": [
    "#File Handling"
   ]
  },
  {
   "cell_type": "code",
   "execution_count": 8,
   "metadata": {},
   "outputs": [
    {
     "name": "stdout",
     "output_type": "stream",
     "text": [
      "File is still in open\n",
      "File Closed\n"
     ]
    }
   ],
   "source": [
    "try:\n",
    "    file = open('test.txt',mode='r')\n",
    "    # Perform file handling operations\n",
    "    print('File is still in open')\n",
    "finally:\n",
    "    file.close()\n",
    "    print('File Closed')\n"
   ]
  },
  {
   "cell_type": "code",
   "execution_count": 11,
   "metadata": {},
   "outputs": [
    {
     "name": "stdout",
     "output_type": "stream",
     "text": [
      "['Hello World!']\n",
      "False\n"
     ]
    }
   ],
   "source": [
    "with open(\"test.txt\", mode='r') as f:\n",
    "    data = f.readlines() #This reads all the lines from the file in a list.\n",
    "    print(data) #This will print the content of the Hello World file!\n",
    "    print(f.closed)\n",
    "    f.close()"
   ]
  },
  {
   "cell_type": "code",
   "execution_count": 16,
   "metadata": {},
   "outputs": [],
   "source": [
    "f = open(\"test.txt\", mode='w')\n",
    "f.write(\"Name : Vikram Reddy\\n\")\n",
    "f.write(\"Age : 34\\n\")\n",
    "f.write(\"batting : rightHand\\n\")\n",
    "f.close()"
   ]
  },
  {
   "cell_type": "code",
   "execution_count": 17,
   "metadata": {},
   "outputs": [
    {
     "name": "stdout",
     "output_type": "stream",
     "text": [
      "List of lines written to the file successfully\n"
     ]
    }
   ],
   "source": [
    "f=open(\"abcd.txt\",'w') \n",
    "list=[\"sunny\\n\",\"bunny\\n\",\"vinny\\n\",\"chinny\"] \n",
    "f.writelines(list) \n",
    "print(\"List of lines written to the file successfully\") \n",
    "f.close() "
   ]
  },
  {
   "cell_type": "markdown",
   "metadata": {},
   "source": [
    "Reading Character Data from text files:\n",
    "\n",
    "We can read character data from text file by using the following read methods.\n",
    "\n",
    "* read() To read total data from the file\n",
    "* read(n)  To read 'n' characters from the file\n",
    "* readline() To read only one line\n",
    "* readlines() To read all lines into a list\n"
   ]
  },
  {
   "cell_type": "code",
   "execution_count": 29,
   "metadata": {},
   "outputs": [
    {
     "name": "stdout",
     "output_type": "stream",
     "text": [
      "sunny\n",
      "bunny\n",
      "vinny\n",
      "chinny\n"
     ]
    }
   ],
   "source": [
    "f=open(\"abcd.txt\",'r') \n",
    "data = f.read() \n",
    "print(data) \n",
    "f.close() "
   ]
  },
  {
   "cell_type": "code",
   "execution_count": 38,
   "metadata": {},
   "outputs": [
    {
     "name": "stdout",
     "output_type": "stream",
     "text": [
      "sunny\n",
      "bun\n"
     ]
    }
   ],
   "source": [
    "f=open(\"abcd.txt\",'r') \n",
    "data = f.read(9) \n",
    "print(data) \n",
    "f.close() "
   ]
  },
  {
   "cell_type": "code",
   "execution_count": 31,
   "metadata": {},
   "outputs": [
    {
     "name": "stdout",
     "output_type": "stream",
     "text": [
      "sunny\n"
     ]
    }
   ],
   "source": [
    "f=open(\"abcd.txt\",'r') \n",
    "line1 = f.readline()\n",
    "print(line1,end='')\n",
    "f.close() "
   ]
  },
  {
   "cell_type": "code",
   "execution_count": 35,
   "metadata": {},
   "outputs": [
    {
     "name": "stdout",
     "output_type": "stream",
     "text": [
      "sunny\n",
      "bunny\n",
      "vinny\n",
      "chinny"
     ]
    }
   ],
   "source": [
    "f=open(\"abcd.txt\",'r') \n",
    "lines = f.readlines()\n",
    "for line in lines:\n",
    "    print(line,end='')\n",
    "f.close() "
   ]
  },
  {
   "cell_type": "code",
   "execution_count": null,
   "metadata": {},
   "outputs": [],
   "source": []
  }
 ],
 "metadata": {
  "kernelspec": {
   "display_name": "Python 3",
   "language": "python",
   "name": "python3"
  },
  "language_info": {
   "codemirror_mode": {
    "name": "ipython",
    "version": 3
   },
   "file_extension": ".py",
   "mimetype": "text/x-python",
   "name": "python",
   "nbconvert_exporter": "python",
   "pygments_lexer": "ipython3",
   "version": "3.9.13"
  },
  "orig_nbformat": 4
 },
 "nbformat": 4,
 "nbformat_minor": 2
}
