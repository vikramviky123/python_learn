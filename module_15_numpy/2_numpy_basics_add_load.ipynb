{
 "cells": [
  {
   "cell_type": "code",
   "execution_count": 1,
   "metadata": {},
   "outputs": [],
   "source": [
    "import numpy as np\n",
    "import sys\n",
    "from sys import getsizeof as size"
   ]
  },
  {
   "cell_type": "code",
   "execution_count": 2,
   "metadata": {},
   "outputs": [
    {
     "name": "stdout",
     "output_type": "stream",
     "text": [
      "1.25.2\n"
     ]
    }
   ],
   "source": [
    "print(np.__version__)"
   ]
  },
  {
   "cell_type": "markdown",
   "metadata": {},
   "source": [
    "### Linear Algebra\n",
    "* identity(n, dtype=None)\n",
    "* eye(N, M=None, k=0, dtype=float)\n"
   ]
  },
  {
   "cell_type": "code",
   "execution_count": 3,
   "metadata": {},
   "outputs": [
    {
     "data": {
      "text/plain": [
       "array([[1, 0, 0, 0],\n",
       "       [0, 1, 0, 0],\n",
       "       [0, 0, 1, 0],\n",
       "       [0, 0, 0, 1]])"
      ]
     },
     "execution_count": 3,
     "metadata": {},
     "output_type": "execute_result"
    }
   ],
   "source": [
    "np.identity(4,dtype=int)"
   ]
  },
  {
   "cell_type": "code",
   "execution_count": 4,
   "metadata": {},
   "outputs": [
    {
     "data": {
      "text/plain": [
       "array([[0, 0, 0, 1, 0, 0, 0, 0, 0, 0],\n",
       "       [0, 0, 0, 0, 1, 0, 0, 0, 0, 0],\n",
       "       [0, 0, 0, 0, 0, 1, 0, 0, 0, 0],\n",
       "       [0, 0, 0, 0, 0, 0, 1, 0, 0, 0]])"
      ]
     },
     "execution_count": 4,
     "metadata": {},
     "output_type": "execute_result"
    }
   ],
   "source": [
    "np.eye(N=4,M=10,k=3,dtype=int)"
   ]
  },
  {
   "cell_type": "code",
   "execution_count": 5,
   "metadata": {},
   "outputs": [
    {
     "name": "stdout",
     "output_type": "stream",
     "text": [
      "[(393,) (337,) (256,)]\n",
      "[393 337 256]\n",
      "\n",
      "The internal representation:\n",
      "array([(393,), (337,), (256,)], dtype=[('density', '<i4')])\n"
     ]
    }
   ],
   "source": [
    "dt = np.dtype([('density', np.int32)])\n",
    "x = np.array([(393), (337), (256)],dtype=dt)\n",
    "print(x)\n",
    "print(x['density'])\n",
    "print(\"\\nThe internal representation:\")\n",
    "print(repr(x))\n"
   ]
  },
  {
   "cell_type": "code",
   "execution_count": 6,
   "metadata": {},
   "outputs": [
    {
     "name": "stdout",
     "output_type": "stream",
     "text": [
      "The internal representation:\n",
      "array([(393,), (337,), (256,)], dtype=[('density', '<i4')])\n"
     ]
    }
   ],
   "source": [
    "dt = np.dtype([('density', 'i4')])\n",
    "x = np.array([(393), (337), (256)],dtype=dt)\n",
    "print(\"The internal representation:\")\n",
    "print(repr(x))"
   ]
  },
  {
   "cell_type": "code",
   "execution_count": 7,
   "metadata": {},
   "outputs": [
    {
     "name": "stdout",
     "output_type": "stream",
     "text": [
      "data size : 8 BYTES | data type int64 | order type =\n",
      "data size : 8 BYTES | data type float64 | order type =\n",
      "data size : 8 BYTES | data type float64 | order type =\n",
      "data size : 8 BYTES | data type float64 | order type >\n"
     ]
    }
   ],
   "source": [
    "print(\"data size :\",np.dtype(np.int64).itemsize,\"BYTES |\",\"data type\",np.dtype(np.int64).name,\"| order type\",np.dtype(np.int64).byteorder)\n",
    "print(\"data size :\",np.dtype('d').itemsize,\"BYTES |\",\"data type\",np.dtype('d').name,\"| order type\",np.dtype('d').byteorder)\n",
    "print(\"data size :\",np.dtype('<d').itemsize,\"BYTES |\",\"data type\",np.dtype('<d').name,\"| order type\",np.dtype('<d').byteorder)\n",
    "print(\"data size :\",np.dtype('>d').itemsize,\"BYTES |\",\"data type\",np.dtype('>d').name,\"| order type\",np.dtype('>d').byteorder)\n",
    "\n"
   ]
  },
  {
   "cell_type": "code",
   "execution_count": 8,
   "metadata": {},
   "outputs": [
    {
     "name": "stdout",
     "output_type": "stream",
     "text": [
      "b'Netherlands'\n"
     ]
    }
   ],
   "source": [
    "dt = np.dtype([('country', 'S20'), ('density', 'i4'), ('area', 'i4'), ('population', 'i4')])\n",
    "population_table = np.array([\n",
    "('Netherlands', 393, 41526, 16928800),\n",
    "('Belgium', 337, 30510, 11007020),\n",
    "('United Kingdom', 256, 243610, 62262000),\n",
    "('Germany', 233, 357021, 81799600),\n",
    "('Liechtenstein', 205, 160, 32842),\n",
    "('Italy', 192, 301230, 59715625),\n",
    "('Switzerland', 177, 41290, 7301994),\n",
    "('Luxembourg', 173, 2586, 512000),\n",
    "('France', 111, 547030, 63601002),\n",
    "('Austria', 97, 83858, 8169929),\n",
    "('Greece', 81, 131940, 11606813),\n",
    "('Ireland', 65, 70280, 4581269),\n",
    "('Sweden', 20, 449964, 9515744),\n",
    "('Finland', 16, 338424, 5410233),\n",
    "('Norway', 13, 385252, 5033675)],\n",
    "dtype=dt)\n",
    "print(population_table['country'][0])\n"
   ]
  },
  {
   "cell_type": "code",
   "execution_count": 9,
   "metadata": {},
   "outputs": [
    {
     "data": {
      "text/plain": [
       "numpy.bytes_"
      ]
     },
     "execution_count": 9,
     "metadata": {},
     "output_type": "execute_result"
    }
   ],
   "source": [
    "type(population_table['country'][0])"
   ]
  },
  {
   "cell_type": "code",
   "execution_count": 10,
   "metadata": {},
   "outputs": [
    {
     "name": "stdout",
     "output_type": "stream",
     "text": [
      "b'Hello, world!'\n",
      "Unicode String: Hello, world!\n"
     ]
    }
   ],
   "source": [
    "# Example byte string\n",
    "b_string = b'Hello, world!'\n",
    "print(b_string)\n",
    "\n",
    "# Convert byte string to Unicode (str)\n",
    "unicode_string = b_string.decode('utf-8')  # 'utf-8' is a common encoding for Unicode text\n",
    "print(\"Unicode String:\", unicode_string)\n"
   ]
  },
  {
   "cell_type": "code",
   "execution_count": 11,
   "metadata": {},
   "outputs": [
    {
     "name": "stdout",
     "output_type": "stream",
     "text": [
      "Netherlands\n"
     ]
    }
   ],
   "source": [
    "dt = np.dtype([('country', np.str_,20),\n",
    "               ('density', 'i4'), \n",
    "               ('area', 'i4'), \n",
    "               ('population', 'i4')])\n",
    "population_table = np.array([\n",
    "('Netherlands', 393, 41526, 16928800),\n",
    "('Belgium', 337, 30510, 11007020),\n",
    "('United Kingdom', 256, 243610, 62262000),\n",
    "('Germany', 233, 357021, 81799600),\n",
    "('Liechtenstein', 205, 160, 32842),\n",
    "('Italy', 192, 301230, 59715625),\n",
    "('Switzerland', 177, 41290, 7301994),\n",
    "('Luxembourg', 173, 2586, 512000),\n",
    "('France', 111, 547030, 63601002),\n",
    "('Austria', 97, 83858, 8169929),\n",
    "('Greece', 81, 131940, 11606813),\n",
    "('Ireland', 65, 70280, 4581269),\n",
    "('Sweden', 20, 449964, 9515744),\n",
    "('Finland', 16, 338424, 5410233),\n",
    "('Norway', 13, 385252, 5033675)],\n",
    "dtype=dt)\n",
    "print(population_table['country'][0])\n"
   ]
  },
  {
   "cell_type": "code",
   "execution_count": 15,
   "metadata": {},
   "outputs": [
    {
     "name": "stdout",
     "output_type": "stream",
     "text": [
      "['Netherlands' 'Belgium' 'United Kingdom' 'Germany' 'Liechtenstein'\n",
      " 'Italy' 'Switzerland' 'Luxembourg' 'France' 'Austria' 'Greece' 'Ireland'\n",
      " 'Sweden' 'Finland' 'Norway']\n",
      "[('Netherlands', 393,  41526, 16928800) ('Belgium', 337,  30510, 11007020)\n",
      " ('United Kingdom', 256, 243610, 62262000)\n",
      " ('Germany', 233, 357021, 81799600)\n",
      " ('Liechtenstein', 205,    160,    32842) ('Italy', 192, 301230, 59715625)\n",
      " ('Switzerland', 177,  41290,  7301994)\n",
      " ('Luxembourg', 173,   2586,   512000) ('France', 111, 547030, 63601002)\n",
      " ('Austria',  97,  83858,  8169929) ('Greece',  81, 131940, 11606813)\n",
      " ('Ireland',  65,  70280,  4581269) ('Sweden',  20, 449964,  9515744)\n",
      " ('Finland',  16, 338424,  5410233) ('Norway',  13, 385252,  5033675)]\n"
     ]
    }
   ],
   "source": [
    "np.savetxt(\"population_table.csv\",\n",
    "           population_table,\n",
    "           fmt= \"%s,%d,%d,%d\",\n",
    "           delimiter=\",\"          \n",
    "           )\n",
    "dt = np.dtype([('country', np.str_,20),\n",
    "               ('density', 'i4'), \n",
    "               ('area', 'i4'), \n",
    "               ('population', 'i4')])\n",
    "\n",
    "nw_table = np.genfromtxt(\"population_table.csv\",dtype=dt,\n",
    "                         delimiter=\",\")\n",
    "print(nw_table['country'])\n",
    "print(nw_table)"
   ]
  },
  {
   "cell_type": "code",
   "execution_count": null,
   "metadata": {},
   "outputs": [],
   "source": []
  }
 ],
 "metadata": {
  "kernelspec": {
   "display_name": "Python 3",
   "language": "python",
   "name": "python3"
  },
  "language_info": {
   "codemirror_mode": {
    "name": "ipython",
    "version": 3
   },
   "file_extension": ".py",
   "mimetype": "text/x-python",
   "name": "python",
   "nbconvert_exporter": "python",
   "pygments_lexer": "ipython3",
   "version": "3.9.13"
  },
  "orig_nbformat": 4
 },
 "nbformat": 4,
 "nbformat_minor": 2
}
