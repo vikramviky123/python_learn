{
 "cells": [
  {
   "cell_type": "code",
   "execution_count": 7,
   "metadata": {},
   "outputs": [],
   "source": [
    "import numpy as np\n",
    "import sys\n",
    "from sys import getsizeof as size"
   ]
  },
  {
   "cell_type": "code",
   "execution_count": 2,
   "metadata": {},
   "outputs": [
    {
     "name": "stdout",
     "output_type": "stream",
     "text": [
      "1.25.2\n"
     ]
    }
   ],
   "source": [
    "print(np.__version__)"
   ]
  },
  {
   "cell_type": "code",
   "execution_count": 24,
   "metadata": {},
   "outputs": [
    {
     "name": "stdout",
     "output_type": "stream",
     "text": [
      "[20.1 20.8 21.9 22.5 22.7 22.3 21.8 21.2 20.9 20.1]\n",
      "<class 'numpy.ndarray'>\n",
      "392\n"
     ]
    }
   ],
   "source": [
    "cvalues = [20.1, 20.8, 21.9, 22.5, 22.7, 22.3, 21.8, 21.2, 20.9, 20.1]\n",
    "c = np.array(cvalues)\n",
    "print(c)\n",
    "print(type(c))\n",
    "print(size(cvalues)+len(cvalues)*size(cvalues[0]))"
   ]
  },
  {
   "cell_type": "code",
   "execution_count": 25,
   "metadata": {},
   "outputs": [
    {
     "name": "stdout",
     "output_type": "stream",
     "text": [
      "Empty list size is: 56\n"
     ]
    }
   ],
   "source": [
    "cvalues = []\n",
    "print(\"Empty list size is:\",size(cvalues))"
   ]
  },
  {
   "cell_type": "code",
   "execution_count": 147,
   "metadata": {},
   "outputs": [
    {
     "name": "stdout",
     "output_type": "stream",
     "text": [
      "Size without the size of the elements:  472\n",
      "Size of all the elements:  1148\n",
      "Total size of list, including elements:  1620\n",
      "Empty list size is: 56\n"
     ]
    }
   ],
   "source": [
    "from sys import getsizeof as size\n",
    "lst = [20+x for x in range(41)]\n",
    "size_of_1ist_object = size(lst) # only green box\n",
    "size_of_e1ements = len(lst) * size(lst[0]) # \n",
    "tota1_1ist_size = size_of_1ist_object + size_of_e1ements\n",
    "\n",
    "print(\"Size without the size of the elements: \", size_of_1ist_object)\n",
    "print(\"Size of all the elements: \", size_of_e1ements)\n",
    "print(\"Total size of list, including elements: \", tota1_1ist_size)\n",
    "lstt = []\n",
    "print(\"Empty list size is:\",size(lstt))\n"
   ]
  },
  {
   "cell_type": "markdown",
   "metadata": {},
   "source": [
    "* 184,448,632,56\n",
    "* 248,476,724,56\n",
    "* every new 8 integer adds 64 bytes to list\n",
    "* every new integer adds 28 bytes"
   ]
  },
  {
   "cell_type": "code",
   "execution_count": 175,
   "metadata": {},
   "outputs": [
    {
     "name": "stdout",
     "output_type": "stream",
     "text": [
      "112\n",
      "3\n",
      "6\n",
      "12\n",
      "24\n",
      "120\n"
     ]
    }
   ],
   "source": [
    "e = np.array([])\n",
    "print(size(e))\n",
    "\n",
    "a = np.array([24, 12, 57], np.int8)\n",
    "print(size(a)-112)\n",
    "a = np.array([24, 12, 57], np.int16)\n",
    "print(size(a) - 112)\n",
    "a = np.array([24, 12, 57], np.int32)\n",
    "print(size(a) - 112)\n",
    "a = np.array([24, 12, 57], np.int64)\n",
    "print(size(a) - 112)\n",
    "\n",
    "a = np.array(arr, np.int8)\n",
    "print(size(a) - 112)"
   ]
  },
  {
   "cell_type": "markdown",
   "metadata": {},
   "source": [
    "### Size Comparison"
   ]
  },
  {
   "cell_type": "code",
   "execution_count": 222,
   "metadata": {},
   "outputs": [
    {
     "name": "stdout",
     "output_type": "stream",
     "text": [
      "1063768\n",
      "65536\n"
     ]
    }
   ],
   "source": [
    "arr = [x for x in range(32768)]\n",
    "np_arr = np.array(arr, np.int16)\n",
    "\n",
    "print(size(arr)+len(arr)*size(arr[0]))\n",
    "print(size(np_arr)-112)"
   ]
  },
  {
   "cell_type": "code",
   "execution_count": 196,
   "metadata": {},
   "outputs": [
    {
     "data": {
      "text/plain": [
       "65536"
      ]
     },
     "execution_count": 196,
     "metadata": {},
     "output_type": "execute_result"
    }
   ],
   "source": [
    "2**16"
   ]
  },
  {
   "cell_type": "code",
   "execution_count": 219,
   "metadata": {},
   "outputs": [
    {
     "data": {
      "text/plain": [
       "65536"
      ]
     },
     "execution_count": 219,
     "metadata": {},
     "output_type": "execute_result"
    }
   ],
   "source": [
    "32768*2"
   ]
  },
  {
   "cell_type": "code",
   "execution_count": null,
   "metadata": {},
   "outputs": [],
   "source": []
  },
  {
   "cell_type": "markdown",
   "metadata": {},
   "source": [
    "### Time Comparison"
   ]
  },
  {
   "cell_type": "code",
   "execution_count": 239,
   "metadata": {},
   "outputs": [],
   "source": [
    "import time\n",
    "size_of_vec = 10000000\n",
    "def pure_python_version():\n",
    "    t1 = time.time()\n",
    "    X = range(size_of_vec)\n",
    "    Y = range(size_of_vec)\n",
    "    Z = [X[i] + Y[i] for i in range(len(X)) ]\n",
    "    return time.time() - t1\n",
    "\n",
    "def numpy_version():\n",
    "    t1 = time.time()\n",
    "    X = np.arange(size_of_vec)\n",
    "    Y = np.arange(size_of_vec)\n",
    "    Z = X + Y \n",
    "    return time.time() - t1"
   ]
  },
  {
   "cell_type": "code",
   "execution_count": 240,
   "metadata": {},
   "outputs": [
    {
     "name": "stdout",
     "output_type": "stream",
     "text": [
      "1.9648845195770264 0.04500842094421387\n",
      "Numpy is in this example 43.6559310092754 faster!\n"
     ]
    }
   ],
   "source": [
    "t1 = pure_python_version()\n",
    "t2 = numpy_version()\n",
    "print(t1, t2)\n",
    "print(\"Numpy is in this example \" + str(t1/t2) + \" faster!\")"
   ]
  },
  {
   "cell_type": "markdown",
   "metadata": {},
   "source": [
    "### General Numpy\n",
    "* np.arange(start,end,step)\n",
    "* np.linspace(start, stop, num=50, endpoint=True, retstep=False)\n",
    "* np.ndim\n",
    "* np.shape\n",
    "* np.array(arr).reshape(x,y)\n",
    "* np.ones((x,y)),np.zeros((x,y))"
   ]
  },
  {
   "cell_type": "code",
   "execution_count": 253,
   "metadata": {},
   "outputs": [
    {
     "name": "stdout",
     "output_type": "stream",
     "text": [
      "[1 2 3 4 5 6 7 8 9]\n",
      "[1 4 7]\n",
      "[0.5  0.95 1.4  1.85 2.3  2.75 3.2  3.65]\n",
      "[ 1  2  3  4  5  6  7  8  9 10 11 12 13 14 15 16 17 18 19]\n"
     ]
    }
   ],
   "source": [
    "x = np.arange(1,10,1)\n",
    "print(x)\n",
    "x = np.arange(1,10,3)\n",
    "print(x)\n",
    "x = np.arange(0.5,3.8,0.45)\n",
    "print(x)\n",
    "x = np.arange(1.5,10.8,0.5, int)\n",
    "print(x)"
   ]
  },
  {
   "cell_type": "code",
   "execution_count": 257,
   "metadata": {},
   "outputs": [
    {
     "name": "stdout",
     "output_type": "stream",
     "text": [
      "[ 1.   1.5  2.   2.5  3.   3.5  4.   4.5  5.   5.5  6.   6.5  7.   7.5\n",
      "  8.   8.5  9.   9.5 10. ]\n"
     ]
    }
   ],
   "source": [
    "## linspace(start, stop, num=50, endpoint=True, retstep=False)\n",
    "x = np.linspace(1,10, 19)\n",
    "print(x)"
   ]
  },
  {
   "cell_type": "code",
   "execution_count": 275,
   "metadata": {},
   "outputs": [
    {
     "name": "stdout",
     "output_type": "stream",
     "text": [
      "0\n",
      "1 int32 (8,)\n",
      "1 float64 (4,)\n",
      "2 float64 (4, 3)\n"
     ]
    }
   ],
   "source": [
    "x = np.array(45)\n",
    "F = np.array([1, 1, 2, 3, 5, 8, 13, 21])\n",
    "V = np.array([3.4, 6.9, 99.8, 12.8])\n",
    "\n",
    "A = np.array([ [3.4, 8.7, 9.9],\n",
    "              [1.1, -7.8, -0.7],\n",
    "              [4.1, 12.3, 4.8],\n",
    "              [4.1, 12.3, 4.8]])\n",
    "\n",
    "\n",
    "print(np.ndim(x))\n",
    "print(np.ndim(F),F.dtype,F.shape)\n",
    "print(np.ndim(V),V.dtype,V.shape)\n",
    "print(A.ndim,A.dtype,A.shape)\n"
   ]
  },
  {
   "cell_type": "code",
   "execution_count": 276,
   "metadata": {},
   "outputs": [
    {
     "name": "stdout",
     "output_type": "stream",
     "text": [
      "[[ 3.4  8.7  9.9  1.1]\n",
      " [-7.8 -0.7  4.1 12.3]\n",
      " [ 4.8  4.1 12.3  4.8]]\n",
      "2 float64 (3, 4)\n"
     ]
    }
   ],
   "source": [
    "A.shape= (3,4)\n",
    "print(A)\n",
    "print(A.ndim,A.dtype,A.shape)"
   ]
  },
  {
   "cell_type": "code",
   "execution_count": 280,
   "metadata": {},
   "outputs": [
    {
     "name": "stdout",
     "output_type": "stream",
     "text": [
      "[[13 14 15]\n",
      " [23 24 25]\n",
      " [33 34 35]]\n"
     ]
    }
   ],
   "source": [
    "A = np.array ([\n",
    "                [11, 12, 13, 14, 15],\n",
    "                [21, 22, 23, 24, 25],\n",
    "                [31, 32, 33, 34, 35],\n",
    "                [41, 42, 43, 44, 45]\n",
    "                ])\n",
    "print(A[ :3, 2:])\n"
   ]
  },
  {
   "cell_type": "code",
   "execution_count": 292,
   "metadata": {},
   "outputs": [
    {
     "name": "stdout",
     "output_type": "stream",
     "text": [
      "[[ 0  1  2  3  4  5  6]\n",
      " [ 7  8  9 10 11 12 13]\n",
      " [14 15 16 17 18 19 20]\n",
      " [21 22 23 24 25 26 27]] \n",
      "\n",
      "[[11 12 13 14 15 21 22 23 24 25]\n",
      " [31 32 33 34 35 41 42 43 44 45]]\n"
     ]
    }
   ],
   "source": [
    "X = np.arange(28).reshape(4,7)\n",
    "XX =A.reshape(2,10)\n",
    "print(X,\"\\n\")\n",
    "print(XX)"
   ]
  },
  {
   "cell_type": "code",
   "execution_count": 293,
   "metadata": {},
   "outputs": [
    {
     "name": "stdout",
     "output_type": "stream",
     "text": [
      "[[ 0  2  4  6]\n",
      " [14 16 18 20]]\n"
     ]
    }
   ],
   "source": [
    "print (X [::2, ::2])"
   ]
  },
  {
   "cell_type": "code",
   "execution_count": 297,
   "metadata": {},
   "outputs": [
    {
     "name": "stdout",
     "output_type": "stream",
     "text": [
      "[101   1   2   3   4   5   6   7   8   9  10  11] 2184806676976\n",
      "[[101   1   2   3]\n",
      " [  4   5   6   7]\n",
      " [  8   9  10  11]] 2184806676784\n"
     ]
    },
    {
     "data": {
      "text/plain": [
       "True"
      ]
     },
     "execution_count": 297,
     "metadata": {},
     "output_type": "execute_result"
    }
   ],
   "source": [
    "A = np.arange(12)\n",
    "B = A.reshape(3, 4)\n",
    "A[0] = 101\n",
    "print(A,id(A))\n",
    "print(B,id(B))\n",
    "\n",
    "np.may_share_memory(A, B)"
   ]
  },
  {
   "cell_type": "code",
   "execution_count": 303,
   "metadata": {},
   "outputs": [
    {
     "name": "stdout",
     "output_type": "stream",
     "text": [
      "Ones matrx [[1. 1. 1.]\n",
      " [1. 1. 1.]\n",
      " [1. 1. 1.]\n",
      " [1. 1. 1.]] \n",
      "\n",
      "[[0. 0. 0.]\n",
      " [0. 0. 0.]\n",
      " [0. 0. 0.]\n",
      " [0. 0. 0.]] \n",
      "\n",
      "Empty matrx [[0. 0. 0.]\n",
      " [0. 0. 0.]\n",
      " [0. 0. 0.]\n",
      " [0. 0. 0.]] \n",
      "\n",
      "[[ 0  1  2]\n",
      " [ 3  4  5]\n",
      " [ 6  7  8]\n",
      " [ 9 10 11]]\n",
      "[[1 1 1]\n",
      " [1 1 1]\n",
      " [1 1 1]\n",
      " [1 1 1]]\n",
      "[[0 0 0]\n",
      " [0 0 0]\n",
      " [0 0 0]\n",
      " [0 0 0]]\n"
     ]
    }
   ],
   "source": [
    "ones_ = np.ones((4,3))\n",
    "zeros_ = np.zeros((4,3))\n",
    "empty_ = np.empty((4,3))\n",
    "print(\"Ones matrx\",ones_,\"\\n\")\n",
    "print(zeros_,\"\\n\")\n",
    "print(\"Empty matrx\",empty_,\"\\n\")\n",
    "A = np.arange(12).reshape(4,3)\n",
    "print(A)\n",
    "print(np.ones_like(A))\n",
    "print(np.zeros_like(A))"
   ]
  }
 ],
 "metadata": {
  "kernelspec": {
   "display_name": "Python 3",
   "language": "python",
   "name": "python3"
  },
  "language_info": {
   "codemirror_mode": {
    "name": "ipython",
    "version": 3
   },
   "file_extension": ".py",
   "mimetype": "text/x-python",
   "name": "python",
   "nbconvert_exporter": "python",
   "pygments_lexer": "ipython3",
   "version": "3.9.13"
  },
  "orig_nbformat": 4
 },
 "nbformat": 4,
 "nbformat_minor": 2
}
