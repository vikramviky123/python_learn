{
 "cells": [
  {
   "cell_type": "markdown",
   "metadata": {},
   "source": [
    "### Working with shapes and axes"
   ]
  },
  {
   "cell_type": "code",
   "execution_count": 1,
   "metadata": {},
   "outputs": [],
   "source": [
    "import numpy as np"
   ]
  },
  {
   "cell_type": "code",
   "execution_count": 2,
   "metadata": {},
   "outputs": [
    {
     "name": "stdout",
     "output_type": "stream",
     "text": [
      "[[ 0  1  2  3  4  5  6]\n",
      " [ 7  8  9 10 11 12 13]\n",
      " [14 15 16 17 18 19 20]\n",
      " [21 22 23 24 25 26 27]]\n",
      "Shape is : (4, 7)\n",
      "Dimension is : 2\n",
      "-----------------------------------------------------\n",
      "Flattend is : [ 0  1  2  3  4  5  6  7  8  9 10 11 12 13 14 15 16 17 18 19 20 21 22 23\n",
      " 24 25 26 27]\n",
      "-----------------------------------------------------\n",
      "ravel is : [ 0  1  2  3  4  5  6  7  8  9 10 11 12 13 14 15 16 17 18 19 20 21 22 23\n",
      " 24 25 26 27]\n",
      "-----------------------------------------------------\n",
      "Reshaped is : [[ 0  1  2  3  4  5  6  7  8  9 10 11 12 13 14 15 16 17 18 19 20 21 22 23\n",
      "  24 25 26 27]]\n",
      "[[ 0  1  2  3  4  5  6]\n",
      " [ 7  8  9 10 11 12 13]\n",
      " [14 15 16 17 18 19 20]\n",
      " [21 22 23 24 25 26 27]]\n",
      "-----------------------------------------------------\n",
      "resized is : [[ 0  1  2  3  4  5  6  7  8  9 10 11 12 13 14 15 16 17 18 19 20 21 22 23\n",
      "  24 25 26 27]]\n",
      "-----------------------------------------------------\n",
      "Shaped =(1,28) is : [[ 0  1  2  3  4  5  6  7  8  9 10 11 12 13 14 15 16 17 18 19 20 21 22 23\n",
      "  24 25 26 27]]\n"
     ]
    }
   ],
   "source": [
    "x_lst = np.array([x for x in range(28)]).reshape(4,7)\n",
    "y_lst =np.copy(x_lst)\n",
    "print(x_lst)\n",
    "print(\"Shape is :\",x_lst.shape)\n",
    "print(\"Dimension is :\",np.ndim(x_lst))\n",
    "print(\"-----------------------------------------------------\")\n",
    "print(\"Flattend is :\",x_lst.flatten())\n",
    "print(\"-----------------------------------------------------\")\n",
    "print(\"ravel is :\",x_lst.ravel())\n",
    "print(\"-----------------------------------------------------\")\n",
    "print(\"Reshaped is :\",x_lst.reshape(1,28))\n",
    "print(x_lst)\n",
    "print(\"-----------------------------------------------------\")\n",
    "y_lst.resize((1,28))\n",
    "print(\"resized is :\",y_lst)\n",
    "print(\"-----------------------------------------------------\")\n",
    "x_lst.shape = (1,28)\n",
    "print(\"Shaped =(1,28) is :\",x_lst)\n",
    "\n"
   ]
  },
  {
   "cell_type": "code",
   "execution_count": 3,
   "metadata": {},
   "outputs": [
    {
     "name": "stdout",
     "output_type": "stream",
     "text": [
      "[[[ 0  1  2  3  4]\n",
      "  [ 5  6  7  8  9]\n",
      "  [10 11 12 13 14]]\n",
      "\n",
      " [[15 16 17 18 19]\n",
      "  [20 21 22 23 24]\n",
      "  [25 26 27 28 29]]]\n",
      "Shape is : (2, 3, 5)\n"
     ]
    }
   ],
   "source": [
    "x_lst = np.array([x for x in range(30)]).reshape(2,3,5)\n",
    "print(x_lst)\n",
    "print(\"Shape is :\",x_lst.shape)"
   ]
  },
  {
   "cell_type": "markdown",
   "metadata": {},
   "source": [
    "### Axes Shift\n",
    "* moveaxis\n",
    "* swapaxis"
   ]
  },
  {
   "cell_type": "code",
   "execution_count": 4,
   "metadata": {},
   "outputs": [
    {
     "name": "stdout",
     "output_type": "stream",
     "text": [
      "(2, 3, 5)\n",
      "(5, 2, 3)\n",
      "[[[ 0  5 10]\n",
      "  [15 20 25]]\n",
      "\n",
      " [[ 1  6 11]\n",
      "  [16 21 26]]\n",
      "\n",
      " [[ 2  7 12]\n",
      "  [17 22 27]]\n",
      "\n",
      " [[ 3  8 13]\n",
      "  [18 23 28]]\n",
      "\n",
      " [[ 4  9 14]\n",
      "  [19 24 29]]]\n"
     ]
    }
   ],
   "source": [
    "x_reshaped = np.moveaxis(x_lst, -1, 0)\n",
    "print(x_lst.shape)\n",
    "print(x_reshaped.shape)\n",
    "print(x_reshaped)"
   ]
  },
  {
   "cell_type": "code",
   "execution_count": 7,
   "metadata": {},
   "outputs": [
    {
     "name": "stdout",
     "output_type": "stream",
     "text": [
      "(3, 2, 2)\n",
      "(2, 2, 3)\n",
      "[[[ 0  4  8]\n",
      "  [ 2  6 10]]\n",
      "\n",
      " [[ 1  5  9]\n",
      "  [ 3  7 11]]]\n"
     ]
    }
   ],
   "source": [
    "x = np.array([[[0,1],\n",
    "               [2,3]],\n",
    "                    [[4,5],\n",
    "                    [6,7]],\n",
    "                         [[8,9],\n",
    "                         [10,11]]])\n",
    "print(x.shape)\n",
    "y = np.swapaxes(x,0,2)\n",
    "print(y.shape)\n",
    "print(y)"
   ]
  },
  {
   "cell_type": "code",
   "execution_count": 8,
   "metadata": {},
   "outputs": [
    {
     "data": {
      "text/plain": [
       "array([0, 1])"
      ]
     },
     "execution_count": 8,
     "metadata": {},
     "output_type": "execute_result"
    }
   ],
   "source": [
    "x[0][0]"
   ]
  },
  {
   "cell_type": "markdown",
   "metadata": {},
   "source": [
    "### Transpose"
   ]
  },
  {
   "cell_type": "code",
   "execution_count": 9,
   "metadata": {},
   "outputs": [
    {
     "data": {
      "text/plain": [
       "array([[0, 3],\n",
       "       [1, 4],\n",
       "       [2, 5]])"
      ]
     },
     "execution_count": 9,
     "metadata": {},
     "output_type": "execute_result"
    }
   ],
   "source": [
    "np.array([x for x in range(6)]).reshape(2,3).T"
   ]
  },
  {
   "cell_type": "markdown",
   "metadata": {},
   "source": [
    "### Expand dims & Squeeze"
   ]
  },
  {
   "cell_type": "code",
   "execution_count": 10,
   "metadata": {},
   "outputs": [
    {
     "name": "stdout",
     "output_type": "stream",
     "text": [
      "[[1 2]] (1, 2)\n",
      "[[1]\n",
      " [2]] (2, 1)\n"
     ]
    }
   ],
   "source": [
    "x = np.array([1, 2])\n",
    "y = np.expand_dims(x,axis=0)\n",
    "print(y,y.shape)\n",
    "y = np.expand_dims(x,axis=1)\n",
    "print(y,y.shape)"
   ]
  },
  {
   "cell_type": "code",
   "execution_count": 11,
   "metadata": {},
   "outputs": [
    {
     "name": "stdout",
     "output_type": "stream",
     "text": [
      "[[[1 2]\n",
      "  [3 4]]] (1, 2, 2)\n",
      "[[[1 2]]\n",
      "\n",
      " [[3 4]]] (2, 1, 2)\n",
      "[[[1]\n",
      "  [2]]\n",
      "\n",
      " [[3]\n",
      "  [4]]] (2, 2, 1)\n"
     ]
    }
   ],
   "source": [
    "x = np.array([[1, 2],\n",
    "              [3, 4]])\n",
    "y = np.expand_dims(x,axis=0)\n",
    "print(y,y.shape)\n",
    "y = np.expand_dims(x,axis=1)\n",
    "print(y,y.shape)\n",
    "y = np.expand_dims(x,axis=2)\n",
    "print(y,y.shape)"
   ]
  },
  {
   "cell_type": "code",
   "execution_count": 23,
   "metadata": {},
   "outputs": [
    {
     "data": {
      "text/plain": [
       "array([[10],\n",
       "       [20],\n",
       "       [30]])"
      ]
     },
     "execution_count": 23,
     "metadata": {},
     "output_type": "execute_result"
    }
   ],
   "source": [
    "A = np.array([10, 20, 30])\n",
    "B = np.array([1, 2, 3])\n",
    "A[:, np.newaxis]"
   ]
  },
  {
   "cell_type": "code",
   "execution_count": 12,
   "metadata": {},
   "outputs": [
    {
     "name": "stdout",
     "output_type": "stream",
     "text": [
      "[[[1 2]\n",
      "  [3 4]]] (1, 2, 2)\n",
      "[[1 2]\n",
      " [3 4]] (2, 2)\n",
      "--------------------------------------------------------------------------------\n",
      "[[[1 2]]\n",
      "\n",
      " [[3 4]]] (2, 1, 2)\n",
      "[[1 2]\n",
      " [3 4]] (2, 2)\n",
      "--------------------------------------------------------------------------------\n",
      "[[[1]\n",
      "  [2]]\n",
      "\n",
      " [[3]\n",
      "  [4]]] (2, 2, 1)\n",
      "[[1 2]\n",
      " [3 4]] (2, 2)\n",
      "--------------------------------------------------------------------------------\n"
     ]
    }
   ],
   "source": [
    "x = np.array([[1, 2],\n",
    "              [3, 4]])\n",
    "y = np.expand_dims(x,axis=0)\n",
    "print(y,y.shape)\n",
    "yy = np.squeeze(y,axis=0)\n",
    "print(yy,yy.shape)\n",
    "print(\"-\"*80)\n",
    "y = np.expand_dims(x,axis=1)\n",
    "print(y,y.shape)\n",
    "yy = np.squeeze(y,axis=1)\n",
    "print(yy,yy.shape)\n",
    "print(\"-\"*80)\n",
    "y = np.expand_dims(x,axis=2)\n",
    "print(y,y.shape)\n",
    "yy = np.squeeze(y,axis=2)\n",
    "print(yy,yy.shape)\n",
    "print(\"-\"*80)"
   ]
  },
  {
   "cell_type": "markdown",
   "metadata": {},
   "source": [
    "### Concatenate"
   ]
  },
  {
   "cell_type": "code",
   "execution_count": 22,
   "metadata": {},
   "outputs": [
    {
     "name": "stdout",
     "output_type": "stream",
     "text": [
      "[[1 2]\n",
      " [3 4]\n",
      " [5 6]\n",
      " [7 8]]\n",
      "[[1 2 5 6]\n",
      " [3 4 7 8]]\n"
     ]
    }
   ],
   "source": [
    "a = np.array([[1, 2],\n",
    "              [3, 4]])\n",
    "b = np.array([[5, 6],\n",
    "              [7, 8]])\n",
    "print(np.concatenate((a, b), axis=0))\n",
    "print(np.concatenate((a, b), axis=1))"
   ]
  },
  {
   "cell_type": "code",
   "execution_count": 29,
   "metadata": {},
   "outputs": [
    {
     "name": "stdout",
     "output_type": "stream",
     "text": [
      "[[1 2 3 0 0 0]\n",
      " [0 0 0 7 8 9]]\n"
     ]
    }
   ],
   "source": [
    "array_1 = np.array([[1,2,3],\n",
    "                    [0,0,0]])\n",
    "\n",
    "array_2 = np.array([[0,0,0],\n",
    "                    [7,8,9]])\n",
    "\n",
    "print(np.concatenate((array_1, array_2), axis = 1))"
   ]
  },
  {
   "cell_type": "markdown",
   "metadata": {},
   "source": [
    "### stack"
   ]
  },
  {
   "cell_type": "code",
   "execution_count": 14,
   "metadata": {},
   "outputs": [
    {
     "data": {
      "text/plain": [
       "array([[1, 2, 3],\n",
       "       [4, 5, 6]])"
      ]
     },
     "execution_count": 14,
     "metadata": {},
     "output_type": "execute_result"
    }
   ],
   "source": [
    "a = np.array([1, 2, 3])\n",
    "b = np.array([4, 5, 6])\n",
    "np.stack((a, b))"
   ]
  },
  {
   "cell_type": "code",
   "execution_count": 24,
   "metadata": {},
   "outputs": [
    {
     "data": {
      "text/plain": [
       "array([[1, 2, 3],\n",
       "       [4, 5, 6]])"
      ]
     },
     "execution_count": 24,
     "metadata": {},
     "output_type": "execute_result"
    }
   ],
   "source": [
    "a = np.array([1, 2, 3])\n",
    "b = np.array([4, 5, 6])\n",
    "np.stack((a, b), axis=0)"
   ]
  },
  {
   "cell_type": "markdown",
   "metadata": {},
   "source": [
    "### vstack"
   ]
  },
  {
   "cell_type": "code",
   "execution_count": 16,
   "metadata": {},
   "outputs": [
    {
     "data": {
      "text/plain": [
       "array([[1],\n",
       "       [2],\n",
       "       [3],\n",
       "       [4],\n",
       "       [5],\n",
       "       [6]])"
      ]
     },
     "execution_count": 16,
     "metadata": {},
     "output_type": "execute_result"
    }
   ],
   "source": [
    "a = np.array([[1], \n",
    "              [2], \n",
    "              [3]])\n",
    "b = np.array([[4],\n",
    "              [5], \n",
    "              [6]])\n",
    "np.vstack((a,b))"
   ]
  },
  {
   "cell_type": "markdown",
   "metadata": {},
   "source": [
    "### hstack"
   ]
  },
  {
   "cell_type": "code",
   "execution_count": 17,
   "metadata": {},
   "outputs": [
    {
     "data": {
      "text/plain": [
       "array([[1, 4],\n",
       "       [2, 5],\n",
       "       [3, 6]])"
      ]
     },
     "execution_count": 17,
     "metadata": {},
     "output_type": "execute_result"
    }
   ],
   "source": [
    "a = np.array([[1],\n",
    "              [2],\n",
    "              [3]])\n",
    "b = np.array([[4],\n",
    "              [5],\n",
    "              [6]])\n",
    "np.hstack((a,b))"
   ]
  },
  {
   "cell_type": "markdown",
   "metadata": {},
   "source": [
    "### Block"
   ]
  },
  {
   "cell_type": "code",
   "execution_count": 18,
   "metadata": {},
   "outputs": [
    {
     "name": "stdout",
     "output_type": "stream",
     "text": [
      "[ 1  2  3  4  5  6 10]\n",
      "[[1 2 3]\n",
      " [4 5 6]]\n"
     ]
    }
   ],
   "source": [
    "a = np.array([1, 2, 3])\n",
    "b = np.array([4, 5, 6])\n",
    "print(np.block([a, b, 10]))\n",
    "print(np.block([[a], [b]]))"
   ]
  },
  {
   "cell_type": "code",
   "execution_count": null,
   "metadata": {},
   "outputs": [],
   "source": []
  }
 ],
 "metadata": {
  "kernelspec": {
   "display_name": "Python 3",
   "language": "python",
   "name": "python3"
  },
  "language_info": {
   "codemirror_mode": {
    "name": "ipython",
    "version": 3
   },
   "file_extension": ".py",
   "mimetype": "text/x-python",
   "name": "python",
   "nbconvert_exporter": "python",
   "pygments_lexer": "ipython3",
   "version": "3.9.13"
  },
  "orig_nbformat": 4
 },
 "nbformat": 4,
 "nbformat_minor": 2
}
