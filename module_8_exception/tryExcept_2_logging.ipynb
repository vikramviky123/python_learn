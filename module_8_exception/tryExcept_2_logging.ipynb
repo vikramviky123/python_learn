{
 "cells": [
  {
   "cell_type": "markdown",
   "metadata": {},
   "source": []
  },
  {
   "cell_type": "code",
   "execution_count": 1,
   "metadata": {},
   "outputs": [
    {
     "name": "stdout",
     "output_type": "stream",
     "text": [
      "Logging module Demo\n"
     ]
    }
   ],
   "source": [
    "import logging\n",
    "\n",
    "logging.basicConfig(filename='log.txt', level=logging.WARNING)\n",
    "print(\"Logging module Demo\")\n",
    "\n",
    "logging.debug(\"This is debug message\")\n",
    "logging.info(\"This is info message\")\n",
    "logging.warning(\"This is warning message\")\n",
    "logging.error(\"This is error message\")\n",
    "logging.critical(\"This is critical message\")\n"
   ]
  },
  {
   "cell_type": "code",
   "execution_count": 1,
   "metadata": {},
   "outputs": [
    {
     "name": "stdout",
     "output_type": "stream",
     "text": [
      "Logging module Demo\n"
     ]
    }
   ],
   "source": [
    "import logging\n",
    "logging.basicConfig(filename='log.txt', level=logging.DEBUG)\n",
    "print(\"Logging module Demo\")\n",
    "\n",
    "logging.debug(\"This is debug message\")\n",
    "logging.info(\"This is info message\")\n",
    "logging.warning(\"This is warning message\")\n",
    "logging.error(\"This is error message\")\n",
    "logging.critical(\"This is critical message\")"
   ]
  },
  {
   "cell_type": "code",
   "execution_count": 3,
   "metadata": {},
   "outputs": [
    {
     "name": "stdout",
     "output_type": "stream",
     "text": [
      "Enter only int values\n"
     ]
    }
   ],
   "source": [
    "import logging \n",
    "logging.basicConfig(filename='mylog.txt',level=logging.INFO) \n",
    "logging.info(\"A New request Came:\") \n",
    "try:  \n",
    " x=int(input(\"Enter First Number: \")) \n",
    " y=int(input(\"Enter Second Number: \")) \n",
    " print(x/y) \n",
    "\n",
    "except ZeroDivisionError as msg:\n",
    " print(\"cannot divide with zero\") \n",
    " logging.exception(msg) \n",
    "\n",
    "except ValueError as msg:  \n",
    " print(\"Enter only int values\") \n",
    " logging.exception(msg) \n",
    "\n",
    "logging.info(\"Request Processing Completed\") "
   ]
  },
  {
   "cell_type": "code",
   "execution_count": null,
   "metadata": {},
   "outputs": [],
   "source": []
  }
 ],
 "metadata": {
  "kernelspec": {
   "display_name": "Python 3",
   "language": "python",
   "name": "python3"
  },
  "language_info": {
   "codemirror_mode": {
    "name": "ipython",
    "version": 3
   },
   "file_extension": ".py",
   "mimetype": "text/x-python",
   "name": "python",
   "nbconvert_exporter": "python",
   "pygments_lexer": "ipython3",
   "version": "3.9.13"
  },
  "orig_nbformat": 4
 },
 "nbformat": 4,
 "nbformat_minor": 2
}
