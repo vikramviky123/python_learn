{
 "cells": [
  {
   "cell_type": "markdown",
   "metadata": {},
   "source": [
    "Types of Errors"
   ]
  },
  {
   "cell_type": "code",
   "execution_count": 2,
   "metadata": {},
   "outputs": [
    {
     "name": "stdout",
     "output_type": "stream",
     "text": [
      "A New Exception occurred:  6\n"
     ]
    }
   ],
   "source": [
    "# A python program to create user-defined exception\n",
    "# class MyError is derived from super class Exception\n",
    "class MyError(Exception):\n",
    "\n",
    "\t# Constructor or Initializer\n",
    "\tdef __init__(self, value):\n",
    "\t\tself.value = value\n",
    "\n",
    "\t# __str__ is to print() the value\n",
    "\tdef __str__(self):\n",
    "\t\treturn f\"{self.value}\"\n",
    "\n",
    "\n",
    "try:\n",
    "\traise(MyError(3*2))\n",
    "\n",
    "# Value of Exception is stored in error\n",
    "except MyError as error:\n",
    "\tprint('A New Exception occurred: ', error.value)\n"
   ]
  }
 ],
 "metadata": {
  "kernelspec": {
   "display_name": "Python 3",
   "language": "python",
   "name": "python3"
  },
  "language_info": {
   "codemirror_mode": {
    "name": "ipython",
    "version": 3
   },
   "file_extension": ".py",
   "mimetype": "text/x-python",
   "name": "python",
   "nbconvert_exporter": "python",
   "pygments_lexer": "ipython3",
   "version": "3.11.5"
  },
  "orig_nbformat": 4
 },
 "nbformat": 4,
 "nbformat_minor": 2
}
