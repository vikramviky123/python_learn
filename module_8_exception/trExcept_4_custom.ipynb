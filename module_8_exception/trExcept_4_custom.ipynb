{
 "cells": [
  {
   "cell_type": "code",
   "execution_count": 41,
   "metadata": {},
   "outputs": [
    {
     "name": "stdout",
     "output_type": "stream",
     "text": [
      "Caught an exception: division by zero\n",
      "I made a Custom Error and Error is : division by zero\n"
     ]
    }
   ],
   "source": [
    "class CustomError(Exception):\n",
    "    def __init__(self, message:str):\n",
    "        super().__init__(message)\n",
    "        self.message = message\n",
    "        \n",
    "    def __str__(self) -> str:\n",
    "        return f\"I made a Custom Error and Error is : {self.message}\"\n",
    "\n",
    "try:\n",
    "    a = 10\n",
    "    b = 0\n",
    "    c = a/b\n",
    "except Exception as ce:\n",
    "    print(f\"Caught an exception: {ce}\")\n",
    "    print(CustomError(ce))"
   ]
  },
  {
   "cell_type": "code",
   "execution_count": 49,
   "metadata": {},
   "outputs": [
    {
     "name": "stdout",
     "output_type": "stream",
     "text": [
      "Caught an exception: division by zero\n",
      "I made a Custom Error and Error is: division by zero\n"
     ]
    }
   ],
   "source": [
    "class CustomError(Exception):\n",
    "    def __init__(self, message: str):\n",
    "        super().__init__(message)\n",
    "\n",
    "    def __str__(self) -> str:\n",
    "        return f\"I made a Custom Error and Error is: {self.args[0]}\"\n",
    "\n",
    "\n",
    "try:\n",
    "    a = 10\n",
    "    b = 0\n",
    "    c = a / b\n",
    "except Exception as ce:\n",
    "    print(f\"Caught an exception: {ce}\")\n",
    "    print(CustomError(ce))"
   ]
  },
  {
   "cell_type": "code",
   "execution_count": 28,
   "metadata": {},
   "outputs": [
    {
     "name": "stdout",
     "output_type": "stream",
     "text": [
      "Caught an exception in C:\\Users\\91981\\AppData\\Local\\Temp\\ipykernel_24244\\1443879040.py at line 26: Negative values are not allowed\n"
     ]
    }
   ],
   "source": [
    "import sys\n",
    "\n",
    "\n",
    "class CustomError(Exception):\n",
    "    def __init__(self, script_name, line_number, message=\"A custom error occurred\"):\n",
    "        self.script_name = script_name\n",
    "        self.line_number = line_number\n",
    "        self.message = message\n",
    "        super().__init__(self.message)\n",
    "\n",
    "\n",
    "def get_error_info():\n",
    "    # Get information about the current frame in the call stack\n",
    "    current_frame = sys._getframe(1)\n",
    "\n",
    "    # Extract script name, line number, and code line\n",
    "    script_name = current_frame.f_code.co_filename\n",
    "    line_number = current_frame.f_lineno\n",
    "    code_line = current_frame.f_code.co_code\n",
    "\n",
    "    return script_name, line_number, code_line\n",
    "\n",
    "\n",
    "def some_function(value):\n",
    "    if value < 0:\n",
    "        script_name, line_number, code_line = get_error_info()\n",
    "        raise CustomError(script_name, line_number,\n",
    "                          \"Negative values are not allowed\")\n",
    "\n",
    "\n",
    "try:\n",
    "    some_function(-5)\n",
    "except CustomError as ce:\n",
    "    print(\n",
    "        f\"Caught an exception in {ce.script_name} at line {ce.line_number}: {ce}\")"
   ]
  },
  {
   "cell_type": "code",
   "execution_count": 34,
   "metadata": {},
   "outputs": [
    {
     "name": "stdout",
     "output_type": "stream",
     "text": [
      "division by zero\n",
      "Error occured in Script :C:\\Users\\91981\\AppData\\Local\\Temp\\ipykernel_24244\\1013131736.py\n",
      "at line No: 12 \n",
      "Error Message: division by zero \n"
     ]
    }
   ],
   "source": [
    "import sys\n",
    "import inspect\n",
    "import linecache\n",
    "\n",
    "\n",
    "def get_error_info(error_message:str):\n",
    "    # Get information about the current frame in the call stack\n",
    "    current_frame = inspect.currentframe()\n",
    "\n",
    "    # Extract script name, line number, and code line\n",
    "    script_name = current_frame.f_code.co_filename\n",
    "    line_number = current_frame.f_lineno\n",
    "\n",
    "    # Get the code line from the source file\n",
    "    code_line = linecache.getline(script_name, line_number).strip()\n",
    "\n",
    "    return f\"Error occured in Script :{script_name}\\nat line No: {line_number} \\nError Message: {error_message} \"\n",
    "\n",
    "\n",
    "class CustomError(Exception):\n",
    "    def __init__(self, error_message:str):\n",
    "        super().__init__(error_message)\n",
    "        self.message = get_error_info(error_message)\n",
    "\n",
    "    def __str__(self) -> str:\n",
    "        return self.message\n",
    "\n",
    "\n",
    "try:\n",
    "    a = 5\n",
    "    b = 0\n",
    "    c = a / b\n",
    "\n",
    "except Exception as ce:\n",
    "    print(ce)\n",
    "    print(CustomError(ce))"
   ]
  }
 ],
 "metadata": {
  "kernelspec": {
   "display_name": "base",
   "language": "python",
   "name": "python3"
  },
  "language_info": {
   "codemirror_mode": {
    "name": "ipython",
    "version": 3
   },
   "file_extension": ".py",
   "mimetype": "text/x-python",
   "name": "python",
   "nbconvert_exporter": "python",
   "pygments_lexer": "ipython3",
   "version": "3.11.5"
  }
 },
 "nbformat": 4,
 "nbformat_minor": 2
}
