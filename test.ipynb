{
 "cells": [
  {
   "cell_type": "code",
   "execution_count": 1,
   "metadata": {},
   "outputs": [],
   "source": [
    "old_dict = {1: 'a', 2:'b', 3:'b', 4:'c', 5:'d', 6:'d', 7:'e', 8:'f', 9:'g', 10:'g'}"
   ]
  },
  {
   "cell_type": "code",
   "execution_count": 10,
   "metadata": {},
   "outputs": [],
   "source": [
    "new_dict = {}\n",
    "\n",
    "for keys, values in old_dict.items():\n",
    "    if values not in new_dict.values():\n",
    "        new_dict[keys] = values   "
   ]
  },
  {
   "cell_type": "code",
   "execution_count": null,
   "metadata": {},
   "outputs": [],
   "source": []
  },
  {
   "cell_type": "code",
   "execution_count": 11,
   "metadata": {},
   "outputs": [
    {
     "data": {
      "text/plain": [
       "{1: 'a', 2: 'b', 4: 'c', 5: 'd', 7: 'e', 8: 'f', 9: 'g'}"
      ]
     },
     "execution_count": 11,
     "metadata": {},
     "output_type": "execute_result"
    }
   ],
   "source": [
    "new_dict"
   ]
  },
  {
   "cell_type": "markdown",
   "metadata": {},
   "source": [
    "Q2. Write a Python list comprehension to create a list of squares of numbers from 1 to 10."
   ]
  },
  {
   "cell_type": "code",
   "execution_count": 14,
   "metadata": {},
   "outputs": [
    {
     "data": {
      "text/plain": [
       "[1, 4, 9, 16, 25, 36, 49, 64, 81, 100]"
      ]
     },
     "execution_count": 14,
     "metadata": {},
     "output_type": "execute_result"
    }
   ],
   "source": [
    "[x**2 for x in range(1,11)]"
   ]
  },
  {
   "cell_type": "code",
   "execution_count": 20,
   "metadata": {},
   "outputs": [],
   "source": [
    "class fibonacci_series:\n",
    "    def __init__(self, n=10):\n",
    "        self.n = n\n",
    "    \n",
    "    def fib_method(self):\n",
    "        a = 0\n",
    "        b = 1\n",
    "        print(a)\n",
    "        print(b)                       \n",
    "        for i in range(self.n-2): \n",
    "            temp = a+b\n",
    "            a = b\n",
    "            b =temp                        \n",
    "            print(temp)     \n",
    "    def __str__(self) -> str:\n",
    "        pass           \n",
    "                   "
   ]
  },
  {
   "cell_type": "code",
   "execution_count": 21,
   "metadata": {},
   "outputs": [],
   "source": [
    "f_series = fibonacci_series(10)"
   ]
  },
  {
   "cell_type": "code",
   "execution_count": 22,
   "metadata": {},
   "outputs": [
    {
     "name": "stdout",
     "output_type": "stream",
     "text": [
      "0\n",
      "1\n",
      "1\n",
      "2\n",
      "3\n",
      "5\n",
      "8\n",
      "13\n",
      "21\n",
      "34\n"
     ]
    }
   ],
   "source": [
    "f_series.fib_method()"
   ]
  },
  {
   "cell_type": "markdown",
   "metadata": {},
   "source": [
    "f_series = fibonb"
   ]
  },
  {
   "cell_type": "markdown",
   "metadata": {},
   "source": [
    "1 to 10\n",
    "\n",
    "0,1,1,2,3,5,8,13,21,34"
   ]
  },
  {
   "cell_type": "code",
   "execution_count": null,
   "metadata": {},
   "outputs": [],
   "source": [
    "1 to  10"
   ]
  },
  {
   "cell_type": "markdown",
   "metadata": {},
   "source": [
    "unstructred = text file about students--> blind and deaf"
   ]
  },
  {
   "cell_type": "markdown",
   "metadata": {},
   "source": [
    "blind : au"
   ]
  }
 ],
 "metadata": {
  "kernelspec": {
   "display_name": "base",
   "language": "python",
   "name": "python3"
  },
  "language_info": {
   "codemirror_mode": {
    "name": "ipython",
    "version": 3
   },
   "file_extension": ".py",
   "mimetype": "text/x-python",
   "name": "python",
   "nbconvert_exporter": "python",
   "pygments_lexer": "ipython3",
   "version": "3.11.5"
  }
 },
 "nbformat": 4,
 "nbformat_minor": 2
}
