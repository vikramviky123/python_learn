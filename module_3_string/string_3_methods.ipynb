{
 "cells": [
  {
   "cell_type": "markdown",
   "metadata": {},
   "source": [
    "#Working with String Methods"
   ]
  },
  {
   "cell_type": "code",
   "execution_count": 8,
   "metadata": {},
   "outputs": [
    {
     "name": "stdout",
     "output_type": "stream",
     "text": [
      "<class 'str'>\n"
     ]
    }
   ],
   "source": [
    "name = \"virkam reddy is a GOOD Boy a is\"\n",
    "name2 = \"VIKRAM\"\n",
    "print(type(name))"
   ]
  },
  {
   "cell_type": "code",
   "execution_count": 9,
   "metadata": {},
   "outputs": [
    {
     "name": "stdout",
     "output_type": "stream",
     "text": [
      "capitalize -->returns first letter as capital Virkam reddy is a good boy a is\n",
      "casefold -->returns all caps to lower vikram\n",
      "center -->adds char half to left and other to right --VIKRAM--\n",
      "count -->returns total count of a sub strng or character 3 2\n",
      "encode -->returns utf  b'virkam reddy is a GOOD Boy a is'\n"
     ]
    }
   ],
   "source": [
    "print(\"capitalize -->returns first letter as capital\",name.capitalize())\n",
    "print(\"casefold -->returns all caps to lower\",name2.casefold())\n",
    "print(\"center -->adds char half to left and other to right\",name2.center(len(name2)+4,'-'))\n",
    "print(\"count -->returns total count of a sub strng or character\",name.count('a'),name.count('is'))\n",
    "print(\"encode -->returns utf \",name.encode(encoding='UTF-8',errors='strict'))\n"
   ]
  },
  {
   "cell_type": "code",
   "execution_count": 37,
   "metadata": {},
   "outputs": [
    {
     "name": "stdout",
     "output_type": "stream",
     "text": [
      "endsWith -->returns boolean  True True\n",
      "endsWith -->returns boolean  True True\n",
      "find --> finds the substring positiono 13 4\n",
      "index --> finds the substring position  13 4\n"
     ]
    }
   ],
   "source": [
    "print(\"endsWith -->returns boolean \",name.endswith('is'),name.endswith('s'))\n",
    "print(\"endsWith -->returns boolean \",name.startswith('vi'),name.startswith('v'))\n",
    "print(\"find --> finds the substring positiono\",name.find('is'),name.find('a',0,10))\n",
    "print(\"index --> finds the substring position \",name.index('is'),name.index('a',0,10))\n"
   ]
  },
  {
   "cell_type": "code",
   "execution_count": 11,
   "metadata": {},
   "outputs": [
    {
     "name": "stdout",
     "output_type": "stream",
     "text": [
      "my name is Vikram and I am 34 years old\n"
     ]
    }
   ],
   "source": [
    "n=\"Vikram\"\n",
    "a = 34\n",
    "name3 = f\"my name is {n} and I am {a} years old\"\n",
    "print(name3)"
   ]
  },
  {
   "cell_type": "code",
   "execution_count": 12,
   "metadata": {},
   "outputs": [
    {
     "name": "stdout",
     "output_type": "stream",
     "text": [
      "5\n"
     ]
    }
   ],
   "source": [
    "sentence = 'android is amazing, apple ios is amazing'\n",
    "result = sentence.index('i', 0, len(sentence))\n",
    "print(result)"
   ]
  },
  {
   "cell_type": "markdown",
   "metadata": {},
   "source": [
    "isalnum()\n",
    "\n",
    "Returns true if all characters in a string are alphanumeric (i.e both alphabets or numeric), else returns false."
   ]
  },
  {
   "cell_type": "markdown",
   "metadata": {},
   "source": [
    "isalpha()\n",
    "\n",
    "Returns true if all characters in the string are alphabets, else returns false.\n",
    "\n",
    "istitle()\n",
    "\n",
    "Returns true if string is a titled cased string\n",
    "\n",
    "islower()\n",
    "\n",
    "Returns true if all alphabets in the string are lowercase, else returns false.\n",
    "\n",
    "isupper()\n",
    "\n",
    "Returns true if all characters in a string are uppercase, else returns false.\n",
    "\n",
    "-------------------------------------------------------------------------------------------------------\n",
    "\n",
    "isdecimal()\n",
    "\n",
    "Returns true if all characters in the string are decimal, else returns false.\n",
    "\n",
    "isdigit()\n",
    "\n",
    "Returns true if all characters in the string are digits, else returns false.\n",
    "\n"
   ]
  },
  {
   "cell_type": "code",
   "execution_count": 19,
   "metadata": {},
   "outputs": [
    {
     "name": "stdout",
     "output_type": "stream",
     "text": [
      "True False\n"
     ]
    }
   ],
   "source": [
    "nm = \"Vikram\"\n",
    "mn = \"Vikram%$**&\"\n",
    "print(nm.isidentifier(), mn.isidentifier())"
   ]
  },
  {
   "cell_type": "markdown",
   "metadata": {},
   "source": [
    " isprintable()\n",
    " \n",
    "Returns true if all characters in the string are printable. If even a single character is non printable, it returns false.\n",
    "\n",
    "Printable Characters:\n",
    "\n",
    "letters and symbols, digits, punctuation, Whitespace"
   ]
  },
  {
   "cell_type": "markdown",
   "metadata": {},
   "source": [
    "isspace()\n",
    "\n",
    "Returns true if there are only white space characters in the string. If not, returns false."
   ]
  },
  {
   "cell_type": "code",
   "execution_count": 22,
   "metadata": {},
   "outputs": [
    {
     "name": "stdout",
     "output_type": "stream",
     "text": [
      "yesterday then today then tomorrow\n",
      "<class 'str'>\n"
     ]
    }
   ],
   "source": [
    "L = ['yesterday', 'today', 'tomorrow']\n",
    "x = ' then '.join(L)\n",
    "print(x)\n",
    "print(type(x))"
   ]
  },
  {
   "cell_type": "code",
   "execution_count": 35,
   "metadata": {},
   "outputs": [
    {
     "name": "stdout",
     "output_type": "stream",
     "text": [
      "Hello   World!    17\n",
      "  Hello   World! 16\n",
      "Hello   World! 14\n"
     ]
    }
   ],
   "source": [
    "S = '  Hello   World!   '\n",
    "x = S.lstrip()\n",
    "print(x, len(x)) # removes only leading spaces\n",
    "x = S.rstrip()\n",
    "print(x, len(x)) # removes only trailing spaces\n",
    "x = S.strip()\n",
    "print(x, len(x)) # removes only trailing spaces"
   ]
  },
  {
   "cell_type": "code",
   "execution_count": 25,
   "metadata": {},
   "outputs": [
    {
     "name": "stdout",
     "output_type": "stream",
     "text": [
      "{104: 122}\n",
      "zey, zow are you?\n"
     ]
    }
   ],
   "source": [
    "S = \"hey, how are you?\"\n",
    "x = S.maketrans('h', 'z') # replace all occurrences of 'h' with 'z'\n",
    "print(x)\n",
    "print(S.translate(x))"
   ]
  },
  {
   "cell_type": "code",
   "execution_count": 30,
   "metadata": {},
   "outputs": [
    {
     "name": "stdout",
     "output_type": "stream",
     "text": [
      "('How are ', 'you', ' How have you been?')\n",
      "('How are you How have ', 'you', ' been?')\n",
      "['How', 'are', 'you', 'How', 'have', 'you', 'been?']\n",
      "['How', 'are', 'you', 'How', 'have', 'you', 'been?']\n"
     ]
    }
   ],
   "source": [
    "S = 'How are you How have you been?'\n",
    "x = S.partition('you') # splits/parts on the basis of this parameter\n",
    "print(x)\n",
    "x = S.rpartition('you') # splits/parts on the basis of last occurence of this parameter\n",
    "print(x)\n",
    "x = S.rsplit()\n",
    "print(x)\n",
    "x = S.split()\n",
    "print(x)"
   ]
  },
  {
   "cell_type": "code",
   "execution_count": 27,
   "metadata": {},
   "outputs": [
    {
     "name": "stdout",
     "output_type": "stream",
     "text": [
      "Hello there there world\n"
     ]
    }
   ],
   "source": [
    "# Replace all occurrences of substring 'WORLD' with 'there'\n",
    "S = 'Hello WORLD WORLD world'\n",
    "x = S.replace('WORLD','there')\n",
    "print(x)"
   ]
  },
  {
   "cell_type": "code",
   "execution_count": 38,
   "metadata": {},
   "outputs": [
    {
     "name": "stdout",
     "output_type": "stream",
     "text": [
      "hELLO wORLD\n"
     ]
    }
   ],
   "source": [
    "S = \"Hello World\"\n",
    "print(S.swapcase())"
   ]
  },
  {
   "cell_type": "code",
   "execution_count": 39,
   "metadata": {},
   "outputs": [
    {
     "name": "stdout",
     "output_type": "stream",
     "text": [
      "Welcome To Scaler\n"
     ]
    }
   ],
   "source": [
    "S1 = 'welcome to scaler'\n",
    "print(S1.title())"
   ]
  },
  {
   "cell_type": "markdown",
   "metadata": {},
   "source": [
    "lower()\n",
    "\n",
    "Returns by converting all lowercase characters to uppercase characters.\n",
    "\n",
    "upper()\n",
    "\n",
    "Returns a string by converting each lower case to upper case alphabets."
   ]
  },
  {
   "cell_type": "code",
   "execution_count": null,
   "metadata": {},
   "outputs": [],
   "source": []
  },
  {
   "cell_type": "code",
   "execution_count": null,
   "metadata": {},
   "outputs": [],
   "source": []
  }
 ],
 "metadata": {
  "kernelspec": {
   "display_name": "Python 3",
   "language": "python",
   "name": "python3"
  },
  "language_info": {
   "codemirror_mode": {
    "name": "ipython",
    "version": 3
   },
   "file_extension": ".py",
   "mimetype": "text/x-python",
   "name": "python",
   "nbconvert_exporter": "python",
   "pygments_lexer": "ipython3",
   "version": "3.9.13"
  },
  "orig_nbformat": 4
 },
 "nbformat": 4,
 "nbformat_minor": 2
}
