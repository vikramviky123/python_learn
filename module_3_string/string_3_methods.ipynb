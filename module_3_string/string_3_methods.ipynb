{
 "cells": [
  {
   "cell_type": "markdown",
   "metadata": {},
   "source": [
    "#Working with String Methods"
   ]
  },
  {
   "cell_type": "code",
   "execution_count": 2,
   "metadata": {},
   "outputs": [
    {
     "name": "stdout",
     "output_type": "stream",
     "text": [
      "<class 'str'>\n"
     ]
    }
   ],
   "source": [
    "name = \"virkam reddy is a GOOD Boy a is\"\n",
    "name2 = \"VIKRAM\"\n",
    "print(type(name))"
   ]
  },
  {
   "cell_type": "code",
   "execution_count": 3,
   "metadata": {},
   "outputs": [
    {
     "name": "stdout",
     "output_type": "stream",
     "text": [
      "capitalize -->returns first letter as capital Virkam reddy is a good boy a is\n",
      "casefold -->returns all caps to lower vikram\n",
      "center -->adds char half to left and other to right --VIKRAM--\n",
      "count -->returns total count of a sub strng or character 3 2\n",
      "encode -->returns utf  b'virkam reddy is a GOOD Boy a is'\n"
     ]
    }
   ],
   "source": [
    "print(\"capitalize -->returns first letter as capital\",name.capitalize())\n",
    "print(\"casefold -->returns all caps to lower\",name2.casefold())\n",
    "print(\"center -->adds char half to left and other to right\",name2.center(len(name2)+4,'-'))\n",
    "print(\"count -->returns total count of a sub strng or character\",name.count('a'),name.count('is'))\n",
    "print(\"encode -->returns utf \",name.encode(encoding='UTF-8',errors='strict'))\n"
   ]
  },
  {
   "cell_type": "code",
   "execution_count": 4,
   "metadata": {},
   "outputs": [
    {
     "name": "stdout",
     "output_type": "stream",
     "text": [
      "endsWith -->returns boolean  True True\n",
      "endsWith -->returns boolean  True True\n",
      "find --> finds the substring position 13 4\n",
      "index --> finds the substring position  13 4\n"
     ]
    }
   ],
   "source": [
    "print(\"endsWith -->returns boolean \",name.endswith('is'),name.endswith('s'))\n",
    "print(\"endsWith -->returns boolean \",name.startswith('vi'),name.startswith('v'))\n",
    "print(\"find --> finds the substring position\",name.find('is'),name.find('a',0,10))\n",
    "print(\"index --> finds the substring position \",name.index('is'),name.index('a',0,10))\n"
   ]
  },
  {
   "cell_type": "code",
   "execution_count": 5,
   "metadata": {},
   "outputs": [
    {
     "name": "stdout",
     "output_type": "stream",
     "text": [
      "my name is Vikram and I am 34 years old\n"
     ]
    }
   ],
   "source": [
    "n=\"Vikram\"\n",
    "a = 34\n",
    "name3 = f\"my name is {n} and I am {a} years old\"\n",
    "print(name3)"
   ]
  },
  {
   "cell_type": "code",
   "execution_count": 6,
   "metadata": {},
   "outputs": [
    {
     "name": "stdout",
     "output_type": "stream",
     "text": [
      "5\n"
     ]
    }
   ],
   "source": [
    "sentence = 'android is amazing, apple ios is amazing'\n",
    "result = sentence.index('i', 0, len(sentence))\n",
    "print(result)"
   ]
  },
  {
   "cell_type": "markdown",
   "metadata": {},
   "source": [
    "isalnum()\n",
    "\n",
    "Returns true if all characters in a string are alphanumeric (i.e both alphabets or numeric), else returns false."
   ]
  },
  {
   "cell_type": "markdown",
   "metadata": {},
   "source": [
    "isalpha()\n",
    "\n",
    "Returns true if all characters in the string are alphabets, else returns false.\n",
    "\n",
    "istitle()\n",
    "\n",
    "Returns true if string is a titled cased string\n",
    "\n",
    "islower()\n",
    "\n",
    "Returns true if all alphabets in the string are lowercase, else returns false.\n",
    "\n",
    "isupper()\n",
    "\n",
    "Returns true if all characters in a string are uppercase, else returns false.\n",
    "\n",
    "-------------------------------------------------------------------------------------------------------\n",
    "\n",
    "isdecimal()\n",
    "\n",
    "Returns true if all characters in the string are decimal, else returns false.\n",
    "\n",
    "isdigit()\n",
    "\n",
    "Returns true if all characters in the string are digits, else returns false.\n",
    "\n"
   ]
  },
  {
   "cell_type": "code",
   "execution_count": null,
   "metadata": {},
   "outputs": [],
   "source": []
  },
  {
   "cell_type": "code",
   "execution_count": 7,
   "metadata": {},
   "outputs": [
    {
     "name": "stdout",
     "output_type": "stream",
     "text": [
      "True False\n"
     ]
    }
   ],
   "source": [
    "nm = \"Vikram\"\n",
    "mn = \"Vikram%$**&\"\n",
    "print(nm.isidentifier(), mn.isidentifier())"
   ]
  },
  {
   "cell_type": "markdown",
   "metadata": {},
   "source": [
    " isprintable()\n",
    " \n",
    "Returns true if all characters in the string are printable. If even a single character is non printable, it returns false.\n",
    "\n",
    "Printable Characters:\n",
    "\n",
    "letters and symbols, digits, punctuation, Whitespace"
   ]
  },
  {
   "cell_type": "markdown",
   "metadata": {},
   "source": [
    "isspace()\n",
    "\n",
    "Returns true if there are only white space characters in the string. If not, returns false."
   ]
  },
  {
   "cell_type": "code",
   "execution_count": 8,
   "metadata": {},
   "outputs": [
    {
     "name": "stdout",
     "output_type": "stream",
     "text": [
      "yesterday then today then tomorrow\n",
      "<class 'str'>\n"
     ]
    }
   ],
   "source": [
    "L = ['yesterday', 'today', 'tomorrow']\n",
    "x = ' then '.join(L)\n",
    "print(x)\n",
    "print(type(x))"
   ]
  },
  {
   "cell_type": "code",
   "execution_count": 9,
   "metadata": {},
   "outputs": [
    {
     "name": "stdout",
     "output_type": "stream",
     "text": [
      "Hello   World!    17\n",
      "  Hello   World! 16\n",
      "Hello   World! 14\n"
     ]
    }
   ],
   "source": [
    "S = '  Hello   World!   '\n",
    "x = S.lstrip()\n",
    "print(x, len(x)) # removes only leading spaces\n",
    "x = S.rstrip()\n",
    "print(x, len(x)) # removes only trailing spaces\n",
    "x = S.strip()\n",
    "print(x, len(x)) # removes only trailing spaces"
   ]
  },
  {
   "cell_type": "code",
   "execution_count": 10,
   "metadata": {},
   "outputs": [
    {
     "name": "stdout",
     "output_type": "stream",
     "text": [
      "('How are ', 'you', ' How have you been?')\n",
      "('How are you How have ', 'you', ' been?')\n",
      "['How', 'are', 'you', 'How', 'have', 'you', 'been?']\n",
      "['How', 'are', 'you', 'How', 'have', 'you', 'been?']\n"
     ]
    }
   ],
   "source": [
    "S = 'How are you How have you been?'\n",
    "x = S.partition('you') # splits/parts on the basis of this parameter\n",
    "print(x)\n",
    "x = S.rpartition('you') # splits/parts on the basis of last occurence of this parameter\n",
    "print(x)\n",
    "x = S.rsplit()\n",
    "print(x)\n",
    "x = S.split()\n",
    "print(x)"
   ]
  },
  {
   "cell_type": "code",
   "execution_count": 11,
   "metadata": {},
   "outputs": [
    {
     "name": "stdout",
     "output_type": "stream",
     "text": [
      "Hello there there world\n"
     ]
    }
   ],
   "source": [
    "# Replace all occurrences of substring 'WORLD' with 'there'\n",
    "S = 'Hello WORLD WORLD world'\n",
    "x = S.replace('WORLD','there')\n",
    "print(x)"
   ]
  },
  {
   "cell_type": "code",
   "execution_count": 12,
   "metadata": {},
   "outputs": [
    {
     "name": "stdout",
     "output_type": "stream",
     "text": [
      "hELLO wORLD\n"
     ]
    }
   ],
   "source": [
    "S = \"Hello World\"\n",
    "print(S.swapcase())"
   ]
  },
  {
   "cell_type": "code",
   "execution_count": 13,
   "metadata": {},
   "outputs": [
    {
     "name": "stdout",
     "output_type": "stream",
     "text": [
      "Welcome To Scaler\n"
     ]
    }
   ],
   "source": [
    "S1 = 'welcome to scaler'\n",
    "print(S1.title())"
   ]
  },
  {
   "cell_type": "code",
   "execution_count": 14,
   "metadata": {},
   "outputs": [
    {
     "name": "stdout",
     "output_type": "stream",
     "text": [
      "{104: 122}\n",
      "zey, zow are you?\n"
     ]
    }
   ],
   "source": [
    "S = \"hey, how are you?\"\n",
    "x = S.maketrans('h', 'z') # replace all occurrences of 'h' with 'z'\n",
    "print(x)\n",
    "print(S.translate(x))"
   ]
  },
  {
   "cell_type": "markdown",
   "metadata": {},
   "source": [
    "lower()\n",
    "\n",
    "Returns by converting all lowercase characters to uppercase characters.\n",
    "\n",
    "upper()\n",
    "\n",
    "Returns a string by converting each lower case to upper case alphabets."
   ]
  },
  {
   "cell_type": "code",
   "execution_count": 40,
   "metadata": {},
   "outputs": [
    {
     "data": {
      "text/plain": [
       "'0o101'"
      ]
     },
     "execution_count": 40,
     "metadata": {},
     "output_type": "execute_result"
    }
   ],
   "source": [
    "oct(65)"
   ]
  },
  {
   "cell_type": "code",
   "execution_count": 39,
   "metadata": {},
   "outputs": [
    {
     "data": {
      "text/plain": [
       "'0x41'"
      ]
     },
     "execution_count": 39,
     "metadata": {},
     "output_type": "execute_result"
    }
   ],
   "source": [
    "hex(65)"
   ]
  },
  {
   "cell_type": "code",
   "execution_count": 47,
   "metadata": {},
   "outputs": [
    {
     "data": {
      "text/plain": [
       "64"
      ]
     },
     "execution_count": 47,
     "metadata": {},
     "output_type": "execute_result"
    }
   ],
   "source": [
    "2**6"
   ]
  },
  {
   "cell_type": "code",
   "execution_count": 48,
   "metadata": {},
   "outputs": [
    {
     "data": {
      "text/plain": [
       "'0b1000000'"
      ]
     },
     "execution_count": 48,
     "metadata": {},
     "output_type": "execute_result"
    }
   ],
   "source": [
    "bin(64)"
   ]
  },
  {
   "cell_type": "code",
   "execution_count": 28,
   "metadata": {},
   "outputs": [
    {
     "name": "stdout",
     "output_type": "stream",
     "text": [
      "    1     1     1     1\n",
      "    2     2     2    10\n",
      "    3     3     3    11\n",
      "    4     4     4   100\n",
      "    5     5     5   101\n",
      "    6     6     6   110\n",
      "    7     7     7   111\n",
      "    8    10     8  1000\n",
      "    9    11     9  1001\n",
      "   10    12     A  1010\n",
      "   11    13     B  1011\n",
      "   12    14     C  1100\n",
      "   13    15     D  1101\n",
      "   14    16     E  1110\n",
      "   15    17     F  1111\n",
      "   16    20    10 10000\n",
      "   17    21    11 10001\n",
      "   18    22    12 10010\n",
      "   19    23    13 10011\n",
      "   20    24    14 10100\n",
      "   21    25    15 10101\n",
      "   22    26    16 10110\n",
      "   23    27    17 10111\n",
      "   24    30    18 11000\n",
      "   25    31    19 11001\n",
      "   26    32    1A 11010\n",
      "   27    33    1B 11011\n",
      "   28    34    1C 11100\n",
      "   29    35    1D 11101\n",
      "   30    36    1E 11110\n"
     ]
    }
   ],
   "source": [
    "def print_formatted(number):\n",
    "    space = len(bin(number)[2:])\n",
    "    for i in range(1, number + 1):\n",
    "        d = str(i).rjust(space)\n",
    "        o = oct(i)[2:].rjust(space + 1)\n",
    "        h = hex(i).upper()[2:].rjust(space + 1)\n",
    "        b = bin(i)[2:].rjust(space + 1)\n",
    "        print(f'{d}{o}{h}{b}')\n",
    "\n",
    "print_formatted(30)"
   ]
  },
  {
   "cell_type": "code",
   "execution_count": null,
   "metadata": {},
   "outputs": [],
   "source": []
  },
  {
   "cell_type": "code",
   "execution_count": 3,
   "metadata": {},
   "outputs": [
    {
     "name": "stdout",
     "output_type": "stream",
     "text": [
      "Hi, 10101.\n",
      "11100\n"
     ]
    }
   ],
   "source": [
    "name = 10101           # Reading input from STDIN\n",
    "print('Hi, %s.' % name)         # Writing output to STDOUT\n",
    "\n",
    "\n",
    "ones_ = []\n",
    "zeros_ = []\n",
    "for each_digit in str(name):\n",
    "    if each_digit == '1':\n",
    "        ones_.append(each_digit)\n",
    "    else:\n",
    "        zeros_.append(each_digit)\n",
    "        \n",
    "final_lst = ones_+zeros_\n",
    "\n",
    "output_ = \"\".join(final_lst)\n",
    "\n",
    "print(output_)\n",
    "        "
   ]
  },
  {
   "cell_type": "code",
   "execution_count": 7,
   "metadata": {},
   "outputs": [
    {
     "name": "stdout",
     "output_type": "stream",
     "text": [
      "4\n"
     ]
    }
   ],
   "source": [
    "def longest_consecutive_sequence(nums):\n",
    "    if not nums:\n",
    "        return []\n",
    "\n",
    "    current_sequence = [nums[0]]\n",
    "    longest_sequence = [nums[0]]\n",
    "\n",
    "    for i in range(1, len(nums)):\n",
    "        if nums[i] == current_sequence[-1] + 1:\n",
    "            current_sequence.append(nums[i])\n",
    "        else:\n",
    "            # Check if the current sequence is longer than the longest one\n",
    "            if len(current_sequence) > len(longest_sequence):\n",
    "                longest_sequence = current_sequence.copy()\n",
    "            # Start a new sequence\n",
    "            current_sequence = [nums[i]]\n",
    "\n",
    "    # Check one more time in case the longest sequence is at the end of the list\n",
    "    if len(current_sequence) > len(longest_sequence):\n",
    "        longest_sequence = current_sequence\n",
    "\n",
    "    return len(longest_sequence)\n",
    "\n",
    "\n",
    "# Example usage:\n",
    "sorted_numbers = [10, 20, 3, 15, 16, 7, 8,9,10,91, 10, 25]\n",
    "result = longest_consecutive_sequence(sorted_numbers)\n",
    "print(result)"
   ]
  },
  {
   "cell_type": "code",
   "execution_count": 8,
   "metadata": {},
   "outputs": [
    {
     "name": "stdout",
     "output_type": "stream",
     "text": [
      "4\n"
     ]
    }
   ],
   "source": [
    "max_val= 1\n",
    "val_ = []\n",
    "for i in range(len(sorted_numbers)-1):\n",
    "    if sorted_numbers[i+1] == sorted_numbers[i]+1:\n",
    "        max_val+=1\n",
    "    else:\n",
    "        val_.append(max_val)\n",
    "        max_val = 1\n",
    "        \n",
    "print(max(val_))\n",
    "        \n",
    "   "
   ]
  },
  {
   "cell_type": "code",
   "execution_count": 30,
   "metadata": {},
   "outputs": [],
   "source": [
    "def solution(a, m, k):\n",
    "    a_len = len(a)\n",
    "    lp = a_len - m + 1\n",
    "    count = 0\n",
    "\n",
    "    for i in range(lp):\n",
    "        each_arr = a[i: m + i]\n",
    "\n",
    "        arr_len = len(each_arr)\n",
    "        print(each_arr)\n",
    "\n",
    "        for j in range(arr_len):\n",
    "            a_value = each_arr[j]\n",
    "            temp_arr = each_arr[j+1:]\n",
    "\n",
    "            b = k - a_value\n",
    "            print(\"--\",temp_arr,\"-\", a_value,\"+\",b)\n",
    "\n",
    "            if b in temp_arr:\n",
    "                count += 1\n",
    "        print(count)\n",
    "\n",
    "    return count"
   ]
  },
  {
   "cell_type": "code",
   "execution_count": 73,
   "metadata": {},
   "outputs": [],
   "source": [
    "def solution(a, m, k):\n",
    "    a_len = len(a)\n",
    "    lp = a_len - m + 1\n",
    "    count = 0\n",
    "\n",
    "    for i in range(lp):\n",
    "        each_arr = a[i: m + i]\n",
    "\n",
    "        arr_len = len(each_arr)\n",
    "        \n",
    "        \n",
    "\n",
    "        print(each_arr)\n",
    "        for idx,val in enumerate(each_arr):\n",
    "            print(val,\"-\",each_arr[idx+1:])\n",
    "            print()\n",
    "            for j in range(len(each_arr[idx+1:])):\n",
    "                if val + each_arr[idx+j+1] == k:\n",
    "                    count+=1\n",
    "            if len(each_arr[idx+1:]) ==1:\n",
    "                break\n",
    "                      \n",
    "\n",
    "        print(count)\n",
    "\n",
    "    return count"
   ]
  },
  {
   "cell_type": "code",
   "execution_count": 74,
   "metadata": {},
   "outputs": [],
   "source": [
    "a= [2, 4, 7, 5, 3, 5, 8, 5, 1, 7]\n",
    "m= 4\n",
    "k= 10"
   ]
  },
  {
   "cell_type": "code",
   "execution_count": 75,
   "metadata": {},
   "outputs": [
    {
     "name": "stdout",
     "output_type": "stream",
     "text": [
      "[2, 4, 7, 5]\n",
      "2 - [4, 7, 5]\n",
      "\n",
      "4 - [7, 5]\n",
      "\n",
      "7 - [5]\n",
      "\n",
      "0\n",
      "[4, 7, 5, 3]\n",
      "4 - [7, 5, 3]\n",
      "\n",
      "7 - [5, 3]\n",
      "\n",
      "5 - [3]\n",
      "\n",
      "1\n",
      "[7, 5, 3, 5]\n",
      "7 - [5, 3, 5]\n",
      "\n",
      "5 - [3, 5]\n",
      "\n",
      "3 - [5]\n",
      "\n",
      "3\n",
      "[5, 3, 5, 8]\n",
      "5 - [3, 5, 8]\n",
      "\n",
      "3 - [5, 8]\n",
      "\n",
      "5 - [8]\n",
      "\n",
      "4\n",
      "[3, 5, 8, 5]\n",
      "3 - [5, 8, 5]\n",
      "\n",
      "5 - [8, 5]\n",
      "\n",
      "8 - [5]\n",
      "\n",
      "5\n",
      "[5, 8, 5, 1]\n",
      "5 - [8, 5, 1]\n",
      "\n",
      "8 - [5, 1]\n",
      "\n",
      "5 - [1]\n",
      "\n",
      "6\n",
      "[8, 5, 1, 7]\n",
      "8 - [5, 1, 7]\n",
      "\n",
      "5 - [1, 7]\n",
      "\n",
      "1 - [7]\n",
      "\n",
      "6\n"
     ]
    },
    {
     "data": {
      "text/plain": [
       "6"
      ]
     },
     "execution_count": 75,
     "metadata": {},
     "output_type": "execute_result"
    }
   ],
   "source": [
    "solution(a,m,k)"
   ]
  },
  {
   "cell_type": "code",
   "execution_count": 36,
   "metadata": {},
   "outputs": [
    {
     "name": "stdout",
     "output_type": "stream",
     "text": [
      "0 1 2 3 "
     ]
    }
   ],
   "source": [
    "for i in range(4):\n",
    "    print(i, end=\" \")"
   ]
  },
  {
   "cell_type": "code",
   "execution_count": 13,
   "metadata": {},
   "outputs": [
    {
     "name": "stdout",
     "output_type": "stream",
     "text": [
      "<class 'float'>\n"
     ]
    }
   ],
   "source": [
    "x = '1'\n",
    "print(type(float(x)))"
   ]
  }
 ],
 "metadata": {
  "kernelspec": {
   "display_name": "Python 3",
   "language": "python",
   "name": "python3"
  },
  "language_info": {
   "codemirror_mode": {
    "name": "ipython",
    "version": 3
   },
   "file_extension": ".py",
   "mimetype": "text/x-python",
   "name": "python",
   "nbconvert_exporter": "python",
   "pygments_lexer": "ipython3",
   "version": "3.11.5"
  },
  "orig_nbformat": 4
 },
 "nbformat": 4,
 "nbformat_minor": 2
}
