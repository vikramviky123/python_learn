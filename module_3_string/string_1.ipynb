{
 "cells": [
  {
   "cell_type": "markdown",
   "metadata": {},
   "source": [
    "#Working with String"
   ]
  },
  {
   "cell_type": "code",
   "execution_count": 2,
   "metadata": {},
   "outputs": [
    {
     "name": "stdout",
     "output_type": "stream",
     "text": [
      "<class 'str'>\n"
     ]
    }
   ],
   "source": [
    "name = \"Virkam\"\n",
    "print(type(name))"
   ]
  },
  {
   "cell_type": "markdown",
   "metadata": {},
   "source": [
    "##concatenate"
   ]
  },
  {
   "cell_type": "code",
   "execution_count": 3,
   "metadata": {},
   "outputs": [
    {
     "data": {
      "text/plain": [
       "'VirkamReddy'"
      ]
     },
     "execution_count": 3,
     "metadata": {},
     "output_type": "execute_result"
    }
   ],
   "source": [
    "\"Virkam\" + \"Reddy\""
   ]
  },
  {
   "cell_type": "code",
   "execution_count": 8,
   "metadata": {},
   "outputs": [
    {
     "data": {
      "text/plain": [
       "'VirkamVirkamVirkamVirkam'"
      ]
     },
     "execution_count": 8,
     "metadata": {},
     "output_type": "execute_result"
    }
   ],
   "source": [
    "\"Virkam\"*4"
   ]
  },
  {
   "cell_type": "code",
   "execution_count": 12,
   "metadata": {},
   "outputs": [
    {
     "name": "stdout",
     "output_type": "stream",
     "text": [
      "\n",
      "This is to say\n",
      "you can break \n",
      "and view\n",
      "\n"
     ]
    }
   ],
   "source": [
    "z =\"\"\"\n",
    "This is to say\n",
    "you can break \n",
    "and view\n",
    "\"\"\"\n",
    "print(z)"
   ]
  },
  {
   "cell_type": "code",
   "execution_count": 18,
   "metadata": {},
   "outputs": [
    {
     "name": "stdout",
     "output_type": "stream",
     "text": [
      "This is to say you can break and view in single line\n"
     ]
    }
   ],
   "source": [
    "z =\"This is to say \\\n",
    "you can break \\\n",
    "and view in single line\\\n",
    "\"\n",
    "print(z)"
   ]
  },
  {
   "cell_type": "code",
   "execution_count": 4,
   "metadata": {},
   "outputs": [],
   "source": [
    "s = \"\"\"HackerRank.com presents \"Pythonist 2\".\"\"\"\n",
    "temp = \"\"\"\"\"\"\n",
    "for x in s:\n",
    "    if x.isalpha():\n",
    "        if x.islower():\n",
    "            z = x.upper()\n",
    "            temp =str(z)+temp\n",
    "        else:\n",
    "            z = x.lower()\n",
    "            temp =str(z)+temp\n",
    "    else:\n",
    "        temp =str(z)+temp"
   ]
  },
  {
   "cell_type": "code",
   "execution_count": 2,
   "metadata": {},
   "outputs": [
    {
     "name": "stdout",
     "output_type": "stream",
     "text": [
      "Is '(){}[]' valid? True\n",
      "Is '{[]}' valid? True\n",
      "Is '([{}])' valid? True\n",
      "Is '((()))' valid? True\n",
      "Is '([)]' valid? False\n",
      "Is '{[}]' valid? False\n",
      "Is '}[]' valid? False\n"
     ]
    }
   ],
   "source": [
    "def isValid(s):\n",
    "    stack = []\n",
    "    mapping = {')': '(', '}': '{', ']': '['}\n",
    "\n",
    "    for char in s:\n",
    "        if char in mapping:\n",
    "            top_element = stack.pop() if stack else '#'\n",
    "            if mapping[char] != top_element:\n",
    "                return False\n",
    "        else:\n",
    "            stack.append(char)\n",
    "\n",
    "    return not stack\n",
    "\n",
    "\n",
    "# Test cases\n",
    "test_strings = [\"(){}[]\", \"{[]}\", \"([{}])\", \"((()))\", \"([)]\", \"{[}]\",\"}[]\"]\n",
    "\n",
    "for test_str in test_strings:\n",
    "    result = isValid(test_str)\n",
    "    print(f\"Is '{test_str}' valid? {result}\")"
   ]
  },
  {
   "cell_type": "code",
   "execution_count": 6,
   "metadata": {},
   "outputs": [
    {
     "name": "stdout",
     "output_type": "stream",
     "text": [
      "Is '(){}]' valid? False\n"
     ]
    }
   ],
   "source": [
    "def isValid(s):\n",
    "    stack = []\n",
    "    mapping = {')': '(', '}': '{', ']': '['}\n",
    "\n",
    "    for char in s:\n",
    "        if char in mapping:\n",
    "            top_element = stack.pop() if stack else '#'\n",
    "            if mapping[char] != top_element:\n",
    "                return False\n",
    "        else:\n",
    "            stack.append(char)\n",
    "\n",
    "    return not stack\n",
    "\n",
    "\n",
    "# Test cases\n",
    "test_strings = \"(){}]\"\n",
    "# \"{[]}\", \"([{}])\", \"((()))\", \"([)]\", \"{[}]\", \"}[]\"\n",
    "\n",
    "\n",
    "result = isValid(test_strings)\n",
    "print(f\"Is '{test_strings}' valid? {result}\")"
   ]
  }
 ],
 "metadata": {
  "kernelspec": {
   "display_name": "Python 3",
   "language": "python",
   "name": "python3"
  },
  "language_info": {
   "codemirror_mode": {
    "name": "ipython",
    "version": 3
   },
   "file_extension": ".py",
   "mimetype": "text/x-python",
   "name": "python",
   "nbconvert_exporter": "python",
   "pygments_lexer": "ipython3",
   "version": "3.11.5"
  },
  "orig_nbformat": 4
 },
 "nbformat": 4,
 "nbformat_minor": 2
}
