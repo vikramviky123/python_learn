{
 "cells": [
  {
   "cell_type": "markdown",
   "metadata": {},
   "source": [
    "#Working with String Methods"
   ]
  },
  {
   "cell_type": "code",
   "execution_count": 26,
   "metadata": {},
   "outputs": [
    {
     "name": "stdout",
     "output_type": "stream",
     "text": [
      "<class 'str'>\n"
     ]
    }
   ],
   "source": [
    "name = \"virkam reddy is a GOOD Boy a is\"\n",
    "name2 = \"VIKRAM\"\n",
    "print(type(name))"
   ]
  },
  {
   "cell_type": "code",
   "execution_count": 30,
   "metadata": {},
   "outputs": [
    {
     "name": "stdout",
     "output_type": "stream",
     "text": [
      "capitalize -->returns first letter as capital Virkam reddy is a good boy a is\n",
      "casefold -->returns all caps to lower vikram\n",
      "center -->adds char half to left and other to right --VIKRAM--\n",
      "count -->returns total count of a sub strng or character 3 2\n",
      "encode -->returns utf  b'virkam reddy is a GOOD Boy a is'\n"
     ]
    }
   ],
   "source": [
    "print(\"capitalize -->returns first letter as capital\",name.capitalize())\n",
    "print(\"casefold -->returns all caps to lower\",name2.casefold())\n",
    "print(\"center -->adds char half to left and other to right\",name2.center(len(name2)+4,'-'))\n",
    "print(\"count -->returns total count of a sub strng or character\",name.count('a'),name.count('is'))\n",
    "print(\"encode -->returns utf \",name.encode(encoding='UTF-8',errors='strict'))\n"
   ]
  },
  {
   "cell_type": "code",
   "execution_count": 36,
   "metadata": {},
   "outputs": [
    {
     "name": "stdout",
     "output_type": "stream",
     "text": [
      "endsWith -->returns boolean  True True\n",
      "find --> finds the substring  13\n"
     ]
    }
   ],
   "source": [
    "print(\"endsWith -->returns boolean \",name.endswith('is'),name.endswith('s'))\n",
    "print(\"find --> finds the substring \",name.find('is'))\n"
   ]
  },
  {
   "cell_type": "code",
   "execution_count": null,
   "metadata": {},
   "outputs": [],
   "source": []
  }
 ],
 "metadata": {
  "kernelspec": {
   "display_name": "Python 3",
   "language": "python",
   "name": "python3"
  },
  "language_info": {
   "codemirror_mode": {
    "name": "ipython",
    "version": 3
   },
   "file_extension": ".py",
   "mimetype": "text/x-python",
   "name": "python",
   "nbconvert_exporter": "python",
   "pygments_lexer": "ipython3",
   "version": "3.9.13"
  },
  "orig_nbformat": 4
 },
 "nbformat": 4,
 "nbformat_minor": 2
}
