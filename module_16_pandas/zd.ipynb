{
 "cells": [
  {
   "cell_type": "code",
   "execution_count": 2,
   "metadata": {},
   "outputs": [
    {
     "name": "stdout",
     "output_type": "stream",
     "text": [
      "4\n"
     ]
    }
   ],
   "source": [
    "def count_ribbons(a, length):\n",
    "    count = 0\n",
    "    for ribbon in a:\n",
    "        count += ribbon // length\n",
    "    return count\n",
    "\n",
    "\n",
    "def solution(a, k):\n",
    "    left, right = 1, max(a)\n",
    "    result = 0\n",
    "\n",
    "    while left <= right:\n",
    "        mid = (left + right) // 2\n",
    "        if count_ribbons(a, mid) >= k:\n",
    "            result = mid\n",
    "            left = mid + 1\n",
    "        else:\n",
    "            right = mid - 1\n",
    "\n",
    "    return result\n",
    "\n",
    "\n",
    "# Example usage:\n",
    "a = [5, 2, 7, 4, 9]\n",
    "k = 5\n",
    "print(solution(a, k))  # Output: 4"
   ]
  },
  {
   "cell_type": "code",
   "execution_count": 3,
   "metadata": {},
   "outputs": [
    {
     "data": {
      "text/plain": [
       "27"
      ]
     },
     "execution_count": 3,
     "metadata": {},
     "output_type": "execute_result"
    }
   ],
   "source": [
    "sum(a)"
   ]
  },
  {
   "cell_type": "code",
   "execution_count": 1,
   "metadata": {},
   "outputs": [
    {
     "data": {
      "text/plain": [
       "0"
      ]
     },
     "execution_count": 1,
     "metadata": {},
     "output_type": "execute_result"
    }
   ],
   "source": [
    "3//4"
   ]
  },
  {
   "cell_type": "code",
   "execution_count": 6,
   "metadata": {},
   "outputs": [
    {
     "name": "stdout",
     "output_type": "stream",
     "text": [
      "1344\n",
      "88\n",
      "198\n",
      "454594950000\n",
      "CPU times: total: 812 ms\n",
      "Wall time: 861 ms\n"
     ]
    }
   ],
   "source": [
    "%%time\n",
    "def solution(a):\n",
    "    total_sum = 0\n",
    "\n",
    "    for i in a:\n",
    "        for j in a:\n",
    "            num_length = len(str(j))\n",
    "            concatenated = i * (10 ** num_length) + j\n",
    "            total_sum += concatenated\n",
    "\n",
    "    return total_sum\n",
    "\n",
    "\n",
    "# Example usage:\n",
    "print(solution([10, 2]))  # Output: 1344\n",
    "print(solution([8]))      # Output: 88\n",
    "print(solution([1, 2, 3]))  # Output: 198\n",
    "print(solution([x for x in range(1000)])) # Output: 198"
   ]
  },
  {
   "cell_type": "code",
   "execution_count": 7,
   "metadata": {},
   "outputs": [
    {
     "name": "stdout",
     "output_type": "stream",
     "text": [
      "CPU times: total: 0 ns\n",
      "Wall time: 21.8 ms\n"
     ]
    },
    {
     "data": {
      "text/plain": [
       "499999995000"
      ]
     },
     "execution_count": 7,
     "metadata": {},
     "output_type": "execute_result"
    }
   ],
   "source": [
    "%%time\n",
    "def solution(a):\n",
    "    total_sum = 0\n",
    "    max_length = max(len(str(num)) for num in a)\n",
    "\n",
    "    # Precompute powers of 10 up to max_length\n",
    "    powers_of_10 = [10 ** i for i in range(max_length + 1)]\n",
    "\n",
    "    for num in a:\n",
    "        total_sum += num * powers_of_10[max_length] + num\n",
    "\n",
    "    return total_sum\n",
    "\n",
    "# Example usage:\n",
    "# print(solution([10, 2]))  # Output: 1344\n",
    "# print(solution([8]))      # Output: 88\n",
    "# print(solution([1, 2, 3])) # Output: 198\n",
    "solution([x for x in range(10000)])\n"
   ]
  }
 ],
 "metadata": {
  "kernelspec": {
   "display_name": "base",
   "language": "python",
   "name": "python3"
  },
  "language_info": {
   "codemirror_mode": {
    "name": "ipython",
    "version": 3
   },
   "file_extension": ".py",
   "mimetype": "text/x-python",
   "name": "python",
   "nbconvert_exporter": "python",
   "pygments_lexer": "ipython3",
   "version": "3.11.5"
  }
 },
 "nbformat": 4,
 "nbformat_minor": 2
}
