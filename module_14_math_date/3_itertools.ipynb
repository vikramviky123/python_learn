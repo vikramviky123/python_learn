{
 "cells": [
  {
   "cell_type": "markdown",
   "metadata": {},
   "source": [
    "### count, cycle,repeat"
   ]
  },
  {
   "cell_type": "code",
   "execution_count": 1,
   "metadata": {},
   "outputs": [],
   "source": [
    "from itertools import count, cycle,repeat"
   ]
  },
  {
   "cell_type": "code",
   "execution_count": 2,
   "metadata": {},
   "outputs": [
    {
     "name": "stdout",
     "output_type": "stream",
     "text": [
      "5 10 15 "
     ]
    }
   ],
   "source": [
    "for i in count(5,5):\n",
    "    \n",
    "    if i == 20:\n",
    "        break\n",
    "    else:\n",
    "        print(i,end=\" \")"
   ]
  },
  {
   "cell_type": "code",
   "execution_count": 3,
   "metadata": {},
   "outputs": [
    {
     "name": "stdout",
     "output_type": "stream",
     "text": [
      "A B   B C A B   B C A B   B C A B   B C A "
     ]
    }
   ],
   "source": [
    "count = 0\n",
    "\n",
    "for i in cycle(\"AB BC\"):\n",
    "    if count>20:\n",
    "        break\n",
    "    else:\n",
    "        print(i,end=\" \")\n",
    "        count+=1\n",
    "        \n"
   ]
  },
  {
   "cell_type": "code",
   "execution_count": 4,
   "metadata": {},
   "outputs": [
    {
     "name": "stdout",
     "output_type": "stream",
     "text": [
      "Geeks for Geeks Geeks for Geeks Geeks for Geeks Geeks "
     ]
    }
   ],
   "source": [
    "l = ['Geeks', 'for', 'Geeks']\n",
    "# defining iterator\n",
    "iters = cycle(l)\n",
    " \n",
    "# for in loop\n",
    "for i in range(10):\n",
    " \n",
    "    # Using next function\n",
    "    print(next(iters), end=\" \")"
   ]
  },
  {
   "cell_type": "code",
   "execution_count": 5,
   "metadata": {},
   "outputs": [
    {
     "name": "stdout",
     "output_type": "stream",
     "text": [
      "Printing the numbers repeatedly : \n",
      "[25, 25, 25, 25]\n"
     ]
    }
   ],
   "source": [
    "print(\"Printing the numbers repeatedly : \")\n",
    "print(list(repeat(25, 4)))"
   ]
  },
  {
   "cell_type": "markdown",
   "metadata": {},
   "source": [
    "### Product"
   ]
  },
  {
   "cell_type": "code",
   "execution_count": 6,
   "metadata": {},
   "outputs": [
    {
     "name": "stdout",
     "output_type": "stream",
     "text": [
      "The cartesian product using repeat:\n",
      "[(1, 1), (1, 2), (2, 1), (2, 2)]\n",
      "\n",
      "The cartesian product of the containers:\n",
      "[('geeks', '2'), ('for', '2'), ('geeks', '2')]\n",
      "\n",
      "The cartesian product of the containers:\n",
      "[('A', 3), ('A', 4), ('B', 3), ('B', 4)]\n"
     ]
    }
   ],
   "source": [
    "\n",
    "# import the product function from itertools module\n",
    "from itertools import product\n",
    " \n",
    "print(\"The cartesian product using repeat:\")\n",
    "print(list(product([1, 2], repeat=2)))\n",
    "print()\n",
    " \n",
    "print(\"The cartesian product of the containers:\")\n",
    "print(list(product(['geeks', 'for', 'geeks'], '2')))\n",
    "print()\n",
    " \n",
    "print(\"The cartesian product of the containers:\")\n",
    "print(list(product('AB', [3, 4])))"
   ]
  },
  {
   "cell_type": "code",
   "execution_count": 9,
   "metadata": {},
   "outputs": [
    {
     "name": "stdout",
     "output_type": "stream",
     "text": [
      "[(1, 5, 8), (1, 5, 7), (1, 5, 9), (1, 5, 4), (1, 5, 5), (1, 6, 8), (1, 6, 7), (1, 6, 9), (1, 6, 4), (1, 6, 5), (1, 8, 8), (1, 8, 7), (1, 8, 9), (1, 8, 4), (1, 8, 5), (1, 4, 8), (1, 4, 7), (1, 4, 9), (1, 4, 4), (1, 4, 5), (1, 6, 8), (1, 6, 7), (1, 6, 9), (1, 6, 4), (1, 6, 5), (2, 5, 8), (2, 5, 7), (2, 5, 9), (2, 5, 4), (2, 5, 5), (2, 6, 8), (2, 6, 7), (2, 6, 9), (2, 6, 4), (2, 6, 5), (2, 8, 8), (2, 8, 7), (2, 8, 9), (2, 8, 4), (2, 8, 5), (2, 4, 8), (2, 4, 7), (2, 4, 9), (2, 4, 4), (2, 4, 5), (2, 6, 8), (2, 6, 7), (2, 6, 9), (2, 6, 4), (2, 6, 5), (3, 5, 8), (3, 5, 7), (3, 5, 9), (3, 5, 4), (3, 5, 5), (3, 6, 8), (3, 6, 7), (3, 6, 9), (3, 6, 4), (3, 6, 5), (3, 8, 8), (3, 8, 7), (3, 8, 9), (3, 8, 4), (3, 8, 5), (3, 4, 8), (3, 4, 7), (3, 4, 9), (3, 4, 4), (3, 4, 5), (3, 6, 8), (3, 6, 7), (3, 6, 9), (3, 6, 4), (3, 6, 5), (4, 5, 8), (4, 5, 7), (4, 5, 9), (4, 5, 4), (4, 5, 5), (4, 6, 8), (4, 6, 7), (4, 6, 9), (4, 6, 4), (4, 6, 5), (4, 8, 8), (4, 8, 7), (4, 8, 9), (4, 8, 4), (4, 8, 5), (4, 4, 8), (4, 4, 7), (4, 4, 9), (4, 4, 4), (4, 4, 5), (4, 6, 8), (4, 6, 7), (4, 6, 9), (4, 6, 4), (4, 6, 5), (5, 5, 8), (5, 5, 7), (5, 5, 9), (5, 5, 4), (5, 5, 5), (5, 6, 8), (5, 6, 7), (5, 6, 9), (5, 6, 4), (5, 6, 5), (5, 8, 8), (5, 8, 7), (5, 8, 9), (5, 8, 4), (5, 8, 5), (5, 4, 8), (5, 4, 7), (5, 4, 9), (5, 4, 4), (5, 4, 5), (5, 6, 8), (5, 6, 7), (5, 6, 9), (5, 6, 4), (5, 6, 5)]\n"
     ]
    }
   ],
   "source": [
    "a = [1,2,3,4,5]\n",
    "b = [5,6,8,4,6]\n",
    "c = [8,7,9,4,5]\n",
    "print(list(product(a,b,c)))"
   ]
  },
  {
   "cell_type": "code",
   "execution_count": 11,
   "metadata": {},
   "outputs": [
    {
     "name": "stdout",
     "output_type": "stream",
     "text": [
      "[(1, 5, 8), (1, 5, 7), (1, 5, 9), (1, 5, 4), (1, 5, 5), (1, 6, 8), (1, 6, 7), (1, 6, 9), (1, 6, 4), (1, 6, 5), (1, 8, 8), (1, 8, 7), (1, 8, 9), (1, 8, 4), (1, 8, 5), (1, 4, 8), (1, 4, 7), (1, 4, 9), (1, 4, 4), (1, 4, 5), (1, 6, 8), (1, 6, 7), (1, 6, 9), (1, 6, 4), (1, 6, 5), (2, 5, 8), (2, 5, 7), (2, 5, 9), (2, 5, 4), (2, 5, 5), (2, 6, 8), (2, 6, 7), (2, 6, 9), (2, 6, 4), (2, 6, 5), (2, 8, 8), (2, 8, 7), (2, 8, 9), (2, 8, 4), (2, 8, 5), (2, 4, 8), (2, 4, 7), (2, 4, 9), (2, 4, 4), (2, 4, 5), (2, 6, 8), (2, 6, 7), (2, 6, 9), (2, 6, 4), (2, 6, 5), (3, 5, 8), (3, 5, 7), (3, 5, 9), (3, 5, 4), (3, 5, 5), (3, 6, 8), (3, 6, 7), (3, 6, 9), (3, 6, 4), (3, 6, 5), (3, 8, 8), (3, 8, 7), (3, 8, 9), (3, 8, 4), (3, 8, 5), (3, 4, 8), (3, 4, 7), (3, 4, 9), (3, 4, 4), (3, 4, 5), (3, 6, 8), (3, 6, 7), (3, 6, 9), (3, 6, 4), (3, 6, 5), (4, 5, 8), (4, 5, 7), (4, 5, 9), (4, 5, 4), (4, 5, 5), (4, 6, 8), (4, 6, 7), (4, 6, 9), (4, 6, 4), (4, 6, 5), (4, 8, 8), (4, 8, 7), (4, 8, 9), (4, 8, 4), (4, 8, 5), (4, 4, 8), (4, 4, 7), (4, 4, 9), (4, 4, 4), (4, 4, 5), (4, 6, 8), (4, 6, 7), (4, 6, 9), (4, 6, 4), (4, 6, 5), (5, 5, 8), (5, 5, 7), (5, 5, 9), (5, 5, 4), (5, 5, 5), (5, 6, 8), (5, 6, 7), (5, 6, 9), (5, 6, 4), (5, 6, 5), (5, 8, 8), (5, 8, 7), (5, 8, 9), (5, 8, 4), (5, 8, 5), (5, 4, 8), (5, 4, 7), (5, 4, 9), (5, 4, 4), (5, 4, 5), (5, 6, 8), (5, 6, 7), (5, 6, 9), (5, 6, 4), (5, 6, 5)]\n"
     ]
    }
   ],
   "source": [
    "a = [[1,2,3,4,5],\n",
    " [5,6,8,4,6],\n",
    " [8,7,9,4,5]]\n",
    "print(list(product(*a)))"
   ]
  },
  {
   "cell_type": "markdown",
   "metadata": {},
   "source": [
    "### Permurtations"
   ]
  },
  {
   "cell_type": "code",
   "execution_count": 8,
   "metadata": {},
   "outputs": [
    {
     "name": "stdout",
     "output_type": "stream",
     "text": [
      "All the permutations of the given list is:\n",
      "[(1, 2), (1, 3), (2, 1), (2, 3), (3, 1), (3, 2)]\n",
      "[('A', 'B'), ('B', 'A')]\n",
      "\n",
      "All the permutations of the given string is:\n",
      "[('A', 'B'), ('B', 'A')]\n",
      "\n",
      "All the permutations of the given container is:\n",
      "[(0, 1, 2), (0, 1, 3), (0, 2, 1), (0, 2, 3), (0, 3, 1), (0, 3, 2), (1, 0, 2), (1, 0, 3), (1, 2, 0), (1, 2, 3), (1, 3, 0), (1, 3, 2), (2, 0, 1), (2, 0, 3), (2, 1, 0), (2, 1, 3), (2, 3, 0), (2, 3, 1), (3, 0, 1), (3, 0, 2), (3, 1, 0), (3, 1, 2), (3, 2, 0), (3, 2, 1)]\n",
      "[(0, 1, 2), (0, 1, 3), (0, 2, 3), (1, 2, 3)]\n"
     ]
    }
   ],
   "source": [
    "\n",
    "# import the product function from itertools module\n",
    "from itertools import permutations, combinations\n",
    " \n",
    "print(\"All the permutations of the given list is:\")\n",
    "print(list(permutations([1, 2,3], 2,)))\n",
    "print(list(permutations(\"AB\", 2)))\n",
    "print()\n",
    " \n",
    "print(\"All the permutations of the given string is:\")\n",
    "print(list(permutations('AB')))\n",
    "print()\n",
    " \n",
    "print(\"All the permutations of the given container is:\")\n",
    "print(list(permutations(range(4), 3)))\n",
    "print(list(combinations(range(4), 3)))"
   ]
  },
  {
   "cell_type": "markdown",
   "metadata": {},
   "source": [
    "### Combiations"
   ]
  },
  {
   "cell_type": "code",
   "execution_count": 44,
   "metadata": {},
   "outputs": [
    {
     "name": "stdout",
     "output_type": "stream",
     "text": [
      "All the combination of list in sorted order(without replacement) is:\n",
      "[('A', 2)]\n",
      "[('A', 'B')]\n",
      "\n",
      "All the combination of string in sorted order(without replacement) is:\n",
      "[('A', 'B', 'C'), ('A', 'B', 'D'), ('A', 'C', 'D'), ('B', 'C', 'D')]\n",
      "[('H', 'A'), ('H', 'C'), ('H', 'K'), ('A', 'C'), ('A', 'K'), ('C', 'K')]\n",
      "\n",
      "All the combination of list in sorted order(without replacement) is:\n",
      "[(0,), (1,)]\n"
     ]
    }
   ],
   "source": [
    "from itertools import combinations\n",
    "   \n",
    "print (\"All the combination of list in sorted order(without replacement) is:\") \n",
    "print(list(combinations(['A', 2], 2)))\n",
    "print(list(combinations(\"AB\", 2)))\n",
    "print()\n",
    "   \n",
    "print (\"All the combination of string in sorted order(without replacement) is:\")\n",
    "print(list(combinations('ABCD', 3)))\n",
    "print(list(combinations('HACK', 2)))\n",
    "print()\n",
    "   \n",
    "print (\"All the combination of list in sorted order(without replacement) is:\")\n",
    "print(list(combinations(range(2), 1)))"
   ]
  },
  {
   "cell_type": "code",
   "execution_count": 45,
   "metadata": {},
   "outputs": [
    {
     "name": "stdout",
     "output_type": "stream",
     "text": [
      "All the combination of string in sorted order(with replacement) is:\n",
      "[('A', 'A'), ('A', 'B'), ('B', 'B')]\n",
      "[('A', 'B')]\n",
      "[('A', 'B'), ('B', 'A')]\n",
      "\n",
      "All the combination of list in sorted order(with replacement) is:\n",
      "[(1, 1), (1, 2), (2, 2)]\n",
      "\n",
      "All the combination of container in sorted order(with replacement) is:\n",
      "[(0,), (1,)]\n"
     ]
    }
   ],
   "source": [
    "\n",
    "# import combinations from itertools module\n",
    " \n",
    "from itertools import combinations_with_replacement\n",
    " \n",
    "print(\"All the combination of string in sorted order(with replacement) is:\")\n",
    "print(list(combinations_with_replacement(\"AB\", 2)))\n",
    "print(list(combinations(\"AB\", 2)))\n",
    "print(list(permutations(\"AB\", 2)))\n",
    "print()\n",
    " \n",
    "print(\"All the combination of list in sorted order(with replacement) is:\")\n",
    "print(list(combinations_with_replacement([1, 2], 2)))\n",
    "print()\n",
    " \n",
    "print(\"All the combination of container in sorted order(with replacement) is:\")\n",
    "print(list(combinations_with_replacement(range(2), 1)))"
   ]
  }
 ],
 "metadata": {
  "kernelspec": {
   "display_name": "Python 3",
   "language": "python",
   "name": "python3"
  },
  "language_info": {
   "codemirror_mode": {
    "name": "ipython",
    "version": 3
   },
   "file_extension": ".py",
   "mimetype": "text/x-python",
   "name": "python",
   "nbconvert_exporter": "python",
   "pygments_lexer": "ipython3",
   "version": "3.9.13"
  },
  "orig_nbformat": 4
 },
 "nbformat": 4,
 "nbformat_minor": 2
}
