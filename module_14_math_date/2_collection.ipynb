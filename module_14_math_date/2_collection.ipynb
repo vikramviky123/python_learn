{
 "cells": [
  {
   "cell_type": "markdown",
   "metadata": {},
   "source": [
    "#Collections\n",
    "\n",
    "There are different containers which comes under collections module:\n",
    "\n",
    "* namedtuple()\n",
    "* OrderedDict()\n",
    "* defaultdict()\n",
    "* Counter()\n",
    "* deque()\n",
    "* Chainmap"
   ]
  },
  {
   "cell_type": "code",
   "execution_count": 21,
   "metadata": {},
   "outputs": [
    {
     "name": "stdout",
     "output_type": "stream",
     "text": [
      "['Scaler', 'Scaler', 'Scaler']\n",
      "45\n",
      "Python\n"
     ]
    }
   ],
   "source": [
    "# Importing the namedtuple\n",
    "from collections import namedtuple\n",
    "\n",
    "# Defining the name of the object and positions for the object\n",
    "nameTup = namedtuple('nameTup', 'value1, value2, value3')  \n",
    "myTuple = nameTup(['Scaler','Scaler','Scaler'], [1,2,3,4,5,6,7,8,9], 'Python')  \n",
    "\n",
    "\n",
    "# Printing the values\n",
    "print(myTuple.value1)\n",
    "print(sum(myTuple.value2))\n",
    "print(myTuple.value3)\n"
   ]
  },
  {
   "cell_type": "code",
   "execution_count": 22,
   "metadata": {},
   "outputs": [
    {
     "name": "stdout",
     "output_type": "stream",
     "text": [
      "Scaler Scaler Scaler\n"
     ]
    }
   ],
   "source": [
    "data = ['Scaler','Scaler','Scaler']\n",
    "print(*data)"
   ]
  },
  {
   "cell_type": "code",
   "execution_count": 2,
   "metadata": {},
   "outputs": [
    {
     "name": "stdout",
     "output_type": "stream",
     "text": [
      "John\n",
      "30\n"
     ]
    }
   ],
   "source": [
    "from collections import namedtuple\n",
    "\n",
    "Person = namedtuple('Person', ['name', 'age', 'gender'])\n",
    "person = Person(name='John', age=30, gender='Male')\n",
    "\n",
    "print(person.name)  # Output: 'John'\n",
    "print(person.age)   # Output: 30\n"
   ]
  },
  {
   "cell_type": "code",
   "execution_count": 16,
   "metadata": {},
   "outputs": [
    {
     "name": "stdout",
     "output_type": "stream",
     "text": [
      "('python', ['awesome', 'language'])\n",
      "('something-else', ['not relevant'])\n",
      "<class 'collections.defaultdict'>\n"
     ]
    }
   ],
   "source": [
    "from collections import defaultdict\n",
    "d = defaultdict(list)\n",
    "d['python'].append(\"awesome\")\n",
    "d['something-else'].append(\"not relevant\")\n",
    "d['python'].append(\"language\")\n",
    "for i in d.items():\n",
    "    print(i)\n",
    "print(type(d))"
   ]
  },
  {
   "cell_type": "markdown",
   "metadata": {},
   "source": [
    "#counter"
   ]
  },
  {
   "cell_type": "code",
   "execution_count": 6,
   "metadata": {},
   "outputs": [
    {
     "name": "stdout",
     "output_type": "stream",
     "text": [
      "Counter({1: 5, 2: 2, 3: 2, 4: 1})\n"
     ]
    }
   ],
   "source": [
    "# Importing the Counter\n",
    "from collections import Counter  \n",
    "\n",
    "# Making a list\n",
    "l = [1,1,1,1,1,2,2,3,3,4]  \n",
    "\n",
    "# Making the counter Object\n",
    "c = Counter(l)  \n",
    "print(c)   \n"
   ]
  },
  {
   "cell_type": "code",
   "execution_count": 7,
   "metadata": {},
   "outputs": [
    {
     "data": {
      "text/plain": [
       "Counter({1: 4, 2: 2, 3: 2, 4: 1})"
      ]
     },
     "execution_count": 7,
     "metadata": {},
     "output_type": "execute_result"
    }
   ],
   "source": [
    "c[1] = c[1] - 1\n",
    "c"
   ]
  },
  {
   "cell_type": "code",
   "execution_count": 2,
   "metadata": {},
   "outputs": [
    {
     "name": "stdout",
     "output_type": "stream",
     "text": [
      "1 5\n",
      "2 2\n",
      "3 2\n",
      "4 1\n"
     ]
    }
   ],
   "source": [
    "for keys,values in c.items():\n",
    "    print(keys,values)"
   ]
  },
  {
   "cell_type": "code",
   "execution_count": 4,
   "metadata": {},
   "outputs": [
    {
     "name": "stdout",
     "output_type": "stream",
     "text": [
      "Counter({'a': 5, 'b': 4, 'c': 3})\n"
     ]
    }
   ],
   "source": [
    "# Importing the Counter\n",
    "from collections import Counter  \n",
    "\n",
    "# Making a list\n",
    "stringList = ['a', 'b', 'c', 'c', 'c', 'b', 'b', 'b', 'a', 'a', 'a', 'a']  \n",
    "\n",
    "# Making the counter Object\n",
    "c = Counter(stringList)  \n",
    "print(c)   \n"
   ]
  },
  {
   "cell_type": "code",
   "execution_count": null,
   "metadata": {},
   "outputs": [],
   "source": []
  },
  {
   "cell_type": "code",
   "execution_count": null,
   "metadata": {},
   "outputs": [],
   "source": []
  },
  {
   "cell_type": "code",
   "execution_count": 4,
   "metadata": {},
   "outputs": [
    {
     "name": "stdout",
     "output_type": "stream",
     "text": [
      "{'cross': 10}\n"
     ]
    }
   ],
   "source": [
    "from typing import List\n",
    "nw_dict = {\"cross\":List}\n",
    "nw_dict[\"cross\"] = 10\n",
    "print(nw_dict)"
   ]
  },
  {
   "cell_type": "code",
   "execution_count": 10,
   "metadata": {},
   "outputs": [
    {
     "data": {
      "text/plain": [
       "120"
      ]
     },
     "execution_count": 10,
     "metadata": {},
     "output_type": "execute_result"
    }
   ],
   "source": [
    "def factorial(n):\n",
    "    if n==1:\n",
    "        return 1\n",
    "    return n*factorial(n-1)\n",
    "factorial(5)"
   ]
  },
  {
   "cell_type": "code",
   "execution_count": 11,
   "metadata": {},
   "outputs": [
    {
     "name": "stdout",
     "output_type": "stream",
     "text": [
      "[(1, 9), (1, 7), (1, 6), (2, 9), (2, 7), (2, 6), (3, 9), (3, 7), (3, 6)]\n"
     ]
    }
   ],
   "source": [
    "A = [[1,2,3],[9,7,6]]\n",
    "nw_lst = []\n",
    "for i in range(len(A[0])):\n",
    "    for j in range(len(A[1])):\n",
    "        val_ = (A[0][i],A[1][j])\n",
    "        #print(val_)\n",
    "        nw_lst.append(val_)\n",
    "print(nw_lst)"
   ]
  },
  {
   "cell_type": "code",
   "execution_count": 12,
   "metadata": {},
   "outputs": [
    {
     "name": "stdout",
     "output_type": "stream",
     "text": [
      "[(1, 9), (1, 7), (1, 6), (2, 9), (2, 7), (2, 6), (3, 9), (3, 7), (3, 6)]\n"
     ]
    }
   ],
   "source": [
    "def generate_pairs_recursive(A, i=0, j=0, pairs=[]):\n",
    "    if i >= len(A[0]):\n",
    "        return pairs\n",
    "    \n",
    "    val_ = (A[0][i], A[1][j])\n",
    "    pairs.append(val_)\n",
    "    \n",
    "    if j < len(A[1]) - 1:\n",
    "        return generate_pairs_recursive(A, i, j+1, pairs)\n",
    "    elif i < len(A[0]) - 1:\n",
    "        return generate_pairs_recursive(A, i+1, 0, pairs)\n",
    "    else:\n",
    "        return pairs\n",
    "\n",
    "A = [[1, 2, 3], [9, 7, 6]]\n",
    "nw_lst = generate_pairs_recursive(A)\n",
    "print(nw_lst)\n"
   ]
  },
  {
   "cell_type": "code",
   "execution_count": null,
   "metadata": {},
   "outputs": [],
   "source": []
  },
  {
   "cell_type": "code",
   "execution_count": null,
   "metadata": {},
   "outputs": [],
   "source": []
  }
 ],
 "metadata": {
  "kernelspec": {
   "display_name": "Python 3",
   "language": "python",
   "name": "python3"
  },
  "language_info": {
   "codemirror_mode": {
    "name": "ipython",
    "version": 3
   },
   "file_extension": ".py",
   "mimetype": "text/x-python",
   "name": "python",
   "nbconvert_exporter": "python",
   "pygments_lexer": "ipython3",
   "version": "3.9.13"
  },
  "orig_nbformat": 4
 },
 "nbformat": 4,
 "nbformat_minor": 2
}
