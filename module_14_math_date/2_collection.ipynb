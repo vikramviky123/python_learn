{
 "cells": [
  {
   "cell_type": "markdown",
   "metadata": {},
   "source": [
    "#Collections\n",
    "\n",
    "There are different containers which comes under collections module:\n",
    "\n",
    "* namedtuple()\n",
    "* OrderedDict()\n",
    "* defaultdict()\n",
    "* Counter()\n",
    "* deque()\n",
    "* Chainmap"
   ]
  },
  {
   "cell_type": "code",
   "execution_count": 1,
   "metadata": {},
   "outputs": [
    {
     "name": "stdout",
     "output_type": "stream",
     "text": [
      "Scaler\n",
      "Topics\n",
      "Python\n"
     ]
    }
   ],
   "source": [
    "# Importing the namedtuple\n",
    "from collections import namedtuple\n",
    "\n",
    "# Defining the name of the object and positions for the object\n",
    "nameTup = namedtuple('nameTup', 'value1, value2, value3')  \n",
    "myTuple = nameTup('Scaler', 'Topics', 'Python')  \n",
    "\n",
    "# Printing the values\n",
    "print(myTuple.value1)\n",
    "print(myTuple.value2)\n",
    "print(myTuple.value3)\n"
   ]
  },
  {
   "cell_type": "code",
   "execution_count": 2,
   "metadata": {},
   "outputs": [
    {
     "name": "stdout",
     "output_type": "stream",
     "text": [
      "John\n",
      "30\n"
     ]
    }
   ],
   "source": [
    "from collections import namedtuple\n",
    "\n",
    "Person = namedtuple('Person', ['name', 'age', 'gender'])\n",
    "person = Person(name='John', age=30, gender='Male')\n",
    "\n",
    "print(person.name)  # Output: 'John'\n",
    "print(person.age)   # Output: 30\n"
   ]
  },
  {
   "cell_type": "markdown",
   "metadata": {},
   "source": [
    "#counter"
   ]
  },
  {
   "cell_type": "code",
   "execution_count": 16,
   "metadata": {},
   "outputs": [
    {
     "name": "stdout",
     "output_type": "stream",
     "text": [
      "Counter({1: 5, 2: 2, 3: 2, 4: 1})\n"
     ]
    }
   ],
   "source": [
    "# Importing the Counter\n",
    "from collections import Counter  \n",
    "\n",
    "# Making a list\n",
    "l = [1,1,1,1,1,2,2,3,3,4]  \n",
    "\n",
    "# Making the counter Object\n",
    "c = Counter(l)  \n",
    "print(c)   \n"
   ]
  },
  {
   "cell_type": "code",
   "execution_count": 13,
   "metadata": {},
   "outputs": [
    {
     "name": "stdout",
     "output_type": "stream",
     "text": [
      "Counter({'a': 5, 'b': 4, 'c': 3})\n"
     ]
    }
   ],
   "source": [
    "# Importing the Counter\n",
    "from collections import Counter  \n",
    "\n",
    "# Making a list\n",
    "stringList = ['a', 'b', 'c', 'c', 'c', 'b', 'b', 'b', 'a', 'a', 'a', 'a']  \n",
    "\n",
    "# Making the counter Object\n",
    "c = Counter(stringList)  \n",
    "print(c)   \n"
   ]
  },
  {
   "cell_type": "code",
   "execution_count": null,
   "metadata": {},
   "outputs": [],
   "source": []
  }
 ],
 "metadata": {
  "kernelspec": {
   "display_name": "Python 3",
   "language": "python",
   "name": "python3"
  },
  "language_info": {
   "codemirror_mode": {
    "name": "ipython",
    "version": 3
   },
   "file_extension": ".py",
   "mimetype": "text/x-python",
   "name": "python",
   "nbconvert_exporter": "python",
   "pygments_lexer": "ipython3",
   "version": "3.9.13"
  },
  "orig_nbformat": 4
 },
 "nbformat": 4,
 "nbformat_minor": 2
}
