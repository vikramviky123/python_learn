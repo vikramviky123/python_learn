{
 "cells": [
  {
   "cell_type": "code",
   "execution_count": null,
   "metadata": {},
   "outputs": [],
   "source": []
  },
  {
   "cell_type": "markdown",
   "metadata": {},
   "source": [
    "#Loops"
   ]
  },
  {
   "cell_type": "markdown",
   "metadata": {},
   "source": [
    "Conditional\n",
    "* for\n",
    "* while\n"
   ]
  },
  {
   "cell_type": "code",
   "execution_count": 2,
   "metadata": {},
   "outputs": [
    {
     "name": "stdout",
     "output_type": "stream",
     "text": [
      "the value of i at this moment is : 0\n",
      "the value of i at this moment is : 1\n",
      "the value of i at this moment is : 2\n",
      "the value of i at this moment is : 3\n",
      "the value of i at this moment is : 4\n",
      "the value of i at this moment is : 5\n",
      "the value of i at this moment is : 6\n",
      "the value of i at this moment is : 7\n",
      "the value of i at this moment is : 8\n",
      "the value of i at this moment is : 9\n"
     ]
    }
   ],
   "source": [
    "for i in range(10):\n",
    "    print(\"the value of i at this moment is :\",i)"
   ]
  },
  {
   "cell_type": "code",
   "execution_count": 8,
   "metadata": {},
   "outputs": [
    {
     "name": "stdout",
     "output_type": "stream",
     "text": [
      "1573844642384\n",
      "1573844642704\n",
      "1573844643024\n",
      "1573844643344\n",
      "1573844643664\n",
      "1573844832464\n",
      "1573844832784\n",
      "1573844833104\n",
      "1573844833424\n",
      "1573844833744\n"
     ]
    }
   ],
   "source": [
    "x = 10\n",
    "while x <= 100:\n",
    "    print(id(x))\n",
    "    x+=10"
   ]
  },
  {
   "cell_type": "code",
   "execution_count": 18,
   "metadata": {},
   "outputs": [
    {
     "name": "stdout",
     "output_type": "stream",
     "text": [
      "1573844834064\n"
     ]
    }
   ],
   "source": [
    "print(id(x))"
   ]
  },
  {
   "cell_type": "code",
   "execution_count": 19,
   "metadata": {},
   "outputs": [],
   "source": [
    "y=1573844834064"
   ]
  },
  {
   "cell_type": "code",
   "execution_count": 24,
   "metadata": {},
   "outputs": [
    {
     "name": "stdout",
     "output_type": "stream",
     "text": [
      "1573928501680\n"
     ]
    }
   ],
   "source": [
    "print(id(y))"
   ]
  },
  {
   "cell_type": "code",
   "execution_count": null,
   "metadata": {},
   "outputs": [],
   "source": []
  }
 ],
 "metadata": {
  "kernelspec": {
   "display_name": "Python 3",
   "language": "python",
   "name": "python3"
  },
  "language_info": {
   "codemirror_mode": {
    "name": "ipython",
    "version": 3
   },
   "file_extension": ".py",
   "mimetype": "text/x-python",
   "name": "python",
   "nbconvert_exporter": "python",
   "pygments_lexer": "ipython3",
   "version": "3.9.13"
  },
  "orig_nbformat": 4
 },
 "nbformat": 4,
 "nbformat_minor": 2
}
